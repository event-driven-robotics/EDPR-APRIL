{
 "cells": [
  {
   "cell_type": "code",
   "execution_count": null,
   "metadata": {},
   "outputs": [],
   "source": [
    "%load_ext autoreload\n",
    "%autoreload 2\n",
    "import os\n",
    "import numpy as np\n",
    "\n",
    "import src.utils as utils"
   ]
  },
  {
   "cell_type": "code",
   "execution_count": null,
   "metadata": {},
   "outputs": [],
   "source": [
    "scales = np.array([1.0, 0.8, 0.5, 0.3])\n",
    "dataset_tres = 0.01\n",
    "base_thresh = 8\n",
    "\n",
    "scales2 = np.linspace(1.0, 0.2, 20)"
   ]
  },
  {
   "cell_type": "code",
   "execution_count": null,
   "metadata": {},
   "outputs": [],
   "source": [
    "sequence_name = \"s1_v1\"\n",
    "path = os.path.join(\"/home/schiavazza/data/hpe/fault_button/osai/fault_button\", sequence_name)\n",
    "\n",
    "plotter = utils.Plotter(path)\n",
    "plotter.plot_roi_scale(base_thresh, dataset_tres, scales, sequence_name)\n",
    "plotter.test_scales(base_thresh, scales2, dataset_tres)"
   ]
  },
  {
   "cell_type": "code",
   "execution_count": null,
   "metadata": {},
   "outputs": [],
   "source": [
    "sequence_name = \"s1_v2\"\n",
    "path = os.path.join(\"/home/schiavazza/data/hpe/fault_button/osai/fault_button\", sequence_name)\n",
    "\n",
    "plotter = utils.Plotter(path)\n",
    "plotter.plot_roi_scale(base_thresh, dataset_tres, scales, sequence_name)\n",
    "plotter.test_scales(base_thresh, scales2, dataset_tres)"
   ]
  },
  {
   "cell_type": "code",
   "execution_count": null,
   "metadata": {},
   "outputs": [],
   "source": [
    "sequence_name = \"s2_v1\"\n",
    "path = os.path.join(\"/home/schiavazza/data/hpe/fault_button/osai/fault_button\", sequence_name)\n",
    "\n",
    "plotter = utils.Plotter(path)\n",
    "plotter.plot_roi_scale(base_thresh, dataset_tres, scales, sequence_name)\n",
    "plotter.test_scales(base_thresh, scales2, dataset_tres)"
   ]
  },
  {
   "cell_type": "code",
   "execution_count": null,
   "metadata": {},
   "outputs": [],
   "source": [
    "sequence_name = \"s2_v2\"\n",
    "path = os.path.join(\"/home/schiavazza/data/hpe/fault_button/osai/fault_button\", sequence_name)\n",
    "\n",
    "plotter = utils.Plotter(path)\n",
    "plotter.plot_roi_scale(base_thresh, dataset_tres, scales, sequence_name)\n",
    "plotter.test_scales(base_thresh, scales2, dataset_tres)"
   ]
  },
  {
   "cell_type": "code",
   "execution_count": null,
   "metadata": {},
   "outputs": [],
   "source": [
    "sequence_name = \"button4\"\n",
    "path = os.path.join(\"/home/schiavazza/data/hpe/fault_button/binary/long\", sequence_name)\n",
    "\n",
    "plotter = utils.Plotter(path)\n",
    "plotter.plot_roi_scale(base_thresh, dataset_tres, scales, sequence_name)\n",
    "plotter.test_scales(base_thresh, scales2, dataset_tres)"
   ]
  },
  {
   "cell_type": "code",
   "execution_count": null,
   "metadata": {},
   "outputs": [],
   "source": [
    "sequence_name = \"button3\"\n",
    "path = os.path.join(\"/home/schiavazza/data/hpe/fault_button/binary/long\", sequence_name)\n",
    "\n",
    "plotter = utils.Plotter(path)\n",
    "plotter.plot_roi_scale(base_thresh, dataset_tres, scales, sequence_name)\n",
    "plotter.test_scales(base_thresh, scales2, dataset_tres)"
   ]
  },
  {
   "cell_type": "code",
   "execution_count": null,
   "metadata": {},
   "outputs": [],
   "source": [
    "sequence_name = \"button2\"\n",
    "path = os.path.join(\"/home/schiavazza/data/hpe/fault_button/binary/long\", sequence_name)\n",
    "\n",
    "plotter = utils.Plotter(path)\n",
    "plotter.plot_roi_scale(base_thresh, dataset_tres, scales, sequence_name)\n",
    "plotter.test_scales(base_thresh, scales2, dataset_tres)"
   ]
  },
  {
   "cell_type": "code",
   "execution_count": null,
   "metadata": {},
   "outputs": [],
   "source": []
  }
 ],
 "metadata": {
  "kernelspec": {
   "display_name": "Python 3",
   "language": "python",
   "name": "python3"
  },
  "language_info": {
   "codemirror_mode": {
    "name": "ipython",
    "version": 3
   },
   "file_extension": ".py",
   "mimetype": "text/x-python",
   "name": "python",
   "nbconvert_exporter": "python",
   "pygments_lexer": "ipython3",
   "version": "3.10.6"
  },
  "orig_nbformat": 4
 },
 "nbformat": 4,
 "nbformat_minor": 2
}
