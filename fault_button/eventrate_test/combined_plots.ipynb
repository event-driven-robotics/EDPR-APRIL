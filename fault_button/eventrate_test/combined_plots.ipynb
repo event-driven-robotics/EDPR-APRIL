{
 "cells": [
  {
   "cell_type": "code",
   "execution_count": 27,
   "metadata": {},
   "outputs": [
    {
     "name": "stdout",
     "output_type": "stream",
     "text": [
      "The autoreload extension is already loaded. To reload it, use:\n",
      "  %reload_ext autoreload\n"
     ]
    }
   ],
   "source": [
    "%load_ext autoreload\n",
    "%autoreload 2\n",
    "import os\n",
    "import numpy as np\n",
    "import matplotlib.pyplot as plt\n",
    "\n",
    "import src.utils as utils\n",
    "\n",
    "plt.rc('xtick',labelsize=15)\n",
    "plt.rc('ytick',labelsize=15)\n",
    "\n",
    "data_list1 = [\n",
    "    os.path.join(\"/home/schiavazza/data/hpe/fault_button/osai/fault_button\", \"s1_v1\"),\n",
    "    os.path.join(\"/home/schiavazza/data/hpe/fault_button/osai/fault_button\", \"s1_v2\"),\n",
    "    os.path.join(\"/home/schiavazza/data/hpe/fault_button/osai/fault_button\", \"s2_v1\"),\n",
    "    os.path.join(\"/home/schiavazza/data/hpe/fault_button/osai/fault_button\", \"s2_v2\")\n",
    "]\n",
    "data_list2 = [\n",
    "    os.path.join(\"/home/schiavazza/data/hpe/fault_button/april_exp/binary/long\", \"button1\"),\n",
    "    os.path.join(\"/home/schiavazza/data/hpe/fault_button/april_exp/binary/long\", \"button2\"),\n",
    "    os.path.join(\"/home/schiavazza/data/hpe/fault_button/april_exp/binary/long\", \"button3\"),\n",
    "    os.path.join(\"/home/schiavazza/data/hpe/fault_button/april_exp/binary/long\", \"button4\")\n",
    "]\n",
    "data_list3 = [\n",
    "    f\"/home/schiavazza/data/hpe/fault_button/APRIL/exp01/data\",\n",
    "    f\"/home/schiavazza/data/hpe/fault_button/APRIL/exp02/data\",\n",
    "    f\"/home/schiavazza/data/hpe/fault_button/APRIL/exp03/data\",\n",
    "]"
   ]
  },
  {
   "cell_type": "code",
   "execution_count": 28,
   "metadata": {},
   "outputs": [],
   "source": [
    "thresh_multipliers = np.linspace(0.5, 1.5, 20)"
   ]
  },
  {
   "cell_type": "code",
   "execution_count": 29,
   "metadata": {},
   "outputs": [
    {
     "name": "stdout",
     "output_type": "stream",
     "text": [
      "importIitYarp trying path: /home/schiavazza/data/hpe/fault_button/osai/fault_button/s1_v1\n",
      "Examining info.log: /home/schiavazza/data/hpe/fault_button/osai/fault_button/s1_v1/info.log\n",
      "[552, 277]\n",
      "Radius in px: 186\n",
      "Threshold: 10033.8, base threshold: 11.719538404036628\n",
      "importIitYarp trying path: /home/schiavazza/data/hpe/fault_button/osai/fault_button/s1_v1\n",
      "Examining info.log: /home/schiavazza/data/hpe/fault_button/osai/fault_button/s1_v1/info.log\n",
      "[552, 277]\n",
      "Radius in px: 186\n"
     ]
    },
    {
     "name": "stderr",
     "output_type": "stream",
     "text": [
      "100%|██████████| 20/20 [00:05<00:00,  3.80it/s]\n",
      "/home/schiavazza/code/EDPR-APRIL/fault_button/eventrate_test/src/utils.py:527: VisibleDeprecationWarning: Creating an ndarray from ragged nested sequences (which is a list-or-tuple of lists-or-tuples-or ndarrays with different lengths or shapes) is deprecated. If you meant to do this, you must specify 'dtype=object' when creating the ndarray.\n",
      "  differences_ls = np.array(differences_ls)\n",
      "/home/schiavazza/code/EDPR-APRIL/fault_button/eventrate_test/src/utils.py:528: RuntimeWarning: Mean of empty slice\n",
      "  mean_times = np.array([np.nanmean(d) for d in differences_ls])\n",
      "/usr/lib/python3/dist-packages/numpy/lib/nanfunctions.py:1670: RuntimeWarning: Degrees of freedom <= 0 for slice.\n",
      "  var = nanvar(a, axis=axis, dtype=dtype, out=out, ddof=ddof,\n"
     ]
    },
    {
     "name": "stdout",
     "output_type": "stream",
     "text": [
      "importIitYarp trying path: /home/schiavazza/data/hpe/fault_button/osai/fault_button/s1_v2\n",
      "Examining info.log: /home/schiavazza/data/hpe/fault_button/osai/fault_button/s1_v2/info.log\n",
      "[552, 277]\n",
      "Radius in px: 186\n"
     ]
    },
    {
     "name": "stderr",
     "output_type": "stream",
     "text": [
      "100%|██████████| 20/20 [00:05<00:00,  3.87it/s]\n"
     ]
    },
    {
     "name": "stdout",
     "output_type": "stream",
     "text": [
      "importIitYarp trying path: /home/schiavazza/data/hpe/fault_button/osai/fault_button/s2_v1\n",
      "Examining info.log: /home/schiavazza/data/hpe/fault_button/osai/fault_button/s2_v1/info.log\n",
      "[552, 277]\n",
      "Radius in px: 186\n"
     ]
    },
    {
     "name": "stderr",
     "output_type": "stream",
     "text": [
      "100%|██████████| 20/20 [00:03<00:00,  5.90it/s]\n"
     ]
    },
    {
     "name": "stdout",
     "output_type": "stream",
     "text": [
      "importIitYarp trying path: /home/schiavazza/data/hpe/fault_button/osai/fault_button/s2_v2\n",
      "Examining info.log: /home/schiavazza/data/hpe/fault_button/osai/fault_button/s2_v2/info.log\n",
      "[552, 277]\n",
      "Radius in px: 186\n"
     ]
    },
    {
     "name": "stderr",
     "output_type": "stream",
     "text": [
      "100%|██████████| 20/20 [00:02<00:00,  6.74it/s]\n"
     ]
    }
   ],
   "source": [
    "scale = 1.0\n",
    "dataset_tres = 0.01\n",
    "n = 20\n",
    "tmpPlotter = utils.Plotter(data_list1[0])\n",
    "base_thresh = tmpPlotter.find_threshold(scale)\n",
    "base_thresh_ls = base_thresh * thresh_multipliers\n",
    "\n",
    "total_diff = np.empty((n, ), dtype='object')\n",
    "total_missed = np.empty((n, ), dtype='object')\n",
    "total_false = np.empty((n, ), dtype='object')\n",
    "\n",
    "for path in data_list1:\n",
    "    plotter = utils.Plotter(path)\n",
    "    diffs, false_detections, missed_detections = plotter.compute_stats_thresh(base_thresh_ls, scale, dataset_tres)\n",
    "\n",
    "    for i, t in enumerate(diffs):\n",
    "        total_diff[i] = np.append(total_diff[i], t)\n",
    "    for i, t in enumerate(false_detections):\n",
    "        total_false[i] = np.append(total_false[i], t)\n",
    "    for i, t in enumerate(missed_detections):\n",
    "        total_missed[i] = np.append(total_missed[i], t)\n",
    "\n",
    "u_diff1 = np.zeros((n,), dtype=float)\n",
    "std_diff1 = np.zeros((n,), dtype=float)\n",
    "\n",
    "u_false1 = np.zeros((n,), dtype=float)\n",
    "std_false1 = np.zeros((n,), dtype=float)\n",
    "\n",
    "u_missed1 = np.zeros((n,), dtype=float)\n",
    "std_missed1 = np.zeros((n,), dtype=float)\n",
    "\n",
    "\n",
    "for i, _ in enumerate(total_diff):\n",
    "    tmp = np.array(total_diff[i], dtype=float)\n",
    "    u_diff1[i] = np.nanmean(tmp)\n",
    "    std_diff1[i] = np.nanstd(tmp)\n",
    "\n",
    "    tmp = np.array(total_false[i], dtype=float)\n",
    "    u_false1[i] = np.nanmean(tmp)\n",
    "    std_false1[i] = np.nanstd(tmp)\n",
    "\n",
    "    tmp = np.array(total_missed[i], dtype=float)\n",
    "    u_missed1[i] = np.nanmean(tmp)\n",
    "    std_missed1[i] = np.nanstd(tmp)"
   ]
  },
  {
   "cell_type": "code",
   "execution_count": 30,
   "metadata": {},
   "outputs": [
    {
     "name": "stdout",
     "output_type": "stream",
     "text": [
      "importIitYarp trying path: /home/schiavazza/data/hpe/fault_button/april_exp/binary/long/button1\n",
      "Examining info.log: /home/schiavazza/data/hpe/fault_button/april_exp/binary/long/button1/info.log\n",
      "[301, 217]\n",
      "Radius in px: 209\n",
      "Threshold: 18484.899999999998, base threshold: 13.473646614623194\n",
      "importIitYarp trying path: /home/schiavazza/data/hpe/fault_button/april_exp/binary/long/button1\n",
      "Examining info.log: /home/schiavazza/data/hpe/fault_button/april_exp/binary/long/button1/info.log\n",
      "[301, 217]\n",
      "Radius in px: 209\n"
     ]
    },
    {
     "name": "stderr",
     "output_type": "stream",
     "text": [
      "100%|██████████| 20/20 [00:06<00:00,  3.22it/s]\n"
     ]
    },
    {
     "name": "stdout",
     "output_type": "stream",
     "text": [
      "importIitYarp trying path: /home/schiavazza/data/hpe/fault_button/april_exp/binary/long/button2\n",
      "Examining info.log: /home/schiavazza/data/hpe/fault_button/april_exp/binary/long/button2/info.log\n",
      "[523, 281]\n",
      "Radius in px: 190\n"
     ]
    },
    {
     "name": "stderr",
     "output_type": "stream",
     "text": [
      "100%|██████████| 20/20 [00:03<00:00,  5.32it/s]\n"
     ]
    },
    {
     "name": "stdout",
     "output_type": "stream",
     "text": [
      "importIitYarp trying path: /home/schiavazza/data/hpe/fault_button/april_exp/binary/long/button3\n",
      "Examining info.log: /home/schiavazza/data/hpe/fault_button/april_exp/binary/long/button3/info.log\n",
      "[531, 282]\n",
      "Radius in px: 245\n"
     ]
    },
    {
     "name": "stderr",
     "output_type": "stream",
     "text": [
      "100%|██████████| 20/20 [00:06<00:00,  3.18it/s]\n"
     ]
    },
    {
     "name": "stdout",
     "output_type": "stream",
     "text": [
      "importIitYarp trying path: /home/schiavazza/data/hpe/fault_button/april_exp/binary/long/button4\n",
      "Examining info.log: /home/schiavazza/data/hpe/fault_button/april_exp/binary/long/button4/info.log\n",
      "[509, 283]\n",
      "Radius in px: 280\n"
     ]
    },
    {
     "name": "stderr",
     "output_type": "stream",
     "text": [
      "100%|██████████| 20/20 [00:06<00:00,  3.33it/s]\n"
     ]
    }
   ],
   "source": [
    "scale = 1.0\n",
    "dataset_tres = 0.01\n",
    "n = 20\n",
    "tmpPlotter = utils.Plotter(data_list2[0])\n",
    "base_thresh = tmpPlotter.find_threshold(scale)\n",
    "base_thresh_ls = base_thresh * thresh_multipliers\n",
    "\n",
    "total_diff = np.empty((n, ), dtype='object')\n",
    "total_missed = np.empty((n, ), dtype='object')\n",
    "total_false = np.empty((n, ), dtype='object')\n",
    "\n",
    "for path in data_list2:\n",
    "    plotter = utils.Plotter(path)\n",
    "    diffs, false_detections, missed_detections = plotter.compute_stats_thresh(base_thresh_ls, scale, dataset_tres)\n",
    "\n",
    "    for i, t in enumerate(diffs):\n",
    "        total_diff[i] = np.append(total_diff[i], t)\n",
    "    for i, t in enumerate(false_detections):\n",
    "        total_false[i] = np.append(total_false[i], t)\n",
    "    for i, t in enumerate(missed_detections):\n",
    "        total_missed[i] = np.append(total_missed[i], t)\n",
    "\n",
    "u_diff2 = np.zeros((n,), dtype=float)\n",
    "std_diff2 = np.zeros((n,), dtype=float)\n",
    "\n",
    "u_false2 = np.zeros((n,), dtype=float)\n",
    "std_false2 = np.zeros((n,), dtype=float)\n",
    "\n",
    "u_missed2 = np.zeros((n,), dtype=float)\n",
    "std_missed2 = np.zeros((n,), dtype=float)\n",
    "\n",
    "\n",
    "for i, _ in enumerate(total_diff):\n",
    "    tmp = np.array(total_diff[i], dtype=float)\n",
    "    u_diff2[i] = np.nanmean(tmp)\n",
    "    std_diff2[i] = np.nanstd(tmp)\n",
    "\n",
    "    tmp = np.array(total_false[i], dtype=float)\n",
    "    u_false2[i] = np.nanmean(tmp)\n",
    "    std_false2[i] = np.nanstd(tmp)\n",
    "\n",
    "    tmp = np.array(total_missed[i], dtype=float)\n",
    "    u_missed2[i] = np.nanmean(tmp)\n",
    "    std_missed2[i] = np.nanstd(tmp)"
   ]
  },
  {
   "cell_type": "code",
   "execution_count": 31,
   "metadata": {},
   "outputs": [
    {
     "name": "stdout",
     "output_type": "stream",
     "text": [
      "importIitYarp trying path: /home/schiavazza/data/hpe/fault_button/APRIL/exp03/data\n"
     ]
    },
    {
     "name": "stderr",
     "output_type": "stream",
     "text": [
      "100%|██████████| 38970/38970 [00:09<00:00, 4106.91it/s]\n"
     ]
    },
    {
     "name": "stdout",
     "output_type": "stream",
     "text": [
      "Examining info.log: /home/schiavazza/data/hpe/fault_button/APRIL/exp03/data/info.log\n",
      "[607, 376]\n",
      "Radius in px: 264\n",
      "Threshold: 2356.2, base threshold: 2.526891522333637\n",
      "importIitYarp trying path: /home/schiavazza/data/hpe/fault_button/APRIL/exp01/data\n"
     ]
    },
    {
     "name": "stderr",
     "output_type": "stream",
     "text": [
      "100%|██████████| 20781/20781 [00:05<00:00, 3684.85it/s]\n"
     ]
    },
    {
     "name": "stdout",
     "output_type": "stream",
     "text": [
      "Examining info.log: /home/schiavazza/data/hpe/fault_button/APRIL/exp01/data/info.log\n",
      "[582, 369]\n",
      "Radius in px: 299\n"
     ]
    },
    {
     "name": "stderr",
     "output_type": "stream",
     "text": [
      "100%|██████████| 20/20 [00:00<00:00, 31.51it/s]\n"
     ]
    },
    {
     "name": "stdout",
     "output_type": "stream",
     "text": [
      "importIitYarp trying path: /home/schiavazza/data/hpe/fault_button/APRIL/exp02/data\n"
     ]
    },
    {
     "name": "stderr",
     "output_type": "stream",
     "text": [
      "100%|██████████| 50892/50892 [00:13<00:00, 3798.10it/s]\n"
     ]
    },
    {
     "name": "stdout",
     "output_type": "stream",
     "text": [
      "Examining info.log: /home/schiavazza/data/hpe/fault_button/APRIL/exp02/data/info.log\n",
      "[589, 366]\n",
      "Radius in px: 199\n"
     ]
    },
    {
     "name": "stderr",
     "output_type": "stream",
     "text": [
      "100%|██████████| 20/20 [00:00<00:00, 52.13it/s]\n"
     ]
    },
    {
     "name": "stdout",
     "output_type": "stream",
     "text": [
      "importIitYarp trying path: /home/schiavazza/data/hpe/fault_button/APRIL/exp03/data\n"
     ]
    },
    {
     "name": "stderr",
     "output_type": "stream",
     "text": [
      "100%|██████████| 38970/38970 [00:09<00:00, 4230.75it/s]\n"
     ]
    },
    {
     "name": "stdout",
     "output_type": "stream",
     "text": [
      "Examining info.log: /home/schiavazza/data/hpe/fault_button/APRIL/exp03/data/info.log\n",
      "[607, 376]\n",
      "Radius in px: 264\n"
     ]
    },
    {
     "name": "stderr",
     "output_type": "stream",
     "text": [
      "100%|██████████| 20/20 [00:00<00:00, 25.75it/s]\n"
     ]
    }
   ],
   "source": [
    "scale = 1.0\n",
    "dataset_tres = 0.01\n",
    "n = 20\n",
    "tmpPlotter = utils.Plotter(data_list3[-1])\n",
    "base_thresh = tmpPlotter.find_threshold(scale)\n",
    "base_thresh_ls = base_thresh * thresh_multipliers\n",
    "\n",
    "total_diff = np.empty((n, ), dtype='object')\n",
    "total_missed = np.empty((n, ), dtype='object')\n",
    "total_false = np.empty((n, ), dtype='object')\n",
    "\n",
    "for path in data_list3:\n",
    "    plotter = utils.Plotter(path)\n",
    "    diffs, false_detections, missed_detections = plotter.compute_stats_thresh(base_thresh_ls, scale, dataset_tres)\n",
    "\n",
    "    for i, t in enumerate(diffs):\n",
    "        total_diff[i] = np.append(total_diff[i], t)\n",
    "    for i, t in enumerate(false_detections):\n",
    "        total_false[i] = np.append(total_false[i], t)\n",
    "    for i, t in enumerate(missed_detections):\n",
    "        total_missed[i] = np.append(total_missed[i], t)\n",
    "\n",
    "u_diff3 = np.zeros((n,), dtype=float)\n",
    "std_diff3 = np.zeros((n,), dtype=float)\n",
    "\n",
    "u_false3 = np.zeros((n,), dtype=float)\n",
    "std_false3 = np.zeros((n,), dtype=float)\n",
    "\n",
    "u_missed3 = np.zeros((n,), dtype=float)\n",
    "std_missed3 = np.zeros((n,), dtype=float)\n",
    "\n",
    "\n",
    "for i, _ in enumerate(total_diff):\n",
    "    tmp = np.array(total_diff[i], dtype=float)\n",
    "    u_diff3[i] = np.nanmean(tmp)\n",
    "    std_diff3[i] = np.nanstd(tmp)\n",
    "\n",
    "    tmp = np.array(total_false[i], dtype=float)\n",
    "    u_false3[i] = np.nanmean(tmp)\n",
    "    std_false3[i] = np.nanstd(tmp)\n",
    "\n",
    "    tmp = np.array(total_missed[i], dtype=float)\n",
    "    u_missed3[i] = np.nanmean(tmp)\n",
    "    std_missed3[i] = np.nanstd(tmp)"
   ]
  },
  {
   "cell_type": "code",
   "execution_count": 32,
   "metadata": {},
   "outputs": [
    {
     "data": {
      "image/png": "[encoded data removed]",
      "text/plain": [
       "<Figure size 864x648 with 3 Axes>"
      ]
     },
     "metadata": {
      "needs_background": "light"
     },
     "output_type": "display_data"
    }
   ],
   "source": [
    "fig, axs = plt.subplots(2, 1, figsize=(12, 9))\n",
    "\n",
    "axs2 = axs[1].twinx()\n",
    "\n",
    "u_diffs = [u_diff1, u_diff2, u_diff3]\n",
    "std_diffs = [std_diff1, std_diff2, std_diff3]\n",
    "u_falses = [u_false1, u_false2, u_false3]\n",
    "std_falses = [std_false1, std_false2, std_false3]\n",
    "u_misseds = [u_missed1, u_missed2, u_missed3]\n",
    "std_misseds = [std_missed1, std_missed2, std_missed3]\n",
    "style = [\"solid\", \"dotted\", \"dashed\"]\n",
    "\n",
    "for i in range(3):\n",
    "    u_diff = u_diffs[i]\n",
    "    std_diff = std_diffs[i]\n",
    "    u_false = u_falses[i]\n",
    "    std_false = std_falses[i]\n",
    "    u_missed = u_misseds[i]\n",
    "    std_missed = std_misseds[i]\n",
    "\n",
    "    axs[0].plot(thresh_multipliers, u_diff, color='#1f77b4', linestyle=style[i], label=f\"dataset {i+1}\")\n",
    "    axs[0].fill_between(thresh_multipliers, u_diff-std_diff, u_diff+std_diff, alpha=0.1, color='#1f77b4', label=\"standard deviation\")\n",
    "    handles, labels = axs[0].get_legend_handles_labels()\n",
    "    by_label = dict(zip(labels, handles))\n",
    "    axs[0].legend(by_label.values(), by_label.keys(), fontsize=15, loc=\"upper left\")\n",
    "    # axs[0].set_xticks(thresh_multipliers)\n",
    "\n",
    "    axs[1].set_xlabel(\"Threshold Scale\", fontsize=20)\n",
    "    axs[0].set_ylabel(\"Mean time difference [s]\", fontsize=20)\n",
    "\n",
    "    axs[1].plot(thresh_multipliers, u_false, label=f\"false dset{i+1}\", linestyle=style[i], color=\"#1f77b4\")\n",
    "    axs[1].fill_between(thresh_multipliers, u_false-std_false, u_false+std_false, alpha=0.1, label=f\"standard deviation\", color='#1f77b4')\n",
    "    axs[1].set_ylabel(\"False detections\", fontsize=20)\n",
    "\n",
    "    \n",
    "    axs2.plot(thresh_multipliers, u_missed,marker=\"x\", label=f\"missed dset{i+1}\", linestyle=style[i], color=\"orange\")\n",
    "    axs2.fill_between(thresh_multipliers, u_missed-std_missed, u_missed+std_missed, alpha=0.1, label=f\"standard deviation\", color=\"orange\")\n",
    "    axs2.set_ylabel(\"Missed detections\", fontsize=20)\n",
    "    axs2.set_ylim([-0.1*(3), 5])\n",
    "    # ax.set_xticks(thresh_multipliers)\n",
    "    # ax.set_yticks(n_detections)\n",
    "    # ymax = max(max(u_false + std_false), max(u_missed + std_missed))\n",
    "    # ax.set_ylim([-0.5, ymax + 0.5])\n",
    "    # ax.set_xscale('log')\n",
    "    # ax.set_xlabel(\"Base Threshold [ev/s]\", fontsize=20)\n",
    "    # # ax.set_ylabel(\"number of detections\", fontsize=20)\n",
    "    # ax.set_title(\"Detections\", fontsize=22);\n",
    "    handles, labels = axs[1].get_legend_handles_labels()\n",
    "    by_label = dict(zip(labels, handles))\n",
    "    axs[1].legend(by_label.values(), by_label.keys(), fontsize=15, loc=\"upper left\")\n",
    "    # axs[1].legend(loc=\"upper left\", fontsize=15)\n",
    "    handles, labels = axs2.get_legend_handles_labels()\n",
    "    by_label = dict(zip(labels, handles))\n",
    "    axs2.legend(by_label.values(), by_label.keys(), fontsize=15, loc=\"upper right\")\n",
    "\n",
    "plt.tight_layout()\n",
    "plt.savefig(\"/home/schiavazza/Pictures/fault_button/stats_thresh.png\")"
   ]
  },
  {
   "attachments": {},
   "cell_type": "markdown",
   "metadata": {},
   "source": [
    "The effects of changing the thresholds seem to be consistent between datasets. Each scenario has a preferred threshold value that gives optimal results. Note that the ROI dimension is different for every dataset depending on the scene.\n",
    "\n",
    "The value of the optimal threshold is different for every dataset, but each shows the same pattern in the results. Higher thresholds result in more missed detections, but fewer false detections. The ideal threshold minimizes false and missed detections. \n",
    "\n",
    "There isn't a single value that can be used for every scenario, but if there is a tradeoff between false and missed detections. "
   ]
  },
  {
   "cell_type": "code",
   "execution_count": 7,
   "metadata": {},
   "outputs": [
    {
     "name": "stdout",
     "output_type": "stream",
     "text": [
      "importIitYarp trying path: /home/schiavazza/data/hpe/fault_button/osai/fault_button/s1_v1\n",
      "Examining info.log: /home/schiavazza/data/hpe/fault_button/osai/fault_button/s1_v1/info.log\n",
      "[552, 277]\n"
     ]
    },
    {
     "name": "stderr",
     "output_type": "stream",
     "text": [
      "  0%|          | 0/20 [00:00<?, ?it/s]"
     ]
    },
    {
     "name": "stdout",
     "output_type": "stream",
     "text": [
      "Radius in px: 50\n"
     ]
    },
    {
     "name": "stderr",
     "output_type": "stream",
     "text": [
      "  5%|▌         | 1/20 [00:01<00:19,  1.03s/it]"
     ]
    },
    {
     "name": "stdout",
     "output_type": "stream",
     "text": [
      "Radius in px: 73\n"
     ]
    },
    {
     "name": "stderr",
     "output_type": "stream",
     "text": [
      " 10%|█         | 2/20 [00:02<00:20,  1.16s/it]"
     ]
    },
    {
     "name": "stdout",
     "output_type": "stream",
     "text": [
      "Radius in px: 97\n"
     ]
    },
    {
     "name": "stderr",
     "output_type": "stream",
     "text": [
      " 15%|█▌        | 3/20 [00:03<00:22,  1.30s/it]"
     ]
    },
    {
     "name": "stdout",
     "output_type": "stream",
     "text": [
      "Radius in px: 121\n"
     ]
    },
    {
     "name": "stderr",
     "output_type": "stream",
     "text": [
      " 20%|██        | 4/20 [00:05<00:22,  1.42s/it]"
     ]
    },
    {
     "name": "stdout",
     "output_type": "stream",
     "text": [
      "Radius in px: 144\n"
     ]
    },
    {
     "name": "stderr",
     "output_type": "stream",
     "text": [
      " 25%|██▌       | 5/20 [00:07<00:23,  1.54s/it]"
     ]
    },
    {
     "name": "stdout",
     "output_type": "stream",
     "text": [
      "Radius in px: 168\n"
     ]
    },
    {
     "name": "stderr",
     "output_type": "stream",
     "text": [
      " 30%|███       | 6/20 [00:09<00:24,  1.76s/it]"
     ]
    },
    {
     "name": "stdout",
     "output_type": "stream",
     "text": [
      "Radius in px: 192\n"
     ]
    },
    {
     "name": "stderr",
     "output_type": "stream",
     "text": [
      " 35%|███▌      | 7/20 [00:12<00:26,  2.07s/it]"
     ]
    },
    {
     "name": "stdout",
     "output_type": "stream",
     "text": [
      "Radius in px: 215\n"
     ]
    },
    {
     "name": "stderr",
     "output_type": "stream",
     "text": [
      " 40%|████      | 8/20 [00:15<00:29,  2.47s/it]"
     ]
    },
    {
     "name": "stdout",
     "output_type": "stream",
     "text": [
      "Radius in px: 239\n"
     ]
    },
    {
     "name": "stderr",
     "output_type": "stream",
     "text": [
      " 45%|████▌     | 9/20 [00:18<00:31,  2.82s/it]"
     ]
    },
    {
     "name": "stdout",
     "output_type": "stream",
     "text": [
      "Radius in px: 263\n"
     ]
    },
    {
     "name": "stderr",
     "output_type": "stream",
     "text": [
      " 50%|█████     | 10/20 [00:22<00:31,  3.12s/it]"
     ]
    },
    {
     "name": "stdout",
     "output_type": "stream",
     "text": [
      "Radius in px: 286\n"
     ]
    },
    {
     "name": "stderr",
     "output_type": "stream",
     "text": [
      " 55%|█████▌    | 11/20 [00:26<00:30,  3.35s/it]"
     ]
    },
    {
     "name": "stdout",
     "output_type": "stream",
     "text": [
      "Radius in px: 310\n"
     ]
    },
    {
     "name": "stderr",
     "output_type": "stream",
     "text": [
      " 60%|██████    | 12/20 [00:30<00:27,  3.46s/it]"
     ]
    },
    {
     "name": "stdout",
     "output_type": "stream",
     "text": [
      "Radius in px: 334\n"
     ]
    },
    {
     "name": "stderr",
     "output_type": "stream",
     "text": [
      " 65%|██████▌   | 13/20 [00:33<00:24,  3.48s/it]"
     ]
    },
    {
     "name": "stdout",
     "output_type": "stream",
     "text": [
      "Radius in px: 357\n"
     ]
    },
    {
     "name": "stderr",
     "output_type": "stream",
     "text": [
      " 70%|███████   | 14/20 [00:37<00:20,  3.49s/it]"
     ]
    },
    {
     "name": "stdout",
     "output_type": "stream",
     "text": [
      "Radius in px: 381\n"
     ]
    },
    {
     "name": "stderr",
     "output_type": "stream",
     "text": [
      " 75%|███████▌  | 15/20 [00:40<00:17,  3.50s/it]"
     ]
    },
    {
     "name": "stdout",
     "output_type": "stream",
     "text": [
      "Radius in px: 405\n"
     ]
    },
    {
     "name": "stderr",
     "output_type": "stream",
     "text": [
      " 80%|████████  | 16/20 [00:44<00:14,  3.50s/it]"
     ]
    },
    {
     "name": "stdout",
     "output_type": "stream",
     "text": [
      "Radius in px: 428\n"
     ]
    },
    {
     "name": "stderr",
     "output_type": "stream",
     "text": [
      " 85%|████████▌ | 17/20 [00:47<00:10,  3.49s/it]"
     ]
    },
    {
     "name": "stdout",
     "output_type": "stream",
     "text": [
      "Radius in px: 452\n"
     ]
    },
    {
     "name": "stderr",
     "output_type": "stream",
     "text": [
      " 90%|█████████ | 18/20 [00:51<00:06,  3.46s/it]"
     ]
    },
    {
     "name": "stdout",
     "output_type": "stream",
     "text": [
      "Radius in px: 476\n"
     ]
    },
    {
     "name": "stderr",
     "output_type": "stream",
     "text": [
      " 95%|█████████▌| 19/20 [00:54<00:03,  3.43s/it]"
     ]
    },
    {
     "name": "stdout",
     "output_type": "stream",
     "text": [
      "Radius in px: 500\n"
     ]
    },
    {
     "name": "stderr",
     "output_type": "stream",
     "text": [
      "100%|██████████| 20/20 [00:57<00:00,  2.89s/it]\n",
      "/home/schiavazza/code/EDPR-APRIL/fault_button/eventrate_test/src/utils.py:484: VisibleDeprecationWarning: Creating an ndarray from ragged nested sequences (which is a list-or-tuple of lists-or-tuples-or ndarrays with different lengths or shapes) is deprecated. If you meant to do this, you must specify 'dtype=object' when creating the ndarray.\n",
      "  differences_ls = np.array(differences_ls)\n"
     ]
    },
    {
     "name": "stdout",
     "output_type": "stream",
     "text": [
      "importIitYarp trying path: /home/schiavazza/data/hpe/fault_button/osai/fault_button/s1_v2\n",
      "Examining info.log: /home/schiavazza/data/hpe/fault_button/osai/fault_button/s1_v2/info.log\n",
      "[552, 277]\n"
     ]
    },
    {
     "name": "stderr",
     "output_type": "stream",
     "text": [
      "  0%|          | 0/20 [00:00<?, ?it/s]"
     ]
    },
    {
     "name": "stdout",
     "output_type": "stream",
     "text": [
      "Radius in px: 50\n"
     ]
    },
    {
     "name": "stderr",
     "output_type": "stream",
     "text": [
      "  5%|▌         | 1/20 [00:00<00:17,  1.06it/s]"
     ]
    },
    {
     "name": "stdout",
     "output_type": "stream",
     "text": [
      "Radius in px: 73\n"
     ]
    },
    {
     "name": "stderr",
     "output_type": "stream",
     "text": [
      " 10%|█         | 2/20 [00:01<00:18,  1.00s/it]"
     ]
    },
    {
     "name": "stdout",
     "output_type": "stream",
     "text": [
      "Radius in px: 97\n"
     ]
    },
    {
     "name": "stderr",
     "output_type": "stream",
     "text": [
      " 15%|█▌        | 3/20 [00:03<00:18,  1.08s/it]"
     ]
    },
    {
     "name": "stdout",
     "output_type": "stream",
     "text": [
      "Radius in px: 121\n"
     ]
    },
    {
     "name": "stderr",
     "output_type": "stream",
     "text": [
      " 20%|██        | 4/20 [00:04<00:18,  1.16s/it]"
     ]
    },
    {
     "name": "stdout",
     "output_type": "stream",
     "text": [
      "Radius in px: 144\n"
     ]
    },
    {
     "name": "stderr",
     "output_type": "stream",
     "text": [
      " 25%|██▌       | 5/20 [00:05<00:19,  1.29s/it]"
     ]
    },
    {
     "name": "stdout",
     "output_type": "stream",
     "text": [
      "Radius in px: 168\n"
     ]
    },
    {
     "name": "stderr",
     "output_type": "stream",
     "text": [
      " 30%|███       | 6/20 [00:07<00:21,  1.50s/it]"
     ]
    },
    {
     "name": "stdout",
     "output_type": "stream",
     "text": [
      "Radius in px: 192\n"
     ]
    },
    {
     "name": "stderr",
     "output_type": "stream",
     "text": [
      " 35%|███▌      | 7/20 [00:10<00:23,  1.84s/it]"
     ]
    },
    {
     "name": "stdout",
     "output_type": "stream",
     "text": [
      "Radius in px: 215\n"
     ]
    },
    {
     "name": "stderr",
     "output_type": "stream",
     "text": [
      " 40%|████      | 8/20 [00:13<00:25,  2.16s/it]"
     ]
    },
    {
     "name": "stdout",
     "output_type": "stream",
     "text": [
      "Radius in px: 239\n"
     ]
    },
    {
     "name": "stderr",
     "output_type": "stream",
     "text": [
      " 45%|████▌     | 9/20 [00:16<00:27,  2.48s/it]"
     ]
    },
    {
     "name": "stdout",
     "output_type": "stream",
     "text": [
      "Radius in px: 263\n"
     ]
    },
    {
     "name": "stderr",
     "output_type": "stream",
     "text": [
      " 50%|█████     | 10/20 [00:19<00:27,  2.77s/it]"
     ]
    },
    {
     "name": "stdout",
     "output_type": "stream",
     "text": [
      "Radius in px: 286\n"
     ]
    },
    {
     "name": "stderr",
     "output_type": "stream",
     "text": [
      " 55%|█████▌    | 11/20 [00:23<00:27,  3.01s/it]"
     ]
    },
    {
     "name": "stdout",
     "output_type": "stream",
     "text": [
      "Radius in px: 310\n"
     ]
    },
    {
     "name": "stderr",
     "output_type": "stream",
     "text": [
      " 60%|██████    | 12/20 [00:26<00:25,  3.17s/it]"
     ]
    },
    {
     "name": "stdout",
     "output_type": "stream",
     "text": [
      "Radius in px: 334\n"
     ]
    },
    {
     "name": "stderr",
     "output_type": "stream",
     "text": [
      " 65%|██████▌   | 13/20 [00:30<00:22,  3.28s/it]"
     ]
    },
    {
     "name": "stdout",
     "output_type": "stream",
     "text": [
      "Radius in px: 357\n"
     ]
    },
    {
     "name": "stderr",
     "output_type": "stream",
     "text": [
      " 70%|███████   | 14/20 [00:34<00:20,  3.36s/it]"
     ]
    },
    {
     "name": "stdout",
     "output_type": "stream",
     "text": [
      "Radius in px: 381\n"
     ]
    },
    {
     "name": "stderr",
     "output_type": "stream",
     "text": [
      " 75%|███████▌  | 15/20 [00:37<00:17,  3.42s/it]"
     ]
    },
    {
     "name": "stdout",
     "output_type": "stream",
     "text": [
      "Radius in px: 405\n"
     ]
    },
    {
     "name": "stderr",
     "output_type": "stream",
     "text": [
      " 80%|████████  | 16/20 [00:41<00:13,  3.45s/it]"
     ]
    },
    {
     "name": "stdout",
     "output_type": "stream",
     "text": [
      "Radius in px: 428\n"
     ]
    },
    {
     "name": "stderr",
     "output_type": "stream",
     "text": [
      " 85%|████████▌ | 17/20 [00:44<00:10,  3.46s/it]"
     ]
    },
    {
     "name": "stdout",
     "output_type": "stream",
     "text": [
      "Radius in px: 452\n"
     ]
    },
    {
     "name": "stderr",
     "output_type": "stream",
     "text": [
      " 90%|█████████ | 18/20 [00:48<00:06,  3.48s/it]"
     ]
    },
    {
     "name": "stdout",
     "output_type": "stream",
     "text": [
      "Radius in px: 476\n"
     ]
    },
    {
     "name": "stderr",
     "output_type": "stream",
     "text": [
      " 95%|█████████▌| 19/20 [00:51<00:03,  3.46s/it]"
     ]
    },
    {
     "name": "stdout",
     "output_type": "stream",
     "text": [
      "Radius in px: 500\n"
     ]
    },
    {
     "name": "stderr",
     "output_type": "stream",
     "text": [
      "100%|██████████| 20/20 [00:54<00:00,  2.74s/it]\n",
      "/home/schiavazza/code/EDPR-APRIL/fault_button/eventrate_test/src/utils.py:485: RuntimeWarning: Mean of empty slice\n",
      "  mean_times = np.array([np.nanmean(d) for d in differences_ls])\n",
      "/usr/lib/python3/dist-packages/numpy/lib/nanfunctions.py:1670: RuntimeWarning: Degrees of freedom <= 0 for slice.\n",
      "  var = nanvar(a, axis=axis, dtype=dtype, out=out, ddof=ddof,\n"
     ]
    },
    {
     "name": "stdout",
     "output_type": "stream",
     "text": [
      "importIitYarp trying path: /home/schiavazza/data/hpe/fault_button/osai/fault_button/s2_v1\n",
      "Examining info.log: /home/schiavazza/data/hpe/fault_button/osai/fault_button/s2_v1/info.log\n",
      "[552, 277]\n"
     ]
    },
    {
     "name": "stderr",
     "output_type": "stream",
     "text": [
      "  0%|          | 0/20 [00:00<?, ?it/s]"
     ]
    },
    {
     "name": "stdout",
     "output_type": "stream",
     "text": [
      "Radius in px: 50\n"
     ]
    },
    {
     "name": "stderr",
     "output_type": "stream",
     "text": [
      "  5%|▌         | 1/20 [00:00<00:17,  1.09it/s]"
     ]
    },
    {
     "name": "stdout",
     "output_type": "stream",
     "text": [
      "Radius in px: 73\n"
     ]
    },
    {
     "name": "stderr",
     "output_type": "stream",
     "text": [
      " 10%|█         | 2/20 [00:01<00:17,  1.00it/s]"
     ]
    },
    {
     "name": "stdout",
     "output_type": "stream",
     "text": [
      "Radius in px: 97\n"
     ]
    },
    {
     "name": "stderr",
     "output_type": "stream",
     "text": [
      " 15%|█▌        | 3/20 [00:03<00:18,  1.09s/it]"
     ]
    },
    {
     "name": "stdout",
     "output_type": "stream",
     "text": [
      "Radius in px: 121\n"
     ]
    },
    {
     "name": "stderr",
     "output_type": "stream",
     "text": [
      " 20%|██        | 4/20 [00:04<00:18,  1.18s/it]"
     ]
    },
    {
     "name": "stdout",
     "output_type": "stream",
     "text": [
      "Radius in px: 144\n"
     ]
    },
    {
     "name": "stderr",
     "output_type": "stream",
     "text": [
      " 25%|██▌       | 5/20 [00:05<00:19,  1.29s/it]"
     ]
    },
    {
     "name": "stdout",
     "output_type": "stream",
     "text": [
      "Radius in px: 168\n"
     ]
    },
    {
     "name": "stderr",
     "output_type": "stream",
     "text": [
      " 30%|███       | 6/20 [00:07<00:19,  1.42s/it]"
     ]
    },
    {
     "name": "stdout",
     "output_type": "stream",
     "text": [
      "Radius in px: 192\n"
     ]
    },
    {
     "name": "stderr",
     "output_type": "stream",
     "text": [
      " 35%|███▌      | 7/20 [00:09<00:20,  1.58s/it]"
     ]
    },
    {
     "name": "stdout",
     "output_type": "stream",
     "text": [
      "Radius in px: 215\n"
     ]
    },
    {
     "name": "stderr",
     "output_type": "stream",
     "text": [
      " 40%|████      | 8/20 [00:11<00:21,  1.79s/it]"
     ]
    },
    {
     "name": "stdout",
     "output_type": "stream",
     "text": [
      "Radius in px: 239\n"
     ]
    },
    {
     "name": "stderr",
     "output_type": "stream",
     "text": [
      " 45%|████▌     | 9/20 [00:14<00:22,  2.05s/it]"
     ]
    },
    {
     "name": "stdout",
     "output_type": "stream",
     "text": [
      "Radius in px: 263\n"
     ]
    },
    {
     "name": "stderr",
     "output_type": "stream",
     "text": [
      " 50%|█████     | 10/20 [00:17<00:23,  2.35s/it]"
     ]
    },
    {
     "name": "stdout",
     "output_type": "stream",
     "text": [
      "Radius in px: 286\n"
     ]
    },
    {
     "name": "stderr",
     "output_type": "stream",
     "text": [
      " 55%|█████▌    | 11/20 [00:20<00:23,  2.64s/it]"
     ]
    },
    {
     "name": "stdout",
     "output_type": "stream",
     "text": [
      "Radius in px: 310\n"
     ]
    },
    {
     "name": "stderr",
     "output_type": "stream",
     "text": [
      " 60%|██████    | 12/20 [00:24<00:23,  2.88s/it]"
     ]
    },
    {
     "name": "stdout",
     "output_type": "stream",
     "text": [
      "Radius in px: 334\n"
     ]
    },
    {
     "name": "stderr",
     "output_type": "stream",
     "text": [
      " 65%|██████▌   | 13/20 [00:27<00:21,  3.06s/it]"
     ]
    },
    {
     "name": "stdout",
     "output_type": "stream",
     "text": [
      "Radius in px: 357\n"
     ]
    },
    {
     "name": "stderr",
     "output_type": "stream",
     "text": [
      " 70%|███████   | 14/20 [00:31<00:19,  3.19s/it]"
     ]
    },
    {
     "name": "stdout",
     "output_type": "stream",
     "text": [
      "Radius in px: 381\n"
     ]
    },
    {
     "name": "stderr",
     "output_type": "stream",
     "text": [
      " 75%|███████▌  | 15/20 [00:34<00:16,  3.26s/it]"
     ]
    },
    {
     "name": "stdout",
     "output_type": "stream",
     "text": [
      "Radius in px: 405\n"
     ]
    },
    {
     "name": "stderr",
     "output_type": "stream",
     "text": [
      " 80%|████████  | 16/20 [00:37<00:13,  3.31s/it]"
     ]
    },
    {
     "name": "stdout",
     "output_type": "stream",
     "text": [
      "Radius in px: 428\n"
     ]
    },
    {
     "name": "stderr",
     "output_type": "stream",
     "text": [
      " 85%|████████▌ | 17/20 [00:41<00:10,  3.34s/it]"
     ]
    },
    {
     "name": "stdout",
     "output_type": "stream",
     "text": [
      "Radius in px: 452\n"
     ]
    },
    {
     "name": "stderr",
     "output_type": "stream",
     "text": [
      " 90%|█████████ | 18/20 [00:44<00:06,  3.34s/it]"
     ]
    },
    {
     "name": "stdout",
     "output_type": "stream",
     "text": [
      "Radius in px: 476\n"
     ]
    },
    {
     "name": "stderr",
     "output_type": "stream",
     "text": [
      " 95%|█████████▌| 19/20 [00:48<00:03,  3.32s/it]"
     ]
    },
    {
     "name": "stdout",
     "output_type": "stream",
     "text": [
      "Radius in px: 500\n"
     ]
    },
    {
     "name": "stderr",
     "output_type": "stream",
     "text": [
      "100%|██████████| 20/20 [00:51<00:00,  2.56s/it]\n"
     ]
    },
    {
     "name": "stdout",
     "output_type": "stream",
     "text": [
      "importIitYarp trying path: /home/schiavazza/data/hpe/fault_button/osai/fault_button/s2_v2\n",
      "Examining info.log: /home/schiavazza/data/hpe/fault_button/osai/fault_button/s2_v2/info.log\n",
      "[552, 277]\n"
     ]
    },
    {
     "name": "stderr",
     "output_type": "stream",
     "text": [
      "  0%|          | 0/20 [00:00<?, ?it/s]"
     ]
    },
    {
     "name": "stdout",
     "output_type": "stream",
     "text": [
      "Radius in px: 50\n"
     ]
    },
    {
     "name": "stderr",
     "output_type": "stream",
     "text": [
      "  5%|▌         | 1/20 [00:00<00:12,  1.53it/s]"
     ]
    },
    {
     "name": "stdout",
     "output_type": "stream",
     "text": [
      "Radius in px: 73\n"
     ]
    },
    {
     "name": "stderr",
     "output_type": "stream",
     "text": [
      " 10%|█         | 2/20 [00:01<00:12,  1.41it/s]"
     ]
    },
    {
     "name": "stdout",
     "output_type": "stream",
     "text": [
      "Radius in px: 97\n"
     ]
    },
    {
     "name": "stderr",
     "output_type": "stream",
     "text": [
      " 15%|█▌        | 3/20 [00:02<00:13,  1.29it/s]"
     ]
    },
    {
     "name": "stdout",
     "output_type": "stream",
     "text": [
      "Radius in px: 121\n"
     ]
    },
    {
     "name": "stderr",
     "output_type": "stream",
     "text": [
      " 20%|██        | 4/20 [00:03<00:13,  1.18it/s]"
     ]
    },
    {
     "name": "stdout",
     "output_type": "stream",
     "text": [
      "Radius in px: 144\n"
     ]
    },
    {
     "name": "stderr",
     "output_type": "stream",
     "text": [
      " 25%|██▌       | 5/20 [00:04<00:14,  1.06it/s]"
     ]
    },
    {
     "name": "stdout",
     "output_type": "stream",
     "text": [
      "Radius in px: 168\n"
     ]
    },
    {
     "name": "stderr",
     "output_type": "stream",
     "text": [
      " 30%|███       | 6/20 [00:05<00:14,  1.05s/it]"
     ]
    },
    {
     "name": "stdout",
     "output_type": "stream",
     "text": [
      "Radius in px: 192\n"
     ]
    },
    {
     "name": "stderr",
     "output_type": "stream",
     "text": [
      " 35%|███▌      | 7/20 [00:07<00:15,  1.18s/it]"
     ]
    },
    {
     "name": "stdout",
     "output_type": "stream",
     "text": [
      "Radius in px: 215\n"
     ]
    },
    {
     "name": "stderr",
     "output_type": "stream",
     "text": [
      " 40%|████      | 8/20 [00:08<00:16,  1.33s/it]"
     ]
    },
    {
     "name": "stdout",
     "output_type": "stream",
     "text": [
      "Radius in px: 239\n"
     ]
    },
    {
     "name": "stderr",
     "output_type": "stream",
     "text": [
      " 45%|████▌     | 9/20 [00:10<00:16,  1.51s/it]"
     ]
    },
    {
     "name": "stdout",
     "output_type": "stream",
     "text": [
      "Radius in px: 263\n"
     ]
    },
    {
     "name": "stderr",
     "output_type": "stream",
     "text": [
      " 50%|█████     | 10/20 [00:12<00:16,  1.69s/it]"
     ]
    },
    {
     "name": "stdout",
     "output_type": "stream",
     "text": [
      "Radius in px: 286\n"
     ]
    },
    {
     "name": "stderr",
     "output_type": "stream",
     "text": [
      " 55%|█████▌    | 11/20 [00:14<00:16,  1.86s/it]"
     ]
    },
    {
     "name": "stdout",
     "output_type": "stream",
     "text": [
      "Radius in px: 310\n"
     ]
    },
    {
     "name": "stderr",
     "output_type": "stream",
     "text": [
      " 60%|██████    | 12/20 [00:17<00:16,  2.00s/it]"
     ]
    },
    {
     "name": "stdout",
     "output_type": "stream",
     "text": [
      "Radius in px: 334\n"
     ]
    },
    {
     "name": "stderr",
     "output_type": "stream",
     "text": [
      " 65%|██████▌   | 13/20 [00:19<00:14,  2.13s/it]"
     ]
    },
    {
     "name": "stdout",
     "output_type": "stream",
     "text": [
      "Radius in px: 357\n"
     ]
    },
    {
     "name": "stderr",
     "output_type": "stream",
     "text": [
      " 70%|███████   | 14/20 [00:22<00:13,  2.23s/it]"
     ]
    },
    {
     "name": "stdout",
     "output_type": "stream",
     "text": [
      "Radius in px: 381\n"
     ]
    },
    {
     "name": "stderr",
     "output_type": "stream",
     "text": [
      " 75%|███████▌  | 15/20 [00:24<00:11,  2.33s/it]"
     ]
    },
    {
     "name": "stdout",
     "output_type": "stream",
     "text": [
      "Radius in px: 405\n"
     ]
    },
    {
     "name": "stderr",
     "output_type": "stream",
     "text": [
      " 80%|████████  | 16/20 [00:27<00:09,  2.38s/it]"
     ]
    },
    {
     "name": "stdout",
     "output_type": "stream",
     "text": [
      "Radius in px: 428\n"
     ]
    },
    {
     "name": "stderr",
     "output_type": "stream",
     "text": [
      " 85%|████████▌ | 17/20 [00:29<00:07,  2.42s/it]"
     ]
    },
    {
     "name": "stdout",
     "output_type": "stream",
     "text": [
      "Radius in px: 452\n"
     ]
    },
    {
     "name": "stderr",
     "output_type": "stream",
     "text": [
      " 90%|█████████ | 18/20 [00:32<00:04,  2.43s/it]"
     ]
    },
    {
     "name": "stdout",
     "output_type": "stream",
     "text": [
      "Radius in px: 476\n"
     ]
    },
    {
     "name": "stderr",
     "output_type": "stream",
     "text": [
      " 95%|█████████▌| 19/20 [00:34<00:02,  2.43s/it]"
     ]
    },
    {
     "name": "stdout",
     "output_type": "stream",
     "text": [
      "Radius in px: 500\n"
     ]
    },
    {
     "name": "stderr",
     "output_type": "stream",
     "text": [
      "100%|██████████| 20/20 [00:36<00:00,  1.85s/it]\n"
     ]
    },
    {
     "name": "stdout",
     "output_type": "stream",
     "text": [
      "importIitYarp trying path: /home/schiavazza/data/hpe/fault_button/april_exp/binary/long/button1\n",
      "Examining info.log: /home/schiavazza/data/hpe/fault_button/april_exp/binary/long/button1/info.log\n",
      "[301, 217]\n"
     ]
    },
    {
     "name": "stderr",
     "output_type": "stream",
     "text": [
      "  0%|          | 0/20 [00:00<?, ?it/s]"
     ]
    },
    {
     "name": "stdout",
     "output_type": "stream",
     "text": [
      "Radius in px: 50\n"
     ]
    },
    {
     "name": "stderr",
     "output_type": "stream",
     "text": [
      "  5%|▌         | 1/20 [00:00<00:07,  2.48it/s]"
     ]
    },
    {
     "name": "stdout",
     "output_type": "stream",
     "text": [
      "Radius in px: 73\n"
     ]
    },
    {
     "name": "stderr",
     "output_type": "stream",
     "text": [
      " 10%|█         | 2/20 [00:00<00:09,  1.99it/s]"
     ]
    },
    {
     "name": "stdout",
     "output_type": "stream",
     "text": [
      "Radius in px: 97\n"
     ]
    },
    {
     "name": "stderr",
     "output_type": "stream",
     "text": [
      " 15%|█▌        | 3/20 [00:01<00:10,  1.67it/s]"
     ]
    },
    {
     "name": "stdout",
     "output_type": "stream",
     "text": [
      "Radius in px: 121\n"
     ]
    },
    {
     "name": "stderr",
     "output_type": "stream",
     "text": [
      " 20%|██        | 4/20 [00:02<00:10,  1.47it/s]"
     ]
    },
    {
     "name": "stdout",
     "output_type": "stream",
     "text": [
      "Radius in px: 144\n"
     ]
    },
    {
     "name": "stderr",
     "output_type": "stream",
     "text": [
      " 25%|██▌       | 5/20 [00:03<00:11,  1.34it/s]"
     ]
    },
    {
     "name": "stdout",
     "output_type": "stream",
     "text": [
      "Radius in px: 168\n"
     ]
    },
    {
     "name": "stderr",
     "output_type": "stream",
     "text": [
      " 30%|███       | 6/20 [00:04<00:11,  1.25it/s]"
     ]
    },
    {
     "name": "stdout",
     "output_type": "stream",
     "text": [
      "Radius in px: 192\n"
     ]
    },
    {
     "name": "stderr",
     "output_type": "stream",
     "text": [
      " 35%|███▌      | 7/20 [00:05<00:10,  1.19it/s]"
     ]
    },
    {
     "name": "stdout",
     "output_type": "stream",
     "text": [
      "Radius in px: 215\n"
     ]
    },
    {
     "name": "stderr",
     "output_type": "stream",
     "text": [
      " 40%|████      | 8/20 [00:06<00:10,  1.15it/s]"
     ]
    },
    {
     "name": "stdout",
     "output_type": "stream",
     "text": [
      "Radius in px: 239\n"
     ]
    },
    {
     "name": "stderr",
     "output_type": "stream",
     "text": [
      " 45%|████▌     | 9/20 [00:06<00:09,  1.15it/s]"
     ]
    },
    {
     "name": "stdout",
     "output_type": "stream",
     "text": [
      "Radius in px: 263\n"
     ]
    },
    {
     "name": "stderr",
     "output_type": "stream",
     "text": [
      " 50%|█████     | 10/20 [00:07<00:08,  1.16it/s]"
     ]
    },
    {
     "name": "stdout",
     "output_type": "stream",
     "text": [
      "Radius in px: 286\n"
     ]
    },
    {
     "name": "stderr",
     "output_type": "stream",
     "text": [
      " 55%|█████▌    | 11/20 [00:08<00:07,  1.16it/s]"
     ]
    },
    {
     "name": "stdout",
     "output_type": "stream",
     "text": [
      "Radius in px: 310\n"
     ]
    },
    {
     "name": "stderr",
     "output_type": "stream",
     "text": [
      " 60%|██████    | 12/20 [00:09<00:06,  1.17it/s]"
     ]
    },
    {
     "name": "stdout",
     "output_type": "stream",
     "text": [
      "Radius in px: 334\n"
     ]
    },
    {
     "name": "stderr",
     "output_type": "stream",
     "text": [
      " 65%|██████▌   | 13/20 [00:10<00:05,  1.18it/s]"
     ]
    },
    {
     "name": "stdout",
     "output_type": "stream",
     "text": [
      "Radius in px: 357\n"
     ]
    },
    {
     "name": "stderr",
     "output_type": "stream",
     "text": [
      " 70%|███████   | 14/20 [00:11<00:05,  1.19it/s]"
     ]
    },
    {
     "name": "stdout",
     "output_type": "stream",
     "text": [
      "Radius in px: 381\n"
     ]
    },
    {
     "name": "stderr",
     "output_type": "stream",
     "text": [
      " 75%|███████▌  | 15/20 [00:11<00:04,  1.20it/s]"
     ]
    },
    {
     "name": "stdout",
     "output_type": "stream",
     "text": [
      "Radius in px: 405\n"
     ]
    },
    {
     "name": "stderr",
     "output_type": "stream",
     "text": [
      " 80%|████████  | 16/20 [00:12<00:03,  1.21it/s]"
     ]
    },
    {
     "name": "stdout",
     "output_type": "stream",
     "text": [
      "Radius in px: 428\n"
     ]
    },
    {
     "name": "stderr",
     "output_type": "stream",
     "text": [
      " 85%|████████▌ | 17/20 [00:13<00:02,  1.22it/s]"
     ]
    },
    {
     "name": "stdout",
     "output_type": "stream",
     "text": [
      "Radius in px: 452\n"
     ]
    },
    {
     "name": "stderr",
     "output_type": "stream",
     "text": [
      " 90%|█████████ | 18/20 [00:14<00:01,  1.23it/s]"
     ]
    },
    {
     "name": "stdout",
     "output_type": "stream",
     "text": [
      "Radius in px: 476\n"
     ]
    },
    {
     "name": "stderr",
     "output_type": "stream",
     "text": [
      " 95%|█████████▌| 19/20 [00:15<00:00,  1.23it/s]"
     ]
    },
    {
     "name": "stdout",
     "output_type": "stream",
     "text": [
      "Radius in px: 500\n"
     ]
    },
    {
     "name": "stderr",
     "output_type": "stream",
     "text": [
      "100%|██████████| 20/20 [00:16<00:00,  1.25it/s]\n"
     ]
    },
    {
     "name": "stdout",
     "output_type": "stream",
     "text": [
      "importIitYarp trying path: /home/schiavazza/data/hpe/fault_button/april_exp/binary/long/button2\n",
      "Examining info.log: /home/schiavazza/data/hpe/fault_button/april_exp/binary/long/button2/info.log\n",
      "[523, 281]\n"
     ]
    },
    {
     "name": "stderr",
     "output_type": "stream",
     "text": [
      "  0%|          | 0/20 [00:00<?, ?it/s]"
     ]
    },
    {
     "name": "stdout",
     "output_type": "stream",
     "text": [
      "Radius in px: 50\n"
     ]
    },
    {
     "name": "stderr",
     "output_type": "stream",
     "text": [
      "  5%|▌         | 1/20 [00:00<00:05,  3.56it/s]"
     ]
    },
    {
     "name": "stdout",
     "output_type": "stream",
     "text": [
      "Radius in px: 73\n"
     ]
    },
    {
     "name": "stderr",
     "output_type": "stream",
     "text": [
      " 10%|█         | 2/20 [00:00<00:05,  3.12it/s]"
     ]
    },
    {
     "name": "stdout",
     "output_type": "stream",
     "text": [
      "Radius in px: 97\n"
     ]
    },
    {
     "name": "stderr",
     "output_type": "stream",
     "text": [
      " 15%|█▌        | 3/20 [00:01<00:06,  2.68it/s]"
     ]
    },
    {
     "name": "stdout",
     "output_type": "stream",
     "text": [
      "Radius in px: 121\n"
     ]
    },
    {
     "name": "stderr",
     "output_type": "stream",
     "text": [
      " 20%|██        | 4/20 [00:01<00:07,  2.27it/s]"
     ]
    },
    {
     "name": "stdout",
     "output_type": "stream",
     "text": [
      "Radius in px: 144\n"
     ]
    },
    {
     "name": "stderr",
     "output_type": "stream",
     "text": [
      " 25%|██▌       | 5/20 [00:02<00:07,  1.95it/s]"
     ]
    },
    {
     "name": "stdout",
     "output_type": "stream",
     "text": [
      "Radius in px: 168\n"
     ]
    },
    {
     "name": "stderr",
     "output_type": "stream",
     "text": [
      " 30%|███       | 6/20 [00:02<00:08,  1.71it/s]"
     ]
    },
    {
     "name": "stdout",
     "output_type": "stream",
     "text": [
      "Radius in px: 192\n"
     ]
    },
    {
     "name": "stderr",
     "output_type": "stream",
     "text": [
      " 35%|███▌      | 7/20 [00:03<00:08,  1.55it/s]"
     ]
    },
    {
     "name": "stdout",
     "output_type": "stream",
     "text": [
      "Radius in px: 215\n"
     ]
    },
    {
     "name": "stderr",
     "output_type": "stream",
     "text": [
      " 40%|████      | 8/20 [00:04<00:08,  1.46it/s]"
     ]
    },
    {
     "name": "stdout",
     "output_type": "stream",
     "text": [
      "Radius in px: 239\n"
     ]
    },
    {
     "name": "stderr",
     "output_type": "stream",
     "text": [
      " 45%|████▌     | 9/20 [00:05<00:07,  1.38it/s]"
     ]
    },
    {
     "name": "stdout",
     "output_type": "stream",
     "text": [
      "Radius in px: 263\n"
     ]
    },
    {
     "name": "stderr",
     "output_type": "stream",
     "text": [
      " 50%|█████     | 10/20 [00:06<00:07,  1.32it/s]"
     ]
    },
    {
     "name": "stdout",
     "output_type": "stream",
     "text": [
      "Radius in px: 286\n"
     ]
    },
    {
     "name": "stderr",
     "output_type": "stream",
     "text": [
      " 55%|█████▌    | 11/20 [00:07<00:07,  1.26it/s]"
     ]
    },
    {
     "name": "stdout",
     "output_type": "stream",
     "text": [
      "Radius in px: 310\n"
     ]
    },
    {
     "name": "stderr",
     "output_type": "stream",
     "text": [
      " 60%|██████    | 12/20 [00:07<00:06,  1.22it/s]"
     ]
    },
    {
     "name": "stdout",
     "output_type": "stream",
     "text": [
      "Radius in px: 334\n"
     ]
    },
    {
     "name": "stderr",
     "output_type": "stream",
     "text": [
      " 65%|██████▌   | 13/20 [00:08<00:05,  1.18it/s]"
     ]
    },
    {
     "name": "stdout",
     "output_type": "stream",
     "text": [
      "Radius in px: 357\n"
     ]
    },
    {
     "name": "stderr",
     "output_type": "stream",
     "text": [
      " 70%|███████   | 14/20 [00:09<00:05,  1.16it/s]"
     ]
    },
    {
     "name": "stdout",
     "output_type": "stream",
     "text": [
      "Radius in px: 381\n"
     ]
    },
    {
     "name": "stderr",
     "output_type": "stream",
     "text": [
      " 75%|███████▌  | 15/20 [00:10<00:04,  1.06it/s]"
     ]
    },
    {
     "name": "stdout",
     "output_type": "stream",
     "text": [
      "Radius in px: 405\n"
     ]
    },
    {
     "name": "stderr",
     "output_type": "stream",
     "text": [
      " 80%|████████  | 16/20 [00:11<00:03,  1.01it/s]"
     ]
    },
    {
     "name": "stdout",
     "output_type": "stream",
     "text": [
      "Radius in px: 428\n"
     ]
    },
    {
     "name": "stderr",
     "output_type": "stream",
     "text": [
      " 85%|████████▌ | 17/20 [00:12<00:02,  1.04it/s]"
     ]
    },
    {
     "name": "stdout",
     "output_type": "stream",
     "text": [
      "Radius in px: 452\n"
     ]
    },
    {
     "name": "stderr",
     "output_type": "stream",
     "text": [
      " 90%|█████████ | 18/20 [00:13<00:01,  1.03it/s]"
     ]
    },
    {
     "name": "stdout",
     "output_type": "stream",
     "text": [
      "Radius in px: 476\n"
     ]
    },
    {
     "name": "stderr",
     "output_type": "stream",
     "text": [
      " 95%|█████████▌| 19/20 [00:15<00:01,  1.03s/it]"
     ]
    },
    {
     "name": "stdout",
     "output_type": "stream",
     "text": [
      "Radius in px: 500\n"
     ]
    },
    {
     "name": "stderr",
     "output_type": "stream",
     "text": [
      "100%|██████████| 20/20 [00:16<00:00,  1.24it/s]\n"
     ]
    },
    {
     "name": "stdout",
     "output_type": "stream",
     "text": [
      "importIitYarp trying path: /home/schiavazza/data/hpe/fault_button/april_exp/binary/long/button3\n",
      "Examining info.log: /home/schiavazza/data/hpe/fault_button/april_exp/binary/long/button3/info.log\n",
      "[531, 282]\n"
     ]
    },
    {
     "name": "stderr",
     "output_type": "stream",
     "text": [
      "  0%|          | 0/20 [00:00<?, ?it/s]"
     ]
    },
    {
     "name": "stdout",
     "output_type": "stream",
     "text": [
      "Radius in px: 50\n"
     ]
    },
    {
     "name": "stderr",
     "output_type": "stream",
     "text": [
      "  5%|▌         | 1/20 [00:00<00:07,  2.65it/s]"
     ]
    },
    {
     "name": "stdout",
     "output_type": "stream",
     "text": [
      "Radius in px: 73\n"
     ]
    },
    {
     "name": "stderr",
     "output_type": "stream",
     "text": [
      " 10%|█         | 2/20 [00:00<00:07,  2.40it/s]"
     ]
    },
    {
     "name": "stdout",
     "output_type": "stream",
     "text": [
      "Radius in px: 97\n"
     ]
    },
    {
     "name": "stderr",
     "output_type": "stream",
     "text": [
      " 15%|█▌        | 3/20 [00:01<00:08,  2.08it/s]"
     ]
    },
    {
     "name": "stdout",
     "output_type": "stream",
     "text": [
      "Radius in px: 121\n"
     ]
    },
    {
     "name": "stderr",
     "output_type": "stream",
     "text": [
      " 20%|██        | 4/20 [00:02<00:09,  1.73it/s]"
     ]
    },
    {
     "name": "stdout",
     "output_type": "stream",
     "text": [
      "Radius in px: 144\n"
     ]
    },
    {
     "name": "stderr",
     "output_type": "stream",
     "text": [
      " 25%|██▌       | 5/20 [00:02<00:09,  1.53it/s]"
     ]
    },
    {
     "name": "stdout",
     "output_type": "stream",
     "text": [
      "Radius in px: 168\n"
     ]
    },
    {
     "name": "stderr",
     "output_type": "stream",
     "text": [
      " 30%|███       | 6/20 [00:03<00:10,  1.35it/s]"
     ]
    },
    {
     "name": "stdout",
     "output_type": "stream",
     "text": [
      "Radius in px: 192\n"
     ]
    },
    {
     "name": "stderr",
     "output_type": "stream",
     "text": [
      " 35%|███▌      | 7/20 [00:04<00:10,  1.22it/s]"
     ]
    },
    {
     "name": "stdout",
     "output_type": "stream",
     "text": [
      "Radius in px: 215\n"
     ]
    },
    {
     "name": "stderr",
     "output_type": "stream",
     "text": [
      " 40%|████      | 8/20 [00:05<00:10,  1.12it/s]"
     ]
    },
    {
     "name": "stdout",
     "output_type": "stream",
     "text": [
      "Radius in px: 239\n"
     ]
    },
    {
     "name": "stderr",
     "output_type": "stream",
     "text": [
      " 45%|████▌     | 9/20 [00:06<00:10,  1.03it/s]"
     ]
    },
    {
     "name": "stdout",
     "output_type": "stream",
     "text": [
      "Radius in px: 263\n"
     ]
    },
    {
     "name": "stderr",
     "output_type": "stream",
     "text": [
      " 50%|█████     | 10/20 [00:08<00:10,  1.04s/it]"
     ]
    },
    {
     "name": "stdout",
     "output_type": "stream",
     "text": [
      "Radius in px: 286\n"
     ]
    },
    {
     "name": "stderr",
     "output_type": "stream",
     "text": [
      " 55%|█████▌    | 11/20 [00:09<00:10,  1.12s/it]"
     ]
    },
    {
     "name": "stdout",
     "output_type": "stream",
     "text": [
      "Radius in px: 310\n"
     ]
    },
    {
     "name": "stderr",
     "output_type": "stream",
     "text": [
      " 60%|██████    | 12/20 [00:10<00:09,  1.16s/it]"
     ]
    },
    {
     "name": "stdout",
     "output_type": "stream",
     "text": [
      "Radius in px: 334\n"
     ]
    },
    {
     "name": "stderr",
     "output_type": "stream",
     "text": [
      " 65%|██████▌   | 13/20 [00:11<00:08,  1.19s/it]"
     ]
    },
    {
     "name": "stdout",
     "output_type": "stream",
     "text": [
      "Radius in px: 357\n"
     ]
    },
    {
     "name": "stderr",
     "output_type": "stream",
     "text": [
      " 70%|███████   | 14/20 [00:13<00:07,  1.21s/it]"
     ]
    },
    {
     "name": "stdout",
     "output_type": "stream",
     "text": [
      "Radius in px: 381\n"
     ]
    },
    {
     "name": "stderr",
     "output_type": "stream",
     "text": [
      " 75%|███████▌  | 15/20 [00:14<00:06,  1.22s/it]"
     ]
    },
    {
     "name": "stdout",
     "output_type": "stream",
     "text": [
      "Radius in px: 405\n"
     ]
    },
    {
     "name": "stderr",
     "output_type": "stream",
     "text": [
      " 80%|████████  | 16/20 [00:15<00:04,  1.21s/it]"
     ]
    },
    {
     "name": "stdout",
     "output_type": "stream",
     "text": [
      "Radius in px: 428\n"
     ]
    },
    {
     "name": "stderr",
     "output_type": "stream",
     "text": [
      " 85%|████████▌ | 17/20 [00:16<00:03,  1.18s/it]"
     ]
    },
    {
     "name": "stdout",
     "output_type": "stream",
     "text": [
      "Radius in px: 452\n"
     ]
    },
    {
     "name": "stderr",
     "output_type": "stream",
     "text": [
      " 90%|█████████ | 18/20 [00:17<00:02,  1.17s/it]"
     ]
    },
    {
     "name": "stdout",
     "output_type": "stream",
     "text": [
      "Radius in px: 476\n"
     ]
    },
    {
     "name": "stderr",
     "output_type": "stream",
     "text": [
      " 95%|█████████▌| 19/20 [00:19<00:01,  1.15s/it]"
     ]
    },
    {
     "name": "stdout",
     "output_type": "stream",
     "text": [
      "Radius in px: 500\n"
     ]
    },
    {
     "name": "stderr",
     "output_type": "stream",
     "text": [
      "100%|██████████| 20/20 [00:20<00:00,  1.01s/it]\n"
     ]
    },
    {
     "name": "stdout",
     "output_type": "stream",
     "text": [
      "importIitYarp trying path: /home/schiavazza/data/hpe/fault_button/april_exp/binary/long/button4\n",
      "Examining info.log: /home/schiavazza/data/hpe/fault_button/april_exp/binary/long/button4/info.log\n",
      "[509, 283]\n"
     ]
    },
    {
     "name": "stderr",
     "output_type": "stream",
     "text": [
      "  0%|          | 0/20 [00:00<?, ?it/s]"
     ]
    },
    {
     "name": "stdout",
     "output_type": "stream",
     "text": [
      "Radius in px: 50\n"
     ]
    },
    {
     "name": "stderr",
     "output_type": "stream",
     "text": [
      "  5%|▌         | 1/20 [00:00<00:05,  3.22it/s]"
     ]
    },
    {
     "name": "stdout",
     "output_type": "stream",
     "text": [
      "Radius in px: 73\n"
     ]
    },
    {
     "name": "stderr",
     "output_type": "stream",
     "text": [
      " 10%|█         | 2/20 [00:00<00:06,  2.87it/s]"
     ]
    },
    {
     "name": "stdout",
     "output_type": "stream",
     "text": [
      "Radius in px: 97\n"
     ]
    },
    {
     "name": "stderr",
     "output_type": "stream",
     "text": [
      " 15%|█▌        | 3/20 [00:01<00:06,  2.49it/s]"
     ]
    },
    {
     "name": "stdout",
     "output_type": "stream",
     "text": [
      "Radius in px: 121\n"
     ]
    },
    {
     "name": "stderr",
     "output_type": "stream",
     "text": [
      " 20%|██        | 4/20 [00:01<00:07,  2.11it/s]"
     ]
    },
    {
     "name": "stdout",
     "output_type": "stream",
     "text": [
      "Radius in px: 144\n"
     ]
    },
    {
     "name": "stderr",
     "output_type": "stream",
     "text": [
      " 25%|██▌       | 5/20 [00:02<00:08,  1.80it/s]"
     ]
    },
    {
     "name": "stdout",
     "output_type": "stream",
     "text": [
      "Radius in px: 168\n"
     ]
    },
    {
     "name": "stderr",
     "output_type": "stream",
     "text": [
      " 30%|███       | 6/20 [00:03<00:08,  1.56it/s]"
     ]
    },
    {
     "name": "stdout",
     "output_type": "stream",
     "text": [
      "Radius in px: 192\n"
     ]
    },
    {
     "name": "stderr",
     "output_type": "stream",
     "text": [
      " 35%|███▌      | 7/20 [00:04<00:09,  1.41it/s]"
     ]
    },
    {
     "name": "stdout",
     "output_type": "stream",
     "text": [
      "Radius in px: 215\n"
     ]
    },
    {
     "name": "stderr",
     "output_type": "stream",
     "text": [
      " 40%|████      | 8/20 [00:04<00:09,  1.31it/s]"
     ]
    },
    {
     "name": "stdout",
     "output_type": "stream",
     "text": [
      "Radius in px: 239\n"
     ]
    },
    {
     "name": "stderr",
     "output_type": "stream",
     "text": [
      " 45%|████▌     | 9/20 [00:05<00:09,  1.22it/s]"
     ]
    },
    {
     "name": "stdout",
     "output_type": "stream",
     "text": [
      "Radius in px: 263\n"
     ]
    },
    {
     "name": "stderr",
     "output_type": "stream",
     "text": [
      " 50%|█████     | 10/20 [00:06<00:08,  1.14it/s]"
     ]
    },
    {
     "name": "stdout",
     "output_type": "stream",
     "text": [
      "Radius in px: 286\n"
     ]
    },
    {
     "name": "stderr",
     "output_type": "stream",
     "text": [
      " 55%|█████▌    | 11/20 [00:07<00:08,  1.07it/s]"
     ]
    },
    {
     "name": "stdout",
     "output_type": "stream",
     "text": [
      "Radius in px: 310\n"
     ]
    },
    {
     "name": "stderr",
     "output_type": "stream",
     "text": [
      " 60%|██████    | 12/20 [00:09<00:07,  1.03it/s]"
     ]
    },
    {
     "name": "stdout",
     "output_type": "stream",
     "text": [
      "Radius in px: 334\n"
     ]
    },
    {
     "name": "stderr",
     "output_type": "stream",
     "text": [
      " 65%|██████▌   | 13/20 [00:10<00:07,  1.01s/it]"
     ]
    },
    {
     "name": "stdout",
     "output_type": "stream",
     "text": [
      "Radius in px: 357\n"
     ]
    },
    {
     "name": "stderr",
     "output_type": "stream",
     "text": [
      " 70%|███████   | 14/20 [00:11<00:06,  1.04s/it]"
     ]
    },
    {
     "name": "stdout",
     "output_type": "stream",
     "text": [
      "Radius in px: 381\n"
     ]
    },
    {
     "name": "stderr",
     "output_type": "stream",
     "text": [
      " 75%|███████▌  | 15/20 [00:12<00:05,  1.06s/it]"
     ]
    },
    {
     "name": "stdout",
     "output_type": "stream",
     "text": [
      "Radius in px: 405\n"
     ]
    },
    {
     "name": "stderr",
     "output_type": "stream",
     "text": [
      " 80%|████████  | 16/20 [00:13<00:04,  1.08s/it]"
     ]
    },
    {
     "name": "stdout",
     "output_type": "stream",
     "text": [
      "Radius in px: 428\n"
     ]
    },
    {
     "name": "stderr",
     "output_type": "stream",
     "text": [
      " 85%|████████▌ | 17/20 [00:14<00:03,  1.08s/it]"
     ]
    },
    {
     "name": "stdout",
     "output_type": "stream",
     "text": [
      "Radius in px: 452\n"
     ]
    },
    {
     "name": "stderr",
     "output_type": "stream",
     "text": [
      " 90%|█████████ | 18/20 [00:15<00:02,  1.07s/it]"
     ]
    },
    {
     "name": "stdout",
     "output_type": "stream",
     "text": [
      "Radius in px: 476\n"
     ]
    },
    {
     "name": "stderr",
     "output_type": "stream",
     "text": [
      " 95%|█████████▌| 19/20 [00:16<00:01,  1.11s/it]"
     ]
    },
    {
     "name": "stdout",
     "output_type": "stream",
     "text": [
      "Radius in px: 500\n"
     ]
    },
    {
     "name": "stderr",
     "output_type": "stream",
     "text": [
      "100%|██████████| 20/20 [00:17<00:00,  1.11it/s]\n"
     ]
    },
    {
     "name": "stdout",
     "output_type": "stream",
     "text": [
      "importIitYarp trying path: /home/schiavazza/data/hpe/fault_button/APRIL/exp01/data\n"
     ]
    },
    {
     "name": "stderr",
     "output_type": "stream",
     "text": [
      "100%|██████████| 20781/20781 [00:05<00:00, 3896.06it/s]\n"
     ]
    },
    {
     "name": "stdout",
     "output_type": "stream",
     "text": [
      "Examining info.log: /home/schiavazza/data/hpe/fault_button/APRIL/exp01/data/info.log\n",
      "[582, 369]\n"
     ]
    },
    {
     "name": "stderr",
     "output_type": "stream",
     "text": [
      " 15%|█▌        | 3/20 [00:00<00:00, 20.34it/s]"
     ]
    },
    {
     "name": "stdout",
     "output_type": "stream",
     "text": [
      "Radius in px: 50\n",
      "Radius in px: 73\n",
      "Radius in px: 97\n",
      "Radius in px: 121\n"
     ]
    },
    {
     "name": "stderr",
     "output_type": "stream",
     "text": [
      " 30%|███       | 6/20 [00:00<00:00, 16.69it/s]"
     ]
    },
    {
     "name": "stdout",
     "output_type": "stream",
     "text": [
      "Radius in px: 144\n",
      "Radius in px: 168\n",
      "Radius in px: 192\n"
     ]
    },
    {
     "name": "stderr",
     "output_type": "stream",
     "text": [
      " 40%|████      | 8/20 [00:00<00:00, 13.75it/s]"
     ]
    },
    {
     "name": "stdout",
     "output_type": "stream",
     "text": [
      "Radius in px: 215\n",
      "Radius in px: 239\n"
     ]
    },
    {
     "name": "stderr",
     "output_type": "stream",
     "text": [
      " 50%|█████     | 10/20 [00:00<00:01,  9.94it/s]"
     ]
    },
    {
     "name": "stdout",
     "output_type": "stream",
     "text": [
      "Radius in px: 263\n",
      "Radius in px: 286\n"
     ]
    },
    {
     "name": "stderr",
     "output_type": "stream",
     "text": [
      " 60%|██████    | 12/20 [00:01<00:00,  8.00it/s]"
     ]
    },
    {
     "name": "stdout",
     "output_type": "stream",
     "text": [
      "Radius in px: 310\n",
      "Radius in px: 334\n"
     ]
    },
    {
     "name": "stderr",
     "output_type": "stream",
     "text": [
      " 70%|███████   | 14/20 [00:01<00:00,  6.97it/s]"
     ]
    },
    {
     "name": "stdout",
     "output_type": "stream",
     "text": [
      "Radius in px: 357\n",
      "Radius in px: 381\n"
     ]
    },
    {
     "name": "stderr",
     "output_type": "stream",
     "text": [
      " 80%|████████  | 16/20 [00:01<00:00,  6.46it/s]"
     ]
    },
    {
     "name": "stdout",
     "output_type": "stream",
     "text": [
      "Radius in px: 405\n",
      "Radius in px: 428\n"
     ]
    },
    {
     "name": "stderr",
     "output_type": "stream",
     "text": [
      " 90%|█████████ | 18/20 [00:02<00:00,  6.21it/s]"
     ]
    },
    {
     "name": "stdout",
     "output_type": "stream",
     "text": [
      "Radius in px: 452\n",
      "Radius in px: 476\n"
     ]
    },
    {
     "name": "stderr",
     "output_type": "stream",
     "text": [
      "100%|██████████| 20/20 [00:02<00:00,  7.77it/s]\n"
     ]
    },
    {
     "name": "stdout",
     "output_type": "stream",
     "text": [
      "Radius in px: 500\n",
      "importIitYarp trying path: /home/schiavazza/data/hpe/fault_button/APRIL/exp02/data\n"
     ]
    },
    {
     "name": "stderr",
     "output_type": "stream",
     "text": [
      "100%|██████████| 50892/50892 [00:13<00:00, 3876.40it/s]\n"
     ]
    },
    {
     "name": "stdout",
     "output_type": "stream",
     "text": [
      "Examining info.log: /home/schiavazza/data/hpe/fault_button/APRIL/exp02/data/info.log\n",
      "[589, 366]\n"
     ]
    },
    {
     "name": "stderr",
     "output_type": "stream",
     "text": [
      "  5%|▌         | 1/20 [00:00<00:01,  9.52it/s]"
     ]
    },
    {
     "name": "stdout",
     "output_type": "stream",
     "text": [
      "Radius in px: 50\n",
      "Radius in px: 73\n"
     ]
    },
    {
     "name": "stderr",
     "output_type": "stream",
     "text": [
      " 15%|█▌        | 3/20 [00:00<00:01,  8.64it/s]"
     ]
    },
    {
     "name": "stdout",
     "output_type": "stream",
     "text": [
      "Radius in px: 97\n",
      "Radius in px: 121\n"
     ]
    },
    {
     "name": "stderr",
     "output_type": "stream",
     "text": [
      " 25%|██▌       | 5/20 [00:00<00:01,  7.71it/s]"
     ]
    },
    {
     "name": "stdout",
     "output_type": "stream",
     "text": [
      "Radius in px: 144\n",
      "Radius in px: 168\n"
     ]
    },
    {
     "name": "stderr",
     "output_type": "stream",
     "text": [
      " 30%|███       | 6/20 [00:00<00:01,  7.09it/s]"
     ]
    },
    {
     "name": "stdout",
     "output_type": "stream",
     "text": [
      "Radius in px: 192\n"
     ]
    },
    {
     "name": "stderr",
     "output_type": "stream",
     "text": [
      " 35%|███▌      | 7/20 [00:01<00:02,  5.96it/s]"
     ]
    },
    {
     "name": "stdout",
     "output_type": "stream",
     "text": [
      "Radius in px: 215\n"
     ]
    },
    {
     "name": "stderr",
     "output_type": "stream",
     "text": [
      " 40%|████      | 8/20 [00:01<00:02,  5.14it/s]"
     ]
    },
    {
     "name": "stdout",
     "output_type": "stream",
     "text": [
      "Radius in px: 239\n"
     ]
    },
    {
     "name": "stderr",
     "output_type": "stream",
     "text": [
      " 45%|████▌     | 9/20 [00:01<00:02,  3.95it/s]"
     ]
    },
    {
     "name": "stdout",
     "output_type": "stream",
     "text": [
      "Radius in px: 263\n"
     ]
    },
    {
     "name": "stderr",
     "output_type": "stream",
     "text": [
      " 50%|█████     | 10/20 [00:02<00:02,  3.35it/s]"
     ]
    },
    {
     "name": "stdout",
     "output_type": "stream",
     "text": [
      "Radius in px: 286\n"
     ]
    },
    {
     "name": "stderr",
     "output_type": "stream",
     "text": [
      " 55%|█████▌    | 11/20 [00:02<00:03,  2.92it/s]"
     ]
    },
    {
     "name": "stdout",
     "output_type": "stream",
     "text": [
      "Radius in px: 310\n"
     ]
    },
    {
     "name": "stderr",
     "output_type": "stream",
     "text": [
      " 60%|██████    | 12/20 [00:02<00:03,  2.53it/s]"
     ]
    },
    {
     "name": "stdout",
     "output_type": "stream",
     "text": [
      "Radius in px: 334\n"
     ]
    },
    {
     "name": "stderr",
     "output_type": "stream",
     "text": [
      " 65%|██████▌   | 13/20 [00:03<00:03,  2.29it/s]"
     ]
    },
    {
     "name": "stdout",
     "output_type": "stream",
     "text": [
      "Radius in px: 357\n"
     ]
    },
    {
     "name": "stderr",
     "output_type": "stream",
     "text": [
      " 70%|███████   | 14/20 [00:04<00:02,  2.20it/s]"
     ]
    },
    {
     "name": "stdout",
     "output_type": "stream",
     "text": [
      "Radius in px: 381\n"
     ]
    },
    {
     "name": "stderr",
     "output_type": "stream",
     "text": [
      " 75%|███████▌  | 15/20 [00:04<00:02,  2.22it/s]"
     ]
    },
    {
     "name": "stdout",
     "output_type": "stream",
     "text": [
      "Radius in px: 405\n"
     ]
    },
    {
     "name": "stderr",
     "output_type": "stream",
     "text": [
      " 80%|████████  | 16/20 [00:04<00:01,  2.22it/s]"
     ]
    },
    {
     "name": "stdout",
     "output_type": "stream",
     "text": [
      "Radius in px: 428\n"
     ]
    },
    {
     "name": "stderr",
     "output_type": "stream",
     "text": [
      " 85%|████████▌ | 17/20 [00:05<00:01,  2.24it/s]"
     ]
    },
    {
     "name": "stdout",
     "output_type": "stream",
     "text": [
      "Radius in px: 452\n"
     ]
    },
    {
     "name": "stderr",
     "output_type": "stream",
     "text": [
      " 90%|█████████ | 18/20 [00:05<00:00,  2.24it/s]"
     ]
    },
    {
     "name": "stdout",
     "output_type": "stream",
     "text": [
      "Radius in px: 476\n"
     ]
    },
    {
     "name": "stderr",
     "output_type": "stream",
     "text": [
      " 95%|█████████▌| 19/20 [00:06<00:00,  2.23it/s]"
     ]
    },
    {
     "name": "stdout",
     "output_type": "stream",
     "text": [
      "Radius in px: 500\n"
     ]
    },
    {
     "name": "stderr",
     "output_type": "stream",
     "text": [
      "100%|██████████| 20/20 [00:06<00:00,  3.00it/s]\n"
     ]
    },
    {
     "name": "stdout",
     "output_type": "stream",
     "text": [
      "importIitYarp trying path: /home/schiavazza/data/hpe/fault_button/APRIL/exp03/data\n"
     ]
    },
    {
     "name": "stderr",
     "output_type": "stream",
     "text": [
      "100%|██████████| 38970/38970 [00:10<00:00, 3794.91it/s]\n"
     ]
    },
    {
     "name": "stdout",
     "output_type": "stream",
     "text": [
      "Examining info.log: /home/schiavazza/data/hpe/fault_button/APRIL/exp03/data/info.log\n",
      "[607, 376]\n"
     ]
    },
    {
     "name": "stderr",
     "output_type": "stream",
     "text": [
      " 10%|█         | 2/20 [00:00<00:01, 13.25it/s]"
     ]
    },
    {
     "name": "stdout",
     "output_type": "stream",
     "text": [
      "Radius in px: 50\n",
      "Radius in px: 73\n",
      "Radius in px: 97\n"
     ]
    },
    {
     "name": "stderr",
     "output_type": "stream",
     "text": [
      " 20%|██        | 4/20 [00:00<00:01, 11.52it/s]"
     ]
    },
    {
     "name": "stdout",
     "output_type": "stream",
     "text": [
      "Radius in px: 121\n",
      "Radius in px: 144\n",
      "Radius in px: 168\n"
     ]
    },
    {
     "name": "stderr",
     "output_type": "stream",
     "text": [
      " 30%|███       | 6/20 [00:00<00:01, 10.73it/s]"
     ]
    },
    {
     "name": "stdout",
     "output_type": "stream",
     "text": [
      "Radius in px: 192\n",
      "Radius in px: 215\n"
     ]
    },
    {
     "name": "stderr",
     "output_type": "stream",
     "text": [
      " 40%|████      | 8/20 [00:00<00:01,  9.38it/s]"
     ]
    },
    {
     "name": "stdout",
     "output_type": "stream",
     "text": [
      "Radius in px: 239\n"
     ]
    },
    {
     "name": "stderr",
     "output_type": "stream",
     "text": [
      " 45%|████▌     | 9/20 [00:01<00:01,  7.74it/s]"
     ]
    },
    {
     "name": "stdout",
     "output_type": "stream",
     "text": [
      "Radius in px: 263\n"
     ]
    },
    {
     "name": "stderr",
     "output_type": "stream",
     "text": [
      " 50%|█████     | 10/20 [00:01<00:01,  5.71it/s]"
     ]
    },
    {
     "name": "stdout",
     "output_type": "stream",
     "text": [
      "Radius in px: 286\n"
     ]
    },
    {
     "name": "stderr",
     "output_type": "stream",
     "text": [
      " 55%|█████▌    | 11/20 [00:01<00:02,  4.44it/s]"
     ]
    },
    {
     "name": "stdout",
     "output_type": "stream",
     "text": [
      "Radius in px: 310\n"
     ]
    },
    {
     "name": "stderr",
     "output_type": "stream",
     "text": [
      " 60%|██████    | 12/20 [00:02<00:02,  3.67it/s]"
     ]
    },
    {
     "name": "stdout",
     "output_type": "stream",
     "text": [
      "Radius in px: 334\n"
     ]
    },
    {
     "name": "stderr",
     "output_type": "stream",
     "text": [
      " 65%|██████▌   | 13/20 [00:02<00:02,  3.25it/s]"
     ]
    },
    {
     "name": "stdout",
     "output_type": "stream",
     "text": [
      "Radius in px: 357\n"
     ]
    },
    {
     "name": "stderr",
     "output_type": "stream",
     "text": [
      " 70%|███████   | 14/20 [00:02<00:01,  3.14it/s]"
     ]
    },
    {
     "name": "stdout",
     "output_type": "stream",
     "text": [
      "Radius in px: 381\n"
     ]
    },
    {
     "name": "stderr",
     "output_type": "stream",
     "text": [
      " 75%|███████▌  | 15/20 [00:03<00:01,  2.96it/s]"
     ]
    },
    {
     "name": "stdout",
     "output_type": "stream",
     "text": [
      "Radius in px: 405\n"
     ]
    },
    {
     "name": "stderr",
     "output_type": "stream",
     "text": [
      " 80%|████████  | 16/20 [00:03<00:01,  2.99it/s]"
     ]
    },
    {
     "name": "stdout",
     "output_type": "stream",
     "text": [
      "Radius in px: 428\n"
     ]
    },
    {
     "name": "stderr",
     "output_type": "stream",
     "text": [
      " 85%|████████▌ | 17/20 [00:04<00:01,  2.53it/s]"
     ]
    },
    {
     "name": "stdout",
     "output_type": "stream",
     "text": [
      "Radius in px: 452\n"
     ]
    },
    {
     "name": "stderr",
     "output_type": "stream",
     "text": [
      " 90%|█████████ | 18/20 [00:04<00:00,  2.53it/s]"
     ]
    },
    {
     "name": "stdout",
     "output_type": "stream",
     "text": [
      "Radius in px: 476\n"
     ]
    },
    {
     "name": "stderr",
     "output_type": "stream",
     "text": [
      " 95%|█████████▌| 19/20 [00:04<00:00,  2.68it/s]"
     ]
    },
    {
     "name": "stdout",
     "output_type": "stream",
     "text": [
      "Radius in px: 500\n"
     ]
    },
    {
     "name": "stderr",
     "output_type": "stream",
     "text": [
      "100%|██████████| 20/20 [00:05<00:00,  3.77it/s]\n"
     ]
    }
   ],
   "source": [
    "scales = np.linspace(50.0, 500, 20)\n",
    "dataset_tres = 0.01\n",
    "base_thresh = 9\n",
    "\n",
    "total_diff = np.empty((n, ), dtype='object')\n",
    "total_missed = np.empty((n, ), dtype='object')\n",
    "total_false = np.empty((n, ), dtype='object')\n",
    "\n",
    "for path in data_list1:\n",
    "    plotter = utils.Plotter(path)\n",
    "    diffs, false_detections, missed_detections = plotter.compute_stats_scale(base_thresh, scales, dataset_tres)\n",
    "\n",
    "    for i, t in enumerate(diffs):\n",
    "        total_diff[i] = np.append(total_diff[i], t)\n",
    "    for i, t in enumerate(false_detections):\n",
    "        total_false[i] = np.append(total_false[i], t)\n",
    "    for i, t in enumerate(missed_detections):\n",
    "        total_missed[i] = np.append(total_missed[i], t)\n",
    "\n",
    "u_diff1 = np.zeros((n,), dtype=float)\n",
    "std_diff1 = np.zeros((n,), dtype=float)\n",
    "\n",
    "u_false1 = np.zeros((n,), dtype=float)\n",
    "std_false1 = np.zeros((n,), dtype=float)\n",
    "\n",
    "u_missed1 = np.zeros((n,), dtype=float)\n",
    "std_missed1 = np.zeros((n,), dtype=float)\n",
    "\n",
    "\n",
    "for i, _ in enumerate(total_diff):\n",
    "    tmp = np.array(total_diff[i], dtype=float)\n",
    "    u_diff1[i] = np.nanmean(tmp)\n",
    "    std_diff1[i] = np.nanstd(tmp)\n",
    "\n",
    "    tmp = np.array(total_false[i], dtype=float)\n",
    "    u_false1[i] = np.nanmean(tmp)\n",
    "    std_false1[i] = np.nanstd(tmp)\n",
    "\n",
    "    tmp = np.array(total_missed[i], dtype=float)\n",
    "    u_missed1[i] = np.nanmean(tmp)\n",
    "    std_missed1[i] = np.nanstd(tmp)\n",
    "\n",
    "\n",
    "scales = np.linspace(50.0, 500, 20)\n",
    "dataset_tres = 0.01\n",
    "base_thresh = 7\n",
    "\n",
    "total_diff = np.empty((n, ), dtype='object')\n",
    "total_missed = np.empty((n, ), dtype='object')\n",
    "total_false = np.empty((n, ), dtype='object')\n",
    "\n",
    "for path in data_list2:\n",
    "    plotter = utils.Plotter(path)\n",
    "    diffs, false_detections, missed_detections = plotter.compute_stats_scale(base_thresh, scales, dataset_tres)\n",
    "\n",
    "    for i, t in enumerate(diffs):\n",
    "        total_diff[i] = np.append(total_diff[i], t)\n",
    "    for i, t in enumerate(false_detections):\n",
    "        total_false[i] = np.append(total_false[i], t)\n",
    "    for i, t in enumerate(missed_detections):\n",
    "        total_missed[i] = np.append(total_missed[i], t)\n",
    "\n",
    "u_diff2 = np.zeros((n,), dtype=float)\n",
    "std_diff2 = np.zeros((n,), dtype=float)\n",
    "\n",
    "u_false2 = np.zeros((n,), dtype=float)\n",
    "std_false2 = np.zeros((n,), dtype=float)\n",
    "\n",
    "u_missed2 = np.zeros((n,), dtype=float)\n",
    "std_missed2 = np.zeros((n,), dtype=float)\n",
    "\n",
    "\n",
    "for i, _ in enumerate(total_diff):\n",
    "    tmp = np.array(total_diff[i], dtype=float)\n",
    "    u_diff2[i] = np.nanmean(tmp)\n",
    "    std_diff2[i] = np.nanstd(tmp)\n",
    "\n",
    "    tmp = np.array(total_false[i], dtype=float)\n",
    "    u_false2[i] = np.nanmean(tmp)\n",
    "    std_false2[i] = np.nanstd(tmp)\n",
    "\n",
    "    tmp = np.array(total_missed[i], dtype=float)\n",
    "    u_missed2[i] = np.nanmean(tmp)\n",
    "    std_missed2[i] = np.nanstd(tmp)\n",
    "\n",
    "\n",
    "scales = np.linspace(50.0, 500, 20)\n",
    "dataset_tres = 0.01\n",
    "base_thresh = 1.5\n",
    "\n",
    "total_diff = np.empty((n, ), dtype='object')\n",
    "total_missed = np.empty((n, ), dtype='object')\n",
    "total_false = np.empty((n, ), dtype='object')\n",
    "\n",
    "for path in data_list3:\n",
    "    plotter = utils.Plotter(path)\n",
    "    diffs, false_detections, missed_detections = plotter.compute_stats_scale(base_thresh, scales, dataset_tres)\n",
    "\n",
    "    for i, t in enumerate(diffs):\n",
    "        total_diff[i] = np.append(total_diff[i], t)\n",
    "    for i, t in enumerate(false_detections):\n",
    "        total_false[i] = np.append(total_false[i], t)\n",
    "    for i, t in enumerate(missed_detections):\n",
    "        total_missed[i] = np.append(total_missed[i], t)\n",
    "\n",
    "u_diff3 = np.zeros((n,), dtype=float)\n",
    "std_diff3 = np.zeros((n,), dtype=float)\n",
    "\n",
    "u_false3 = np.zeros((n,), dtype=float)\n",
    "std_false3 = np.zeros((n,), dtype=float)\n",
    "\n",
    "u_missed3 = np.zeros((n,), dtype=float)\n",
    "std_missed3 = np.zeros((n,), dtype=float)\n",
    "\n",
    "\n",
    "for i, _ in enumerate(total_diff):\n",
    "    tmp = np.array(total_diff[i], dtype=float)\n",
    "    u_diff3[i] = np.nanmean(tmp)\n",
    "    std_diff3[i] = np.nanstd(tmp)\n",
    "\n",
    "    tmp = np.array(total_false[i], dtype=float)\n",
    "    u_false3[i] = np.nanmean(tmp)\n",
    "    std_false3[i] = np.nanstd(tmp)\n",
    "\n",
    "    tmp = np.array(total_missed[i], dtype=float)\n",
    "    u_missed3[i] = np.nanmean(tmp)\n",
    "    std_missed3[i] = np.nanstd(tmp)\n",
    "\n",
    "\n"
   ]
  },
  {
   "cell_type": "code",
   "execution_count": 8,
   "metadata": {},
   "outputs": [
    {
     "data": {
      "image/png": "[encoded data removed]",
      "text/plain": [
       "<Figure size 864x648 with 3 Axes>"
      ]
     },
     "metadata": {
      "needs_background": "light"
     },
     "output_type": "display_data"
    }
   ],
   "source": [
    "\n",
    "fig, axs = plt.subplots(2, 1, figsize=(12, 9))\n",
    "\n",
    "axs2 = axs[1].twinx()\n",
    "\n",
    "u_diffs = [u_diff1, u_diff2, u_diff3]\n",
    "std_diffs = [std_diff1, std_diff2, std_diff3]\n",
    "u_falses = [u_false1, u_false2, u_false3]\n",
    "std_falses = [std_false1, std_false2, std_false3]\n",
    "u_misseds = [u_missed1, u_missed2, u_missed3]\n",
    "std_misseds = [std_missed1, std_missed2, std_missed3]\n",
    "style = [\"solid\", \"dotted\", \"dashed\"]\n",
    "\n",
    "for i in range(3):\n",
    "    u_diff = u_diffs[i]\n",
    "    std_diff = std_diffs[i]\n",
    "    u_false = u_falses[i]\n",
    "    std_false = std_falses[i]\n",
    "    u_missed = u_misseds[i]\n",
    "    std_missed = std_misseds[i]\n",
    "\n",
    "    axs[0].plot(scales, u_diff, label=f\"dataset {i+1}\", color=\"#1f77b4\", linestyle=style[i])\n",
    "    axs[0].fill_between(scales, u_diff-std_diff, u_diff+std_diff, alpha=0.1, color='#1f77b4', linestyle=style[i], label=\"standard deviation\")\n",
    "    # axs[0].set_xticks(scales)\n",
    "\n",
    "    axs[1].set_xlabel(\"Radius [px]\", fontsize=20)\n",
    "    axs[0].set_ylabel(\"Mean time difference [s]\", fontsize=20)\n",
    "    \n",
    "    handles, labels = axs[0].get_legend_handles_labels()\n",
    "    by_label = dict(zip(labels, handles))\n",
    "    axs[0].legend(by_label.values(), by_label.keys(), fontsize=15)\n",
    "\n",
    "    axs[1].plot(scales, u_false, label=f\"false dset{i+1}\", color=\"#1f77b4\", linestyle=style[i])\n",
    "    axs[1].fill_between(scales, u_false-std_false, u_false+std_false, alpha=0.1, label=f\"standard deviation\", color=\"#1f77b4\")\n",
    "    axs[1].set_ylabel(\"False detections\", fontsize=20)\n",
    "\n",
    "    \n",
    "    axs2.plot(scales, u_missed, marker='x', label=f\"missed dset{i+1}\", linestyle=style[i], color=\"orange\")\n",
    "    axs2.fill_between(scales, u_missed-std_missed, u_missed+std_missed, alpha=0.1, label=f\"standard deviation\", color=\"orange\")\n",
    "    axs2.set_ylabel(\"Missed detections\", fontsize=20)\n",
    "    axs2.set_ylim([-0.1*(3), 5])\n",
    "    # ax.set_xticks(scales)\n",
    "    # ax.set_yticks(n_detections)\n",
    "    # ymax = max(max(u_false + std_false), max(u_missed + std_missed))\n",
    "    # ax.set_ylim([-0.5, ymax + 0.5])\n",
    "    # ax.set_xscale('log')\n",
    "    # ax.set_xlabel(\"Base Threshold [ev/s]\", fontsize=20)\n",
    "    # # ax.set_ylabel(\"number of detections\", fontsize=20)\n",
    "    # ax.set_title(\"Detections\", fontsize=22);\n",
    "    handles, labels = axs[1].get_legend_handles_labels()\n",
    "    by_label = dict(zip(labels, handles))\n",
    "    axs[1].legend(by_label.values(), by_label.keys(), fontsize=15, loc=\"upper left\")\n",
    "    # axs[1].legend(loc=\"upper left\", fontsize=15)\n",
    "    handles, labels = axs2.get_legend_handles_labels()\n",
    "    by_label = dict(zip(labels, handles))\n",
    "    axs2.legend(by_label.values(), by_label.keys(), fontsize=15, loc=\"upper right\")\n",
    "    # axs2.legend(loc=\"upper right\", fontsize=15)\n",
    "plt.tight_layout()\n",
    "plt.savefig(\"/home/schiavazza/Pictures/fault_button/stats_scale.png\")"
   ]
  },
  {
   "attachments": {},
   "cell_type": "markdown",
   "metadata": {},
   "source": [
    "The region size influences how early we can detect the intention to press the button. A larger region allows the detection of fast movements earlier, but it may introduce a larger number of false detections.\n",
    "\n",
    "The false and missed detection graph for the second dataset looks very different when compared to the other datasets. \n",
    "More specifically, in the other datasets the number of false detection decreases with the dimension of the roi considered. Smaller rois give better results in the other two datasets. \n",
    "\n",
    "In the second dataset, larger rois seem to perform better compared to smaller ones. The threshold has been adjusted for each dataset. The different results are likely caused by the different scenes. \n",
    "\n",
    "In the other two datasets, the image area where the button is located does not overlap with the working area of the person. In this dataset, the operator might move and do significant work in the space behind the button. When the detection area is kept small this causes more frequent false detections. Having a bigger detection area increases the robustness in these cases. On the other hand, fast movements in an area relatively more distant from the button might also trigger false detections."
   ]
  },
  {
   "cell_type": "code",
   "execution_count": 33,
   "metadata": {},
   "outputs": [
    {
     "name": "stdout",
     "output_type": "stream",
     "text": [
      "importIitYarp trying path: /home/schiavazza/data/hpe/fault_button/osai/fault_button/s1_v1\n",
      "Examining info.log: /home/schiavazza/data/hpe/fault_button/osai/fault_button/s1_v1/info.log\n",
      "[552, 277]\n",
      "Radius in px: 186\n",
      "Threshold: 10033.8, base threshold: 11.719538404036628\n",
      "importIitYarp trying path: /home/schiavazza/data/hpe/fault_button/osai/fault_button/s1_v1\n",
      "Examining info.log: /home/schiavazza/data/hpe/fault_button/osai/fault_button/s1_v1/info.log\n",
      "[552, 277]\n",
      "Radius in px: 186\n"
     ]
    },
    {
     "name": "stderr",
     "output_type": "stream",
     "text": [
      "100%|██████████| 20/20 [00:12<00:00,  1.66it/s]\n"
     ]
    },
    {
     "name": "stdout",
     "output_type": "stream",
     "text": [
      "importIitYarp trying path: /home/schiavazza/data/hpe/fault_button/osai/fault_button/s1_v2\n",
      "Examining info.log: /home/schiavazza/data/hpe/fault_button/osai/fault_button/s1_v2/info.log\n",
      "[552, 277]\n",
      "Radius in px: 186\n"
     ]
    },
    {
     "name": "stderr",
     "output_type": "stream",
     "text": [
      "100%|██████████| 20/20 [00:10<00:00,  1.91it/s]\n"
     ]
    },
    {
     "name": "stdout",
     "output_type": "stream",
     "text": [
      "importIitYarp trying path: /home/schiavazza/data/hpe/fault_button/osai/fault_button/s2_v1\n",
      "Examining info.log: /home/schiavazza/data/hpe/fault_button/osai/fault_button/s2_v1/info.log\n",
      "[552, 277]\n",
      "Radius in px: 186\n"
     ]
    },
    {
     "name": "stderr",
     "output_type": "stream",
     "text": [
      "100%|██████████| 20/20 [00:08<00:00,  2.27it/s]\n"
     ]
    },
    {
     "name": "stdout",
     "output_type": "stream",
     "text": [
      "importIitYarp trying path: /home/schiavazza/data/hpe/fault_button/osai/fault_button/s2_v2\n",
      "Examining info.log: /home/schiavazza/data/hpe/fault_button/osai/fault_button/s2_v2/info.log\n",
      "[552, 277]\n",
      "Radius in px: 186\n"
     ]
    },
    {
     "name": "stderr",
     "output_type": "stream",
     "text": [
      "100%|██████████| 20/20 [00:06<00:00,  3.28it/s]\n"
     ]
    },
    {
     "name": "stdout",
     "output_type": "stream",
     "text": [
      "importIitYarp trying path: /home/schiavazza/data/hpe/fault_button/april_exp/binary/long/button1\n",
      "Examining info.log: /home/schiavazza/data/hpe/fault_button/april_exp/binary/long/button1/info.log\n",
      "[301, 217]\n",
      "Radius in px: 627\n",
      "Threshold: 20717.899999999998, base threshold: 6.744108072916665\n",
      "importIitYarp trying path: /home/schiavazza/data/hpe/fault_button/april_exp/binary/long/button1\n",
      "Examining info.log: /home/schiavazza/data/hpe/fault_button/april_exp/binary/long/button1/info.log\n",
      "[301, 217]\n",
      "Radius in px: 627\n"
     ]
    },
    {
     "name": "stderr",
     "output_type": "stream",
     "text": [
      "100%|██████████| 20/20 [00:13<00:00,  1.53it/s]\n",
      "/home/schiavazza/code/EDPR-APRIL/fault_button/eventrate_test/src/utils.py:441: VisibleDeprecationWarning: Creating an ndarray from ragged nested sequences (which is a list-or-tuple of lists-or-tuples-or ndarrays with different lengths or shapes) is deprecated. If you meant to do this, you must specify 'dtype=object' when creating the ndarray.\n",
      "  differences_ls = np.array(differences_ls)\n"
     ]
    },
    {
     "name": "stdout",
     "output_type": "stream",
     "text": [
      "importIitYarp trying path: /home/schiavazza/data/hpe/fault_button/april_exp/binary/long/button2\n",
      "Examining info.log: /home/schiavazza/data/hpe/fault_button/april_exp/binary/long/button2/info.log\n",
      "[523, 281]\n",
      "Radius in px: 570\n"
     ]
    },
    {
     "name": "stderr",
     "output_type": "stream",
     "text": [
      "100%|██████████| 20/20 [00:13<00:00,  1.47it/s]\n"
     ]
    },
    {
     "name": "stdout",
     "output_type": "stream",
     "text": [
      "importIitYarp trying path: /home/schiavazza/data/hpe/fault_button/april_exp/binary/long/button3\n",
      "Examining info.log: /home/schiavazza/data/hpe/fault_button/april_exp/binary/long/button3/info.log\n",
      "[531, 282]\n",
      "Radius in px: 735\n"
     ]
    },
    {
     "name": "stderr",
     "output_type": "stream",
     "text": [
      "100%|██████████| 20/20 [00:18<00:00,  1.10it/s]\n"
     ]
    },
    {
     "name": "stdout",
     "output_type": "stream",
     "text": [
      "importIitYarp trying path: /home/schiavazza/data/hpe/fault_button/april_exp/binary/long/button4\n",
      "Examining info.log: /home/schiavazza/data/hpe/fault_button/april_exp/binary/long/button4/info.log\n",
      "[509, 283]\n",
      "Radius in px: 840\n"
     ]
    },
    {
     "name": "stderr",
     "output_type": "stream",
     "text": [
      "100%|██████████| 20/20 [00:15<00:00,  1.32it/s]\n"
     ]
    }
   ],
   "source": [
    "scale = 1.0\n",
    "dataset_tres_ls = [10**(-x) for x in np.linspace(1, 4, 20)]\n",
    "base_thresh = 9\n",
    "\n",
    "tmpPlotter = utils.Plotter(data_list1[0])\n",
    "base_thresh = tmpPlotter.find_threshold(scale)\n",
    "base_thresh_ls = base_thresh * thresh_multipliers\n",
    "\n",
    "total_diff = np.empty((n, ), dtype='object')\n",
    "total_missed = np.empty((n, ), dtype='object')\n",
    "total_false = np.empty((n, ), dtype='object')\n",
    "\n",
    "for path in data_list1:\n",
    "    plotter = utils.Plotter(path)\n",
    "    diffs, false_detections, missed_detections = plotter.compute_stats_tres(base_thresh, scale, dataset_tres_ls)\n",
    "\n",
    "    for i, t in enumerate(diffs):\n",
    "        total_diff[i] = np.append(total_diff[i], t)\n",
    "    for i, t in enumerate(false_detections):\n",
    "        total_false[i] = np.append(total_false[i], t)\n",
    "    for i, t in enumerate(missed_detections):\n",
    "        total_missed[i] = np.append(total_missed[i], t)\n",
    "\n",
    "u_diff1 = np.zeros((n,), dtype=float)\n",
    "std_diff1 = np.zeros((n,), dtype=float)\n",
    "\n",
    "u_false1 = np.zeros((n,), dtype=float)\n",
    "std_false1 = np.zeros((n,), dtype=float)\n",
    "\n",
    "u_missed1 = np.zeros((n,), dtype=float)\n",
    "std_missed1 = np.zeros((n,), dtype=float)\n",
    "\n",
    "\n",
    "for i, _ in enumerate(total_diff):\n",
    "    tmp = np.array(total_diff[i], dtype=float)\n",
    "    u_diff1[i] = np.nanmean(tmp)\n",
    "    std_diff1[i] = np.nanstd(tmp)\n",
    "\n",
    "    tmp = np.array(total_false[i], dtype=float)\n",
    "    u_false1[i] = np.nanmean(tmp)\n",
    "    std_false1[i] = np.nanstd(tmp)\n",
    "\n",
    "    tmp = np.array(total_missed[i], dtype=float)\n",
    "    u_missed1[i] = np.nanmean(tmp)\n",
    "    std_missed1[i] = np.nanstd(tmp)\n",
    "\n",
    "scale = 3.0\n",
    "dataset_tres_ls = [10**(-x) for x in np.linspace(1, 4, 20)]\n",
    "base_thresh = 7\n",
    "tmpPlotter = utils.Plotter(data_list2[0])\n",
    "base_thresh = tmpPlotter.find_threshold(scale)\n",
    "base_thresh_ls = base_thresh * thresh_multipliers\n",
    "\n",
    "total_diff = np.empty((n, ), dtype='object')\n",
    "total_missed = np.empty((n, ), dtype='object')\n",
    "total_false = np.empty((n, ), dtype='object')\n",
    "\n",
    "for path in data_list2:\n",
    "    plotter = utils.Plotter(path)\n",
    "    diffs, false_detections, missed_detections = plotter.compute_stats_tres(base_thresh, scale, dataset_tres_ls)\n",
    "\n",
    "    for i, t in enumerate(diffs):\n",
    "        total_diff[i] = np.append(total_diff[i], t)\n",
    "    for i, t in enumerate(false_detections):\n",
    "        total_false[i] = np.append(total_false[i], t)\n",
    "    for i, t in enumerate(missed_detections):\n",
    "        total_missed[i] = np.append(total_missed[i], t)\n",
    "\n",
    "u_diff2 = np.zeros((n,), dtype=float)\n",
    "std_diff2 = np.zeros((n,), dtype=float)\n",
    "\n",
    "u_false2 = np.zeros((n,), dtype=float)\n",
    "std_false2 = np.zeros((n,), dtype=float)\n",
    "\n",
    "u_missed2 = np.zeros((n,), dtype=float)\n",
    "std_missed2 = np.zeros((n,), dtype=float)\n",
    "\n",
    "\n",
    "for i, _ in enumerate(total_diff):\n",
    "    tmp = np.array(total_diff[i], dtype=float)\n",
    "    u_diff2[i] = np.nanmean(tmp)\n",
    "    std_diff2[i] = np.nanstd(tmp)\n",
    "\n",
    "    tmp = np.array(total_false[i], dtype=float)\n",
    "    u_false2[i] = np.nanmean(tmp)\n",
    "    std_false2[i] = np.nanstd(tmp)\n",
    "\n",
    "    tmp = np.array(total_missed[i], dtype=float)\n",
    "    u_missed2[i] = np.nanmean(tmp)\n",
    "    std_missed2[i] = np.nanstd(tmp)\n"
   ]
  },
  {
   "cell_type": "code",
   "execution_count": 34,
   "metadata": {},
   "outputs": [
    {
     "name": "stdout",
     "output_type": "stream",
     "text": [
      "importIitYarp trying path: /home/schiavazza/data/hpe/fault_button/APRIL/exp01/data\n"
     ]
    },
    {
     "name": "stderr",
     "output_type": "stream",
     "text": [
      "100%|██████████| 20781/20781 [00:06<00:00, 3003.58it/s]\n"
     ]
    },
    {
     "name": "stdout",
     "output_type": "stream",
     "text": [
      "Examining info.log: /home/schiavazza/data/hpe/fault_button/APRIL/exp01/data/info.log\n",
      "[582, 369]\n",
      "Radius in px: 149\n"
     ]
    },
    {
     "name": "stderr",
     "output_type": "stream",
     "text": [
      "100%|██████████| 20/20 [00:01<00:00, 19.85it/s] \n",
      "/home/schiavazza/code/EDPR-APRIL/fault_button/eventrate_test/src/utils.py:442: RuntimeWarning: Mean of empty slice\n",
      "  mean_times = np.array([np.nanmean(d) for d in differences_ls])\n",
      "/usr/lib/python3/dist-packages/numpy/lib/nanfunctions.py:1670: RuntimeWarning: Degrees of freedom <= 0 for slice.\n",
      "  var = nanvar(a, axis=axis, dtype=dtype, out=out, ddof=ddof,\n"
     ]
    },
    {
     "name": "stdout",
     "output_type": "stream",
     "text": [
      "importIitYarp trying path: /home/schiavazza/data/hpe/fault_button/APRIL/exp02/data\n"
     ]
    },
    {
     "name": "stderr",
     "output_type": "stream",
     "text": [
      "100%|██████████| 50892/50892 [00:15<00:00, 3247.78it/s]\n"
     ]
    },
    {
     "name": "stdout",
     "output_type": "stream",
     "text": [
      "Examining info.log: /home/schiavazza/data/hpe/fault_button/APRIL/exp02/data/info.log\n",
      "[589, 366]\n",
      "Radius in px: 99\n"
     ]
    },
    {
     "name": "stderr",
     "output_type": "stream",
     "text": [
      "100%|██████████| 20/20 [00:02<00:00,  9.61it/s]\n"
     ]
    },
    {
     "name": "stdout",
     "output_type": "stream",
     "text": [
      "importIitYarp trying path: /home/schiavazza/data/hpe/fault_button/APRIL/exp03/data\n"
     ]
    },
    {
     "name": "stderr",
     "output_type": "stream",
     "text": [
      "100%|██████████| 38970/38970 [00:10<00:00, 3588.18it/s]\n"
     ]
    },
    {
     "name": "stdout",
     "output_type": "stream",
     "text": [
      "Examining info.log: /home/schiavazza/data/hpe/fault_button/APRIL/exp03/data/info.log\n",
      "[607, 376]\n",
      "Radius in px: 132\n"
     ]
    },
    {
     "name": "stderr",
     "output_type": "stream",
     "text": [
      "100%|██████████| 20/20 [00:01<00:00, 12.90it/s]\n"
     ]
    }
   ],
   "source": [
    "\n",
    "scale = 0.5\n",
    "dataset_tres_ls = [10**(-x) for x in np.linspace(1, 4, 20)]\n",
    "base_thresh = 2.0\n",
    "\n",
    "# tmpPlotter = utils.Plotter(data_list2[0])\n",
    "# base_thresh = tmpPlotter.find_threshold(scale)\n",
    "\n",
    "total_diff = np.empty((n, ), dtype='object')\n",
    "total_missed = np.empty((n, ), dtype='object')\n",
    "total_false = np.empty((n, ), dtype='object')\n",
    "\n",
    "for path in data_list3:\n",
    "    plotter = utils.Plotter(path)\n",
    "    diffs, false_detections, missed_detections = plotter.compute_stats_tres(base_thresh, scale, dataset_tres_ls)\n",
    "\n",
    "    for i, t in enumerate(diffs):\n",
    "        total_diff[i] = np.append(total_diff[i], t)\n",
    "    for i, t in enumerate(false_detections):\n",
    "        total_false[i] = np.append(total_false[i], t)\n",
    "    for i, t in enumerate(missed_detections):\n",
    "        total_missed[i] = np.append(total_missed[i], t)\n",
    "\n",
    "u_diff3 = np.zeros((n,), dtype=float)\n",
    "std_diff3 = np.zeros((n,), dtype=float)\n",
    "\n",
    "u_false3 = np.zeros((n,), dtype=float)\n",
    "std_false3 = np.zeros((n,), dtype=float)\n",
    "\n",
    "u_missed3 = np.zeros((n,), dtype=float)\n",
    "std_missed3 = np.zeros((n,), dtype=float)\n",
    "\n",
    "\n",
    "for i, _ in enumerate(total_diff):\n",
    "    tmp = np.array(total_diff[i], dtype=float)\n",
    "    u_diff3[i] = np.nanmean(tmp)\n",
    "    std_diff3[i] = np.nanstd(tmp)\n",
    "\n",
    "    tmp = np.array(total_false[i], dtype=float)\n",
    "    u_false3[i] = np.nanmean(tmp)\n",
    "    std_false3[i] = np.nanstd(tmp)\n",
    "\n",
    "    tmp = np.array(total_missed[i], dtype=float)\n",
    "    u_missed3[i] = np.nanmean(tmp)\n",
    "    std_missed3[i] = np.nanstd(tmp)"
   ]
  },
  {
   "cell_type": "code",
   "execution_count": 35,
   "metadata": {},
   "outputs": [
    {
     "data": {
      "image/png": "[encoded data removed]",
      "text/plain": [
       "<Figure size 864x648 with 3 Axes>"
      ]
     },
     "metadata": {
      "needs_background": "light"
     },
     "output_type": "display_data"
    }
   ],
   "source": [
    "\n",
    "fig, axs = plt.subplots(2, 1, figsize=(12, 9))\n",
    "\n",
    "axs2 = axs[1].twinx()\n",
    "\n",
    "u_diffs = [u_diff1, u_diff2, u_diff3]\n",
    "std_diffs = [std_diff1, std_diff2, std_diff3]\n",
    "u_falses = [u_false1, u_false2, u_false3]\n",
    "std_falses = [std_false1, std_false2, std_false3]\n",
    "u_misseds = [u_missed1, u_missed2, u_missed3]\n",
    "std_misseds = [std_missed1, std_missed2, std_missed3]\n",
    "style = [\"solid\", \"dotted\", \"dashed\"]\n",
    "\n",
    "for i in range(3):\n",
    "    u_diff = u_diffs[i]\n",
    "    std_diff = std_diffs[i]\n",
    "    u_false = u_falses[i]\n",
    "    std_false = std_falses[i]\n",
    "    u_missed = u_misseds[i]\n",
    "    std_missed = std_misseds[i]\n",
    "\n",
    "    axs[0].plot(dataset_tres_ls, u_diff, color='#1f77b4', linestyle=style[i], label=f\"dataset {i+1}\")\n",
    "    axs[0].fill_between(dataset_tres_ls, u_diff-std_diff, u_diff+std_diff, alpha=0.1, color='#1f77b4', label=\"standard deviation\")\n",
    "    # axs[0].set_xticks(dataset_tres_ls)\n",
    "\n",
    "    axs[1].set_xlabel(\"Bin Size [s]\", fontsize=20)\n",
    "    axs[0].set_ylabel(\"Mean time difference [s]\", fontsize=20)\n",
    "    axs[0].set_xscale('log')\n",
    "\n",
    "    handles, labels = axs[0].get_legend_handles_labels()\n",
    "    by_label = dict(zip(labels, handles))\n",
    "    axs[0].legend(by_label.values(), by_label.keys(), fontsize=15)\n",
    "\n",
    "    axs[1].plot(dataset_tres_ls, u_false, label=f\"false dset{i+1}\", linestyle=style[i], color=\"#1f77b4\")\n",
    "    axs[1].fill_between(dataset_tres_ls, u_false-std_false, u_false+std_false, alpha=0.1, label=f\"standard deviation\", color='#1f77b4')\n",
    "    axs[1].set_ylabel(\"# False detections\", fontsize=20)\n",
    "    axs[1].set_xscale('log')\n",
    "    \n",
    "    axs2.plot(dataset_tres_ls, u_missed,marker=\"x\", label=f\"missed dset{i+1}\", linestyle=style[i], color=\"orange\")\n",
    "    axs2.fill_between(dataset_tres_ls, u_missed-std_missed, u_missed+std_missed, alpha=0.1, label=f\"standard deviation\", color=\"orange\")\n",
    "    axs2.set_ylabel(\"# Missed detections\", fontsize=20)\n",
    "    axs2.set_ylim([-0.1*(3), 5])\n",
    "    \n",
    "    handles, labels = axs[1].get_legend_handles_labels()\n",
    "    by_label = dict(zip(labels, handles))\n",
    "    axs[1].legend(by_label.values(), by_label.keys(), fontsize=15, loc=\"upper left\")\n",
    "    # axs[1].legend(loc=\"upper left\", fontsize=15)\n",
    "    handles, labels = axs2.get_legend_handles_labels()\n",
    "    by_label = dict(zip(labels, handles))\n",
    "    axs2.legend(by_label.values(), by_label.keys(), fontsize=15, loc=\"upper right\")\n",
    "    # axs2.legend(loc=\"upper right\", fontsize=15)\n",
    "\n",
    "plt.tight_layout()\n",
    "plt.savefig(\"/home/schiavazza/Pictures/fault_button/stats_tres.png\")"
   ]
  },
  {
   "attachments": {},
   "cell_type": "markdown",
   "metadata": {},
   "source": [
    "For each dataset, we manually selected the region size $r$ and the detection threshold $T$. We vary the temporal period $k$ to observe the effects on the detection. \n",
    "\n",
    "For all the datasets the time difference measured decreases for longer temporal periods. The difference in absolute values across the datasets is caused by different region sizes to fit each dataset.\n",
    "\n",
    "On the other hand, smaller time periods cause the measurement to be more noisy. For all datasets, the number of false detections increases for smaller temporal periods due to noisy spikes in the event rate."
   ]
  },
  {
   "cell_type": "code",
   "execution_count": 16,
   "metadata": {},
   "outputs": [
    {
     "name": "stdout",
     "output_type": "stream",
     "text": [
      "importIitYarp trying path: /home/schiavazza/data/hpe/fault_button/osai/fault_button/s1_v1\n",
      "Examining info.log: /home/schiavazza/data/hpe/fault_button/osai/fault_button/s1_v1/info.log\n",
      "[552, 277]\n"
     ]
    }
   ],
   "source": [
    "plotter = utils.Plotter(data_list1[0])"
   ]
  },
  {
   "cell_type": "code",
   "execution_count": 17,
   "metadata": {},
   "outputs": [
    {
     "name": "stdout",
     "output_type": "stream",
     "text": [
      "Radius in px: 186\n",
      "Threshold: 10033.8, base threshold: 11.719538404036628\n",
      "Radius in px: 186\n",
      "Roi area: 85616px / 307200, ratio: 0.27869791666666666\n"
     ]
    },
    {
     "data": {
      "image/png": "[encoded data removed]",
      "text/plain": [
       "<Figure size 864x432 with 1 Axes>"
      ]
     },
     "metadata": {
      "needs_background": "light"
     },
     "output_type": "display_data"
    }
   ],
   "source": [
    "# fig, axs = plt.subplots(1, 2, figsize=(18, 9))\n",
    "\n",
    "base_thresh = plotter.find_threshold(scale=1.0, p=0.7)\n",
    "plotter.plot_hist(base_thresh, scale=1.0, dataset_tres=0.01, sequence_name=\"s1_v1\")\n",
    "\n",
    "ax = plt.gca()"
   ]
  },
  {
   "cell_type": "code",
   "execution_count": 18,
   "metadata": {},
   "outputs": [
    {
     "name": "stdout",
     "output_type": "stream",
     "text": [
      "Radius in px: 186\n",
      "Threshold: 10033.8, base threshold: 11.719538404036628\n",
      "Radius in px: 186\n",
      "Roi area: 85616px / 307200, ratio: 0.27869791666666666\n"
     ]
    },
    {
     "data": {
      "image/png": "[encoded data removed]",
      "text/plain": [
       "<Figure size 864x432 with 1 Axes>"
      ]
     },
     "metadata": {
      "needs_background": "light"
     },
     "output_type": "display_data"
    }
   ],
   "source": [
    "# fig, axs = plt.subplots(1, 2, figsize=(18, 9))\n",
    "\n",
    "base_thresh = plotter.find_threshold(scale=1.0, p=0.7)\n",
    "plotter.plot_hist(base_thresh, scale=1.0, dataset_tres=0.01, sequence_name=\"s1_v1\", t_start=10.5, t_end=12)\n",
    "\n",
    "ax2 = plt.gca()"
   ]
  },
  {
   "cell_type": "code",
   "execution_count": 26,
   "metadata": {},
   "outputs": [
    {
     "name": "stdout",
     "output_type": "stream",
     "text": [
      "Radius in px: 186\n",
      "Threshold: 10033.8, base threshold: 11.719538404036628\n",
      "Radius in px: 186\n",
      "Roi area: 85616px / 307200, ratio: 0.27869791666666666\n",
      "Radius in px: 186\n",
      "Roi area: 85616px / 307200, ratio: 0.27869791666666666\n"
     ]
    },
    {
     "data": {
      "image/png": "[encoded data removed]",
      "text/plain": [
       "<Figure size 1296x864 with 2 Axes>"
      ]
     },
     "metadata": {
      "needs_background": "light"
     },
     "output_type": "display_data"
    }
   ],
   "source": [
    "fig, axs = plt.subplots(2, 1, figsize=(18, 12))\n",
    "\n",
    "base_thresh = plotter.find_threshold(scale=1.0, p=0.7)\n",
    "plotter.plot_hist_ax(axs[0], base_thresh, scale=1.0, dataset_tres=0.01, sequence_name=\"s1_v1\")\n",
    "\n",
    "plotter.plot_hist_ax(axs[1], base_thresh, scale=1.0, dataset_tres=0.01, sequence_name=\"s1_v1\", t_start=10, t_end=15, vline=True)\n",
    "\n",
    "axs[1].set_xlabel(\"Time [s]\", fontsize=20)\n",
    "\n",
    "lines, labels = fig.axes[0].get_legend_handles_labels()\n",
    "plt.legend(lines,labels, ncol=3, fontsize=15)\n",
    "\n",
    "axs[0].set_ylabel(\"# Events\", fontsize=20)\n",
    "axs[1].set_ylabel(\"# Events\", fontsize=20)\n",
    "\n",
    "plt.tight_layout()\n",
    "# plt.savefig(\"/home/schiavazza/Pictures/fault_button/histogram.png\")\n"
   ]
  },
  {
   "cell_type": "code",
   "execution_count": null,
   "metadata": {},
   "outputs": [],
   "source": []
  },
  {
   "cell_type": "code",
   "execution_count": null,
   "metadata": {},
   "outputs": [],
   "source": []
  }
 ],
 "metadata": {
  "kernelspec": {
   "display_name": "Python 3",
   "language": "python",
   "name": "python3"
  },
  "language_info": {
   "codemirror_mode": {
    "name": "ipython",
    "version": 3
   },
   "file_extension": ".py",
   "mimetype": "text/x-python",
   "name": "python",
   "nbconvert_exporter": "python",
   "pygments_lexer": "ipython3",
   "version": "3.10.6"
  },
  "orig_nbformat": 4
 },
 "nbformat": 4,
 "nbformat_minor": 2
}
