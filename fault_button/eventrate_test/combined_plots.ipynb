{
 "cells": [
  {
   "cell_type": "code",
   "execution_count": 1,
   "metadata": {},
   "outputs": [],
   "source": [
    "%load_ext autoreload\n",
    "%autoreload 2\n",
    "import os\n",
    "import numpy as np\n",
    "import matplotlib.pyplot as plt\n",
    "import matplotlib as mpl\n",
    "\n",
    "import src.utils as utils\n",
    "\n",
    "plt.rc('xtick',labelsize=15)\n",
    "plt.rc('ytick',labelsize=15)\n",
    "\n",
    "mpl.rcParams['axes.prop_cycle'] = mpl.cycler(color=[\"#742C81\", \"#FFA62B\", \"#1A589F\"]) \n",
    "\n",
    "data_list1 = [\n",
    "    os.path.join(\"/home/schiavazza/data/hpe/fault_button/osai/fault_button\", \"s1_v1\"),\n",
    "    os.path.join(\"/home/schiavazza/data/hpe/fault_button/osai/fault_button\", \"s1_v2\"),\n",
    "    os.path.join(\"/home/schiavazza/data/hpe/fault_button/osai/fault_button\", \"s2_v1\"),\n",
    "    os.path.join(\"/home/schiavazza/data/hpe/fault_button/osai/fault_button\", \"s2_v2\")\n",
    "]\n",
    "data_list2 = [\n",
    "    os.path.join(\"/home/schiavazza/data/hpe/fault_button/april_exp/binary/long\", \"button1\"),\n",
    "    os.path.join(\"/home/schiavazza/data/hpe/fault_button/april_exp/binary/long\", \"button2\"),\n",
    "    os.path.join(\"/home/schiavazza/data/hpe/fault_button/april_exp/binary/long\", \"button3\"),\n",
    "    os.path.join(\"/home/schiavazza/data/hpe/fault_button/april_exp/binary/long\", \"button4\")\n",
    "]\n",
    "data_list3 = [\n",
    "    f\"/home/schiavazza/data/hpe/fault_button/APRIL/exp01/data\",\n",
    "    f\"/home/schiavazza/data/hpe/fault_button/APRIL/exp02/data\",\n",
    "    f\"/home/schiavazza/data/hpe/fault_button/APRIL/exp03/data\",\n",
    "]"
   ]
  },
  {
   "cell_type": "code",
   "execution_count": 2,
   "metadata": {},
   "outputs": [],
   "source": [
    "thresh_multipliers = np.linspace(0.1, 1.5, 20)"
   ]
  },
  {
   "cell_type": "code",
   "execution_count": 3,
   "metadata": {},
   "outputs": [
    {
     "name": "stdout",
     "output_type": "stream",
     "text": [
      "importIitYarp trying path: /home/schiavazza/data/hpe/fault_button/osai/fault_button/s1_v1\n",
      "Examining info.log: /home/schiavazza/data/hpe/fault_button/osai/fault_button/s1_v1/info.log\n",
      "[552, 277]\n",
      "Radius in px: 186\n",
      "Threshold: 14334.0, base threshold: 16.742197720052324\n",
      "16.742197720052324\n",
      "importIitYarp trying path: /home/schiavazza/data/hpe/fault_button/osai/fault_button/s1_v1\n",
      "Examining info.log: /home/schiavazza/data/hpe/fault_button/osai/fault_button/s1_v1/info.log\n",
      "[552, 277]\n",
      "Radius in px: 186\n"
     ]
    },
    {
     "name": "stderr",
     "output_type": "stream",
     "text": [
      "100%|██████████| 20/20 [00:05<00:00,  3.86it/s]\n",
      "/home/schiavazza/code/EDPR-APRIL/fault_button/eventrate_test/src/utils.py:563: VisibleDeprecationWarning: Creating an ndarray from ragged nested sequences (which is a list-or-tuple of lists-or-tuples-or ndarrays with different lengths or shapes) is deprecated. If you meant to do this, you must specify 'dtype=object' when creating the ndarray.\n",
      "  differences_ls = np.array(differences_ls)\n",
      "/home/schiavazza/code/EDPR-APRIL/fault_button/eventrate_test/src/utils.py:564: RuntimeWarning: Mean of empty slice\n",
      "  mean_times = np.array([np.nanmean(d) for d in differences_ls])\n",
      "/usr/lib/python3/dist-packages/numpy/lib/nanfunctions.py:1670: RuntimeWarning: Degrees of freedom <= 0 for slice.\n",
      "  var = nanvar(a, axis=axis, dtype=dtype, out=out, ddof=ddof,\n"
     ]
    },
    {
     "name": "stdout",
     "output_type": "stream",
     "text": [
      "importIitYarp trying path: /home/schiavazza/data/hpe/fault_button/osai/fault_button/s1_v2\n",
      "Examining info.log: /home/schiavazza/data/hpe/fault_button/osai/fault_button/s1_v2/info.log\n",
      "[552, 277]\n",
      "Radius in px: 186\n"
     ]
    },
    {
     "name": "stderr",
     "output_type": "stream",
     "text": [
      "100%|██████████| 20/20 [00:05<00:00,  3.96it/s]\n"
     ]
    },
    {
     "name": "stdout",
     "output_type": "stream",
     "text": [
      "importIitYarp trying path: /home/schiavazza/data/hpe/fault_button/osai/fault_button/s2_v1\n",
      "Examining info.log: /home/schiavazza/data/hpe/fault_button/osai/fault_button/s2_v1/info.log\n",
      "[552, 277]\n",
      "Radius in px: 186\n"
     ]
    },
    {
     "name": "stderr",
     "output_type": "stream",
     "text": [
      "100%|██████████| 20/20 [00:03<00:00,  5.74it/s]\n"
     ]
    },
    {
     "name": "stdout",
     "output_type": "stream",
     "text": [
      "importIitYarp trying path: /home/schiavazza/data/hpe/fault_button/osai/fault_button/s2_v2\n",
      "Examining info.log: /home/schiavazza/data/hpe/fault_button/osai/fault_button/s2_v2/info.log\n",
      "[552, 277]\n",
      "Radius in px: 186\n"
     ]
    },
    {
     "name": "stderr",
     "output_type": "stream",
     "text": [
      "100%|██████████| 20/20 [00:02<00:00,  6.92it/s]\n",
      "/tmp/ipykernel_1539397/3438029857.py:36: RuntimeWarning: Mean of empty slice\n",
      "  u_diff1[i] = np.nanmean(tmp)\n"
     ]
    }
   ],
   "source": [
    "scale = 1.0\n",
    "dataset_tres = 0.01\n",
    "n = 20\n",
    "tmpPlotter = utils.Plotter(data_list1[0])\n",
    "base_thresh = tmpPlotter.find_threshold(scale, p=1.0)\n",
    "print(base_thresh)\n",
    "base_thresh_ls = base_thresh * thresh_multipliers\n",
    "\n",
    "total_diff = np.empty((n, ), dtype='object')\n",
    "total_missed = np.empty((n, ), dtype='object')\n",
    "total_false = np.empty((n, ), dtype='object')\n",
    "\n",
    "for path in data_list1:\n",
    "    plotter = utils.Plotter(path)\n",
    "    diffs, false_detections, missed_detections = plotter.compute_stats_thresh(base_thresh_ls, scale, dataset_tres)\n",
    "\n",
    "    for i, t in enumerate(diffs):\n",
    "        total_diff[i] = np.append(total_diff[i], t)\n",
    "    for i, t in enumerate(false_detections):\n",
    "        total_false[i] = np.append(total_false[i], t)\n",
    "    for i, t in enumerate(missed_detections):\n",
    "        total_missed[i] = np.append(total_missed[i], t)\n",
    "\n",
    "u_diff1 = np.zeros((n,), dtype=float)\n",
    "std_diff1 = np.zeros((n,), dtype=float)\n",
    "\n",
    "u_false1 = np.zeros((n,), dtype=float)\n",
    "std_false1 = np.zeros((n,), dtype=float)\n",
    "\n",
    "u_missed1 = np.zeros((n,), dtype=float)\n",
    "std_missed1 = np.zeros((n,), dtype=float)\n",
    "\n",
    "\n",
    "for i, _ in enumerate(total_diff):\n",
    "    tmp = np.array(total_diff[i], dtype=float)\n",
    "    u_diff1[i] = np.nanmean(tmp)\n",
    "    std_diff1[i] = np.nanstd(tmp)\n",
    "\n",
    "    tmp = np.array(total_false[i], dtype=float)\n",
    "    u_false1[i] = np.nanmean(tmp)\n",
    "    std_false1[i] = np.nanstd(tmp)\n",
    "\n",
    "    tmp = np.array(total_missed[i], dtype=float)\n",
    "    u_missed1[i] = np.nanmean(tmp)\n",
    "    std_missed1[i] = np.nanstd(tmp)"
   ]
  },
  {
   "cell_type": "code",
   "execution_count": 4,
   "metadata": {},
   "outputs": [
    {
     "name": "stdout",
     "output_type": "stream",
     "text": [
      "importIitYarp trying path: /home/schiavazza/data/hpe/fault_button/april_exp/binary/long/button1\n",
      "Examining info.log: /home/schiavazza/data/hpe/fault_button/april_exp/binary/long/button1/info.log\n",
      "[301, 217]\n",
      "Radius in px: 418\n",
      "Threshold: 29593.0, base threshold: 9.636682764167809\n",
      "importIitYarp trying path: /home/schiavazza/data/hpe/fault_button/april_exp/binary/long/button1\n",
      "Examining info.log: /home/schiavazza/data/hpe/fault_button/april_exp/binary/long/button1/info.log\n",
      "[301, 217]\n",
      "Radius in px: 418\n"
     ]
    },
    {
     "name": "stderr",
     "output_type": "stream",
     "text": [
      "100%|██████████| 20/20 [00:07<00:00,  2.71it/s]\n"
     ]
    },
    {
     "name": "stdout",
     "output_type": "stream",
     "text": [
      "importIitYarp trying path: /home/schiavazza/data/hpe/fault_button/april_exp/binary/long/button2\n",
      "Examining info.log: /home/schiavazza/data/hpe/fault_button/april_exp/binary/long/button2/info.log\n",
      "[301, 217]\n",
      "Radius in px: 418\n"
     ]
    },
    {
     "name": "stderr",
     "output_type": "stream",
     "text": [
      "100%|██████████| 20/20 [00:07<00:00,  2.64it/s]\n"
     ]
    },
    {
     "name": "stdout",
     "output_type": "stream",
     "text": [
      "importIitYarp trying path: /home/schiavazza/data/hpe/fault_button/april_exp/binary/long/button3\n",
      "Examining info.log: /home/schiavazza/data/hpe/fault_button/april_exp/binary/long/button3/info.log\n",
      "[301, 217]\n",
      "Radius in px: 418\n"
     ]
    },
    {
     "name": "stderr",
     "output_type": "stream",
     "text": [
      "100%|██████████| 20/20 [00:10<00:00,  1.96it/s]\n"
     ]
    },
    {
     "name": "stdout",
     "output_type": "stream",
     "text": [
      "importIitYarp trying path: /home/schiavazza/data/hpe/fault_button/april_exp/binary/long/button4\n",
      "Examining info.log: /home/schiavazza/data/hpe/fault_button/april_exp/binary/long/button4/info.log\n",
      "[301, 217]\n",
      "Radius in px: 418\n"
     ]
    },
    {
     "name": "stderr",
     "output_type": "stream",
     "text": [
      "100%|██████████| 20/20 [00:09<00:00,  2.10it/s]\n"
     ]
    }
   ],
   "source": [
    "scale = 2.0\n",
    "dataset_tres = 0.01\n",
    "n = 20\n",
    "tmpPlotter = utils.Plotter(data_list2[0])\n",
    "base_thresh = tmpPlotter.find_threshold(scale, p=1.0)\n",
    "base_thresh_ls = base_thresh * thresh_multipliers\n",
    "\n",
    "total_diff = np.empty((n, ), dtype='object')\n",
    "total_missed = np.empty((n, ), dtype='object')\n",
    "total_false = np.empty((n, ), dtype='object')\n",
    "\n",
    "for path in data_list2:\n",
    "    plotter = utils.Plotter(path)\n",
    "    diffs, false_detections, missed_detections = plotter.compute_stats_thresh(base_thresh_ls, scale, dataset_tres)\n",
    "\n",
    "    for i, t in enumerate(diffs):\n",
    "        total_diff[i] = np.append(total_diff[i], t)\n",
    "    for i, t in enumerate(false_detections):\n",
    "        total_false[i] = np.append(total_false[i], t)\n",
    "    for i, t in enumerate(missed_detections):\n",
    "        total_missed[i] = np.append(total_missed[i], t)\n",
    "\n",
    "u_diff2 = np.zeros((n,), dtype=float)\n",
    "std_diff2 = np.zeros((n,), dtype=float)\n",
    "\n",
    "u_false2 = np.zeros((n,), dtype=float)\n",
    "std_false2 = np.zeros((n,), dtype=float)\n",
    "\n",
    "u_missed2 = np.zeros((n,), dtype=float)\n",
    "std_missed2 = np.zeros((n,), dtype=float)\n",
    "\n",
    "\n",
    "for i, _ in enumerate(total_diff):\n",
    "    tmp = np.array(total_diff[i], dtype=float)\n",
    "    u_diff2[i] = np.nanmean(tmp)\n",
    "    std_diff2[i] = np.nanstd(tmp)\n",
    "\n",
    "    tmp = np.array(total_false[i], dtype=float)\n",
    "    u_false2[i] = np.nanmean(tmp)\n",
    "    std_false2[i] = np.nanstd(tmp)\n",
    "\n",
    "    tmp = np.array(total_missed[i], dtype=float)\n",
    "    u_missed2[i] = np.nanmean(tmp)\n",
    "    std_missed2[i] = np.nanstd(tmp)"
   ]
  },
  {
   "cell_type": "code",
   "execution_count": 5,
   "metadata": {},
   "outputs": [
    {
     "name": "stdout",
     "output_type": "stream",
     "text": [
      "importIitYarp trying path: /home/schiavazza/data/hpe/fault_button/APRIL/exp03/data\n"
     ]
    },
    {
     "name": "stderr",
     "output_type": "stream",
     "text": [
      "100%|██████████| 38970/38970 [00:11<00:00, 3377.39it/s]\n"
     ]
    },
    {
     "name": "stdout",
     "output_type": "stream",
     "text": [
      "Examining info.log: /home/schiavazza/data/hpe/fault_button/APRIL/exp03/data/info.log\n",
      "[589, 366]\n",
      "Radius in px: 99\n",
      "Threshold: 1598.0, base threshold: 6.412005457025921\n",
      "importIitYarp trying path: /home/schiavazza/data/hpe/fault_button/APRIL/exp01/data\n"
     ]
    },
    {
     "name": "stderr",
     "output_type": "stream",
     "text": [
      "100%|██████████| 20781/20781 [00:06<00:00, 3423.97it/s]\n"
     ]
    },
    {
     "name": "stdout",
     "output_type": "stream",
     "text": [
      "Examining info.log: /home/schiavazza/data/hpe/fault_button/APRIL/exp01/data/info.log\n",
      "[589, 366]\n",
      "Radius in px: 99\n"
     ]
    },
    {
     "name": "stderr",
     "output_type": "stream",
     "text": [
      "100%|██████████| 20/20 [00:00<00:00, 185.95it/s]"
     ]
    },
    {
     "name": "stdout",
     "output_type": "stream",
     "text": [
      "importIitYarp trying path: /home/schiavazza/data/hpe/fault_button/APRIL/exp02/data\n"
     ]
    },
    {
     "name": "stderr",
     "output_type": "stream",
     "text": [
      "\n",
      "100%|██████████| 50892/50892 [00:15<00:00, 3264.47it/s]\n"
     ]
    },
    {
     "name": "stdout",
     "output_type": "stream",
     "text": [
      "Examining info.log: /home/schiavazza/data/hpe/fault_button/APRIL/exp02/data/info.log\n",
      "[589, 366]\n",
      "Radius in px: 99\n"
     ]
    },
    {
     "name": "stderr",
     "output_type": "stream",
     "text": [
      "100%|██████████| 20/20 [00:00<00:00, 106.25it/s]\n"
     ]
    },
    {
     "name": "stdout",
     "output_type": "stream",
     "text": [
      "importIitYarp trying path: /home/schiavazza/data/hpe/fault_button/APRIL/exp03/data\n"
     ]
    },
    {
     "name": "stderr",
     "output_type": "stream",
     "text": [
      "100%|██████████| 38970/38970 [00:10<00:00, 3691.31it/s]\n"
     ]
    },
    {
     "name": "stdout",
     "output_type": "stream",
     "text": [
      "Examining info.log: /home/schiavazza/data/hpe/fault_button/APRIL/exp03/data/info.log\n",
      "[589, 366]\n",
      "Radius in px: 99\n"
     ]
    },
    {
     "name": "stderr",
     "output_type": "stream",
     "text": [
      "100%|██████████| 20/20 [00:00<00:00, 90.53it/s]\n"
     ]
    }
   ],
   "source": [
    "scale = 0.5\n",
    "dataset_tres = 0.01\n",
    "n = 20\n",
    "tmpPlotter = utils.Plotter(data_list3[-1])\n",
    "base_thresh = tmpPlotter.find_threshold(scale, p=1.0)\n",
    "base_thresh_ls = base_thresh * thresh_multipliers\n",
    "\n",
    "total_diff = np.empty((n, ), dtype='object')\n",
    "total_missed = np.empty((n, ), dtype='object')\n",
    "total_false = np.empty((n, ), dtype='object')\n",
    "\n",
    "for path in data_list3:\n",
    "    plotter = utils.Plotter(path)\n",
    "    diffs, false_detections, missed_detections = plotter.compute_stats_thresh(base_thresh_ls, scale, dataset_tres)\n",
    "\n",
    "    for i, t in enumerate(diffs):\n",
    "        total_diff[i] = np.append(total_diff[i], t)\n",
    "    for i, t in enumerate(false_detections):\n",
    "        total_false[i] = np.append(total_false[i], t)\n",
    "    for i, t in enumerate(missed_detections):\n",
    "        total_missed[i] = np.append(total_missed[i], t)\n",
    "\n",
    "u_diff3 = np.zeros((n,), dtype=float)\n",
    "std_diff3 = np.zeros((n,), dtype=float)\n",
    "\n",
    "u_false3 = np.zeros((n,), dtype=float)\n",
    "std_false3 = np.zeros((n,), dtype=float)\n",
    "\n",
    "u_missed3 = np.zeros((n,), dtype=float)\n",
    "std_missed3 = np.zeros((n,), dtype=float)\n",
    "\n",
    "\n",
    "for i, _ in enumerate(total_diff):\n",
    "    tmp = np.array(total_diff[i], dtype=float)\n",
    "    u_diff3[i] = np.nanmean(tmp)\n",
    "    std_diff3[i] = np.nanstd(tmp)\n",
    "\n",
    "    tmp = np.array(total_false[i], dtype=float)\n",
    "    u_false3[i] = np.nanmean(tmp)\n",
    "    std_false3[i] = np.nanstd(tmp)\n",
    "\n",
    "    tmp = np.array(total_missed[i], dtype=float)\n",
    "    u_missed3[i] = np.nanmean(tmp)\n",
    "    std_missed3[i] = np.nanstd(tmp)"
   ]
  },
  {
   "cell_type": "code",
   "execution_count": 6,
   "metadata": {},
   "outputs": [
    {
     "data": {
      "image/png": "[encoded data removed]",
      "text/plain": [
       "<Figure size 864x648 with 3 Axes>"
      ]
     },
     "metadata": {
      "needs_background": "light"
     },
     "output_type": "display_data"
    }
   ],
   "source": [
    "fig, axs = plt.subplots(2, 1, figsize=(12, 9))\n",
    "\n",
    "axs2 = axs[1].twinx()\n",
    "\n",
    "u_diffs = [u_diff1, u_diff2, u_diff3]\n",
    "std_diffs = [std_diff1, std_diff2, std_diff3]\n",
    "u_falses = [u_false1, u_false2, u_false3]\n",
    "std_falses = [std_false1, std_false2, std_false3]\n",
    "u_misseds = [u_missed1, u_missed2, u_missed3]\n",
    "std_misseds = [std_missed1, std_missed2, std_missed3]\n",
    "style = [\"solid\", \"dotted\", \"dashed\"]\n",
    "\n",
    "for i in range(3):\n",
    "    u_diff = u_diffs[i]\n",
    "    std_diff = std_diffs[i]\n",
    "    u_false = u_falses[i]\n",
    "    std_false = std_falses[i]\n",
    "    u_missed = u_misseds[i]\n",
    "    std_missed = std_misseds[i]\n",
    "\n",
    "    axs[0].plot(thresh_multipliers, u_diff, color='C0', linestyle=style[i], label=f\"dataset {i+1}\")\n",
    "    axs[0].fill_between(thresh_multipliers, u_diff-std_diff, u_diff+std_diff, alpha=0.1, color='C0', label=\"standard deviation\")\n",
    "    handles, labels = axs[0].get_legend_handles_labels()\n",
    "    by_label = dict(zip(labels, handles))\n",
    "    axs[0].legend(by_label.values(), by_label.keys(), fontsize=15, loc=\"upper left\")\n",
    "    # axs[0].set_xticks(thresh_multipliers)\n",
    "\n",
    "    axs[1].set_xlabel(\"Threshold Scale\", fontsize=20)\n",
    "    axs[0].set_ylabel(\"Temporal Safety Margin [s]\", fontsize=20)\n",
    "\n",
    "    axs[1].plot(thresh_multipliers, u_false, label=f\"false dset{i+1}\", linestyle=style[i], color=\"C0\")\n",
    "    axs[1].fill_between(thresh_multipliers, u_false-std_false, u_false+std_false, alpha=0.1, label=f\"standard deviation\", color='C0')\n",
    "    axs[1].set_ylabel(\"False detections\", fontsize=20)\n",
    "\n",
    "    \n",
    "    axs2.plot(thresh_multipliers, u_missed,marker=\"x\", label=f\"missed dset{i+1}\", linestyle=style[i], color=\"C1\")\n",
    "    axs2.fill_between(thresh_multipliers, u_missed-std_missed, u_missed+std_missed, alpha=0.1, label=f\"standard deviation\", color=\"C1\")\n",
    "    axs2.set_ylabel(\"Missed detections\", fontsize=20)\n",
    "    axs2.set_ylim([-0.1*(3), 5])\n",
    "    # ax.set_xticks(thresh_multipliers)\n",
    "    # ax.set_yticks(n_detections)\n",
    "    # ymax = max(max(u_false + std_false), max(u_missed + std_missed))\n",
    "    # ax.set_ylim([-0.5, ymax + 0.5])\n",
    "    # ax.set_xscale('log')\n",
    "    # ax.set_xlabel(\"Base Threshold [ev/s]\", fontsize=20)\n",
    "    # # ax.set_ylabel(\"number of detections\", fontsize=20)\n",
    "    # ax.set_title(\"Detections\", fontsize=22);\n",
    "    handles, labels = axs[1].get_legend_handles_labels()\n",
    "    by_label = dict(zip(labels, handles))\n",
    "    axs[1].legend(by_label.values(), by_label.keys(), fontsize=15, loc=\"upper left\")\n",
    "    # axs[1].legend(loc=\"upper left\", fontsize=15)\n",
    "    handles, labels = axs2.get_legend_handles_labels()\n",
    "    by_label = dict(zip(labels, handles))\n",
    "    axs2.legend(by_label.values(), by_label.keys(), fontsize=15, loc=\"upper right\")\n",
    "\n",
    "plt.tight_layout()\n",
    "plt.savefig(\"/home/schiavazza/Pictures/fault_button/svg_final/pngs/stats_thresh.png\", dpi=300)"
   ]
  },
  {
   "cell_type": "code",
   "execution_count": 7,
   "metadata": {},
   "outputs": [
    {
     "data": {
      "text/plain": [
       "array([27.25, 20.25, 15.75, 13.5 , 12.  ,  9.75,  6.5 ,  4.25,  3.  ,\n",
       "        2.  ,  1.25,  0.25,  0.  ,  0.  ,  0.  ,  0.  ,  0.  ,  0.  ,\n",
       "        0.  ,  0.  ])"
      ]
     },
     "execution_count": 7,
     "metadata": {},
     "output_type": "execute_result"
    }
   ],
   "source": [
    "u_false2"
   ]
  },
  {
   "attachments": {},
   "cell_type": "markdown",
   "metadata": {},
   "source": [
    "The effects of changing the thresholds seem to be consistent between datasets. Each scenario has a preferred threshold value that gives optimal results. Note that the ROI dimension is different for every dataset depending on the scene.\n",
    "\n",
    "The value of the optimal threshold is different for every dataset, but each shows the same pattern in the results. Higher thresholds result in more missed detections, but fewer false detections. The ideal threshold minimizes false and missed detections. \n",
    "\n",
    "There isn't a single value that can be used for every scenario, but if there is a tradeoff between false and missed detections. "
   ]
  },
  {
   "cell_type": "code",
   "execution_count": 8,
   "metadata": {},
   "outputs": [
    {
     "name": "stdout",
     "output_type": "stream",
     "text": [
      "importIitYarp trying path: /home/schiavazza/data/hpe/fault_button/osai/fault_button/s1_v1\n",
      "Examining info.log: /home/schiavazza/data/hpe/fault_button/osai/fault_button/s1_v1/info.log\n",
      "[552, 277]\n"
     ]
    },
    {
     "name": "stderr",
     "output_type": "stream",
     "text": [
      "  0%|          | 0/20 [00:00<?, ?it/s]"
     ]
    },
    {
     "name": "stdout",
     "output_type": "stream",
     "text": [
      "Radius in px: 50\n"
     ]
    },
    {
     "name": "stderr",
     "output_type": "stream",
     "text": [
      "  5%|▌         | 1/20 [00:01<00:19,  1.02s/it]"
     ]
    },
    {
     "name": "stdout",
     "output_type": "stream",
     "text": [
      "Radius in px: 73\n"
     ]
    },
    {
     "name": "stderr",
     "output_type": "stream",
     "text": [
      " 10%|█         | 2/20 [00:02<00:20,  1.13s/it]"
     ]
    },
    {
     "name": "stdout",
     "output_type": "stream",
     "text": [
      "Radius in px: 97\n"
     ]
    },
    {
     "name": "stderr",
     "output_type": "stream",
     "text": [
      " 15%|█▌        | 3/20 [00:03<00:20,  1.23s/it]"
     ]
    },
    {
     "name": "stdout",
     "output_type": "stream",
     "text": [
      "Radius in px: 121\n"
     ]
    },
    {
     "name": "stderr",
     "output_type": "stream",
     "text": [
      " 20%|██        | 4/20 [00:05<00:21,  1.35s/it]"
     ]
    },
    {
     "name": "stdout",
     "output_type": "stream",
     "text": [
      "Radius in px: 144\n"
     ]
    },
    {
     "name": "stderr",
     "output_type": "stream",
     "text": [
      " 25%|██▌       | 5/20 [00:06<00:22,  1.51s/it]"
     ]
    },
    {
     "name": "stdout",
     "output_type": "stream",
     "text": [
      "Radius in px: 168\n"
     ]
    },
    {
     "name": "stderr",
     "output_type": "stream",
     "text": [
      " 30%|███       | 6/20 [00:09<00:24,  1.75s/it]"
     ]
    },
    {
     "name": "stdout",
     "output_type": "stream",
     "text": [
      "Radius in px: 192\n"
     ]
    },
    {
     "name": "stderr",
     "output_type": "stream",
     "text": [
      " 35%|███▌      | 7/20 [00:11<00:27,  2.08s/it]"
     ]
    },
    {
     "name": "stdout",
     "output_type": "stream",
     "text": [
      "Radius in px: 215\n"
     ]
    },
    {
     "name": "stderr",
     "output_type": "stream",
     "text": [
      " 40%|████      | 8/20 [00:14<00:28,  2.39s/it]"
     ]
    },
    {
     "name": "stdout",
     "output_type": "stream",
     "text": [
      "Radius in px: 239\n"
     ]
    },
    {
     "name": "stderr",
     "output_type": "stream",
     "text": [
      " 45%|████▌     | 9/20 [00:18<00:29,  2.72s/it]"
     ]
    },
    {
     "name": "stdout",
     "output_type": "stream",
     "text": [
      "Radius in px: 263\n"
     ]
    },
    {
     "name": "stderr",
     "output_type": "stream",
     "text": [
      " 50%|█████     | 10/20 [00:22<00:30,  3.05s/it]"
     ]
    },
    {
     "name": "stdout",
     "output_type": "stream",
     "text": [
      "Radius in px: 286\n"
     ]
    },
    {
     "name": "stderr",
     "output_type": "stream",
     "text": [
      " 55%|█████▌    | 11/20 [00:26<00:29,  3.33s/it]"
     ]
    },
    {
     "name": "stdout",
     "output_type": "stream",
     "text": [
      "Radius in px: 310\n"
     ]
    },
    {
     "name": "stderr",
     "output_type": "stream",
     "text": [
      " 60%|██████    | 12/20 [00:30<00:29,  3.69s/it]"
     ]
    },
    {
     "name": "stdout",
     "output_type": "stream",
     "text": [
      "Radius in px: 334\n"
     ]
    },
    {
     "name": "stderr",
     "output_type": "stream",
     "text": [
      " 65%|██████▌   | 13/20 [00:35<00:28,  4.00s/it]"
     ]
    },
    {
     "name": "stdout",
     "output_type": "stream",
     "text": [
      "Radius in px: 357\n"
     ]
    },
    {
     "name": "stderr",
     "output_type": "stream",
     "text": [
      " 70%|███████   | 14/20 [00:40<00:26,  4.36s/it]"
     ]
    },
    {
     "name": "stdout",
     "output_type": "stream",
     "text": [
      "Radius in px: 381\n"
     ]
    },
    {
     "name": "stderr",
     "output_type": "stream",
     "text": [
      " 75%|███████▌  | 15/20 [00:45<00:22,  4.59s/it]"
     ]
    },
    {
     "name": "stdout",
     "output_type": "stream",
     "text": [
      "Radius in px: 405\n"
     ]
    },
    {
     "name": "stderr",
     "output_type": "stream",
     "text": [
      " 80%|████████  | 16/20 [00:50<00:18,  4.66s/it]"
     ]
    },
    {
     "name": "stdout",
     "output_type": "stream",
     "text": [
      "Radius in px: 428\n"
     ]
    },
    {
     "name": "stderr",
     "output_type": "stream",
     "text": [
      " 85%|████████▌ | 17/20 [00:55<00:14,  4.74s/it]"
     ]
    },
    {
     "name": "stdout",
     "output_type": "stream",
     "text": [
      "Radius in px: 452\n"
     ]
    },
    {
     "name": "stderr",
     "output_type": "stream",
     "text": [
      " 90%|█████████ | 18/20 [01:00<00:09,  4.74s/it]"
     ]
    },
    {
     "name": "stdout",
     "output_type": "stream",
     "text": [
      "Radius in px: 476\n"
     ]
    },
    {
     "name": "stderr",
     "output_type": "stream",
     "text": [
      " 95%|█████████▌| 19/20 [01:05<00:04,  4.88s/it]"
     ]
    },
    {
     "name": "stdout",
     "output_type": "stream",
     "text": [
      "Radius in px: 500\n"
     ]
    },
    {
     "name": "stderr",
     "output_type": "stream",
     "text": [
      "100%|██████████| 20/20 [01:09<00:00,  3.50s/it]\n",
      "/home/schiavazza/code/EDPR-APRIL/fault_button/eventrate_test/src/utils.py:520: VisibleDeprecationWarning: Creating an ndarray from ragged nested sequences (which is a list-or-tuple of lists-or-tuples-or ndarrays with different lengths or shapes) is deprecated. If you meant to do this, you must specify 'dtype=object' when creating the ndarray.\n",
      "  differences_ls = np.array(differences_ls)\n",
      "/home/schiavazza/code/EDPR-APRIL/fault_button/eventrate_test/src/utils.py:521: RuntimeWarning: Mean of empty slice\n",
      "  mean_times = np.array([np.nanmean(d) for d in differences_ls])\n",
      "/usr/lib/python3/dist-packages/numpy/lib/nanfunctions.py:1670: RuntimeWarning: Degrees of freedom <= 0 for slice.\n",
      "  var = nanvar(a, axis=axis, dtype=dtype, out=out, ddof=ddof,\n"
     ]
    },
    {
     "name": "stdout",
     "output_type": "stream",
     "text": [
      "importIitYarp trying path: /home/schiavazza/data/hpe/fault_button/osai/fault_button/s1_v2\n",
      "Examining info.log: /home/schiavazza/data/hpe/fault_button/osai/fault_button/s1_v2/info.log\n",
      "[552, 277]\n"
     ]
    },
    {
     "name": "stderr",
     "output_type": "stream",
     "text": [
      "  0%|          | 0/20 [00:00<?, ?it/s]"
     ]
    },
    {
     "name": "stdout",
     "output_type": "stream",
     "text": [
      "Radius in px: 50\n"
     ]
    },
    {
     "name": "stderr",
     "output_type": "stream",
     "text": [
      "  5%|▌         | 1/20 [00:00<00:18,  1.01it/s]"
     ]
    },
    {
     "name": "stdout",
     "output_type": "stream",
     "text": [
      "Radius in px: 73\n"
     ]
    },
    {
     "name": "stderr",
     "output_type": "stream",
     "text": [
      " 10%|█         | 2/20 [00:02<00:19,  1.06s/it]"
     ]
    },
    {
     "name": "stdout",
     "output_type": "stream",
     "text": [
      "Radius in px: 97\n"
     ]
    },
    {
     "name": "stderr",
     "output_type": "stream",
     "text": [
      " 15%|█▌        | 3/20 [00:03<00:19,  1.16s/it]"
     ]
    },
    {
     "name": "stdout",
     "output_type": "stream",
     "text": [
      "Radius in px: 121\n"
     ]
    },
    {
     "name": "stderr",
     "output_type": "stream",
     "text": [
      " 20%|██        | 4/20 [00:04<00:19,  1.24s/it]"
     ]
    },
    {
     "name": "stdout",
     "output_type": "stream",
     "text": [
      "Radius in px: 144\n"
     ]
    },
    {
     "name": "stderr",
     "output_type": "stream",
     "text": [
      " 25%|██▌       | 5/20 [00:06<00:20,  1.38s/it]"
     ]
    },
    {
     "name": "stdout",
     "output_type": "stream",
     "text": [
      "Radius in px: 168\n"
     ]
    },
    {
     "name": "stderr",
     "output_type": "stream",
     "text": [
      " 30%|███       | 6/20 [00:08<00:22,  1.62s/it]"
     ]
    },
    {
     "name": "stdout",
     "output_type": "stream",
     "text": [
      "Radius in px: 192\n"
     ]
    },
    {
     "name": "stderr",
     "output_type": "stream",
     "text": [
      " 35%|███▌      | 7/20 [00:11<00:26,  2.01s/it]"
     ]
    },
    {
     "name": "stdout",
     "output_type": "stream",
     "text": [
      "Radius in px: 215\n"
     ]
    },
    {
     "name": "stderr",
     "output_type": "stream",
     "text": [
      " 40%|████      | 8/20 [00:14<00:29,  2.43s/it]"
     ]
    },
    {
     "name": "stdout",
     "output_type": "stream",
     "text": [
      "Radius in px: 239\n"
     ]
    },
    {
     "name": "stderr",
     "output_type": "stream",
     "text": [
      " 45%|████▌     | 9/20 [00:18<00:31,  2.86s/it]"
     ]
    },
    {
     "name": "stdout",
     "output_type": "stream",
     "text": [
      "Radius in px: 263\n"
     ]
    },
    {
     "name": "stderr",
     "output_type": "stream",
     "text": [
      " 50%|█████     | 10/20 [00:22<00:31,  3.13s/it]"
     ]
    },
    {
     "name": "stdout",
     "output_type": "stream",
     "text": [
      "Radius in px: 286\n"
     ]
    },
    {
     "name": "stderr",
     "output_type": "stream",
     "text": [
      " 55%|█████▌    | 11/20 [00:26<00:30,  3.41s/it]"
     ]
    },
    {
     "name": "stdout",
     "output_type": "stream",
     "text": [
      "Radius in px: 310\n"
     ]
    },
    {
     "name": "stderr",
     "output_type": "stream",
     "text": [
      " 60%|██████    | 12/20 [00:30<00:28,  3.57s/it]"
     ]
    },
    {
     "name": "stdout",
     "output_type": "stream",
     "text": [
      "Radius in px: 334\n"
     ]
    },
    {
     "name": "stderr",
     "output_type": "stream",
     "text": [
      " 65%|██████▌   | 13/20 [00:34<00:26,  3.75s/it]"
     ]
    },
    {
     "name": "stdout",
     "output_type": "stream",
     "text": [
      "Radius in px: 357\n"
     ]
    },
    {
     "name": "stderr",
     "output_type": "stream",
     "text": [
      " 70%|███████   | 14/20 [00:38<00:22,  3.80s/it]"
     ]
    },
    {
     "name": "stdout",
     "output_type": "stream",
     "text": [
      "Radius in px: 381\n"
     ]
    },
    {
     "name": "stderr",
     "output_type": "stream",
     "text": [
      " 75%|███████▌  | 15/20 [00:42<00:19,  3.82s/it]"
     ]
    },
    {
     "name": "stdout",
     "output_type": "stream",
     "text": [
      "Radius in px: 405\n"
     ]
    },
    {
     "name": "stderr",
     "output_type": "stream",
     "text": [
      " 80%|████████  | 16/20 [00:46<00:15,  3.86s/it]"
     ]
    },
    {
     "name": "stdout",
     "output_type": "stream",
     "text": [
      "Radius in px: 428\n"
     ]
    },
    {
     "name": "stderr",
     "output_type": "stream",
     "text": [
      " 85%|████████▌ | 17/20 [00:50<00:11,  3.91s/it]"
     ]
    },
    {
     "name": "stdout",
     "output_type": "stream",
     "text": [
      "Radius in px: 452\n"
     ]
    },
    {
     "name": "stderr",
     "output_type": "stream",
     "text": [
      " 90%|█████████ | 18/20 [00:53<00:07,  3.91s/it]"
     ]
    },
    {
     "name": "stdout",
     "output_type": "stream",
     "text": [
      "Radius in px: 476\n"
     ]
    },
    {
     "name": "stderr",
     "output_type": "stream",
     "text": [
      " 95%|█████████▌| 19/20 [00:57<00:03,  3.83s/it]"
     ]
    },
    {
     "name": "stdout",
     "output_type": "stream",
     "text": [
      "Radius in px: 500\n"
     ]
    },
    {
     "name": "stderr",
     "output_type": "stream",
     "text": [
      "100%|██████████| 20/20 [01:01<00:00,  3.08s/it]\n"
     ]
    },
    {
     "name": "stdout",
     "output_type": "stream",
     "text": [
      "importIitYarp trying path: /home/schiavazza/data/hpe/fault_button/osai/fault_button/s2_v1\n",
      "Examining info.log: /home/schiavazza/data/hpe/fault_button/osai/fault_button/s2_v1/info.log\n",
      "[552, 277]\n"
     ]
    },
    {
     "name": "stderr",
     "output_type": "stream",
     "text": [
      "  0%|          | 0/20 [00:00<?, ?it/s]"
     ]
    },
    {
     "name": "stdout",
     "output_type": "stream",
     "text": [
      "Radius in px: 50\n"
     ]
    },
    {
     "name": "stderr",
     "output_type": "stream",
     "text": [
      "  5%|▌         | 1/20 [00:00<00:18,  1.04it/s]"
     ]
    },
    {
     "name": "stdout",
     "output_type": "stream",
     "text": [
      "Radius in px: 73\n"
     ]
    },
    {
     "name": "stderr",
     "output_type": "stream",
     "text": [
      " 10%|█         | 2/20 [00:02<00:18,  1.04s/it]"
     ]
    },
    {
     "name": "stdout",
     "output_type": "stream",
     "text": [
      "Radius in px: 97\n"
     ]
    },
    {
     "name": "stderr",
     "output_type": "stream",
     "text": [
      " 15%|█▌        | 3/20 [00:03<00:19,  1.14s/it]"
     ]
    },
    {
     "name": "stdout",
     "output_type": "stream",
     "text": [
      "Radius in px: 121\n"
     ]
    },
    {
     "name": "stderr",
     "output_type": "stream",
     "text": [
      " 20%|██        | 4/20 [00:04<00:20,  1.26s/it]"
     ]
    },
    {
     "name": "stdout",
     "output_type": "stream",
     "text": [
      "Radius in px: 144\n"
     ]
    },
    {
     "name": "stderr",
     "output_type": "stream",
     "text": [
      " 25%|██▌       | 5/20 [00:06<00:20,  1.39s/it]"
     ]
    },
    {
     "name": "stdout",
     "output_type": "stream",
     "text": [
      "Radius in px: 168\n"
     ]
    },
    {
     "name": "stderr",
     "output_type": "stream",
     "text": [
      " 30%|███       | 6/20 [00:08<00:21,  1.55s/it]"
     ]
    },
    {
     "name": "stdout",
     "output_type": "stream",
     "text": [
      "Radius in px: 192\n"
     ]
    },
    {
     "name": "stderr",
     "output_type": "stream",
     "text": [
      " 35%|███▌      | 7/20 [00:10<00:23,  1.77s/it]"
     ]
    },
    {
     "name": "stdout",
     "output_type": "stream",
     "text": [
      "Radius in px: 215\n"
     ]
    },
    {
     "name": "stderr",
     "output_type": "stream",
     "text": [
      " 40%|████      | 8/20 [00:13<00:24,  2.03s/it]"
     ]
    },
    {
     "name": "stdout",
     "output_type": "stream",
     "text": [
      "Radius in px: 239\n"
     ]
    },
    {
     "name": "stderr",
     "output_type": "stream",
     "text": [
      " 45%|████▌     | 9/20 [00:16<00:25,  2.34s/it]"
     ]
    },
    {
     "name": "stdout",
     "output_type": "stream",
     "text": [
      "Radius in px: 263\n"
     ]
    },
    {
     "name": "stderr",
     "output_type": "stream",
     "text": [
      " 50%|█████     | 10/20 [00:19<00:27,  2.75s/it]"
     ]
    },
    {
     "name": "stdout",
     "output_type": "stream",
     "text": [
      "Radius in px: 286\n"
     ]
    },
    {
     "name": "stderr",
     "output_type": "stream",
     "text": [
      " 55%|█████▌    | 11/20 [00:23<00:27,  3.05s/it]"
     ]
    },
    {
     "name": "stdout",
     "output_type": "stream",
     "text": [
      "Radius in px: 310\n"
     ]
    },
    {
     "name": "stderr",
     "output_type": "stream",
     "text": [
      " 60%|██████    | 12/20 [00:27<00:26,  3.31s/it]"
     ]
    },
    {
     "name": "stdout",
     "output_type": "stream",
     "text": [
      "Radius in px: 334\n"
     ]
    },
    {
     "name": "stderr",
     "output_type": "stream",
     "text": [
      " 65%|██████▌   | 13/20 [00:31<00:25,  3.61s/it]"
     ]
    },
    {
     "name": "stdout",
     "output_type": "stream",
     "text": [
      "Radius in px: 357\n"
     ]
    },
    {
     "name": "stderr",
     "output_type": "stream",
     "text": [
      " 70%|███████   | 14/20 [00:35<00:22,  3.71s/it]"
     ]
    },
    {
     "name": "stdout",
     "output_type": "stream",
     "text": [
      "Radius in px: 381\n"
     ]
    },
    {
     "name": "stderr",
     "output_type": "stream",
     "text": [
      " 75%|███████▌  | 15/20 [00:39<00:19,  3.90s/it]"
     ]
    },
    {
     "name": "stdout",
     "output_type": "stream",
     "text": [
      "Radius in px: 405\n"
     ]
    },
    {
     "name": "stderr",
     "output_type": "stream",
     "text": [
      " 80%|████████  | 16/20 [00:44<00:16,  4.06s/it]"
     ]
    },
    {
     "name": "stdout",
     "output_type": "stream",
     "text": [
      "Radius in px: 428\n"
     ]
    },
    {
     "name": "stderr",
     "output_type": "stream",
     "text": [
      " 85%|████████▌ | 17/20 [00:48<00:12,  4.23s/it]"
     ]
    },
    {
     "name": "stdout",
     "output_type": "stream",
     "text": [
      "Radius in px: 452\n"
     ]
    },
    {
     "name": "stderr",
     "output_type": "stream",
     "text": [
      " 90%|█████████ | 18/20 [00:53<00:08,  4.40s/it]"
     ]
    },
    {
     "name": "stdout",
     "output_type": "stream",
     "text": [
      "Radius in px: 476\n"
     ]
    },
    {
     "name": "stderr",
     "output_type": "stream",
     "text": [
      " 95%|█████████▌| 19/20 [00:58<00:04,  4.47s/it]"
     ]
    },
    {
     "name": "stdout",
     "output_type": "stream",
     "text": [
      "Radius in px: 500\n"
     ]
    },
    {
     "name": "stderr",
     "output_type": "stream",
     "text": [
      "100%|██████████| 20/20 [01:02<00:00,  3.15s/it]\n"
     ]
    },
    {
     "name": "stdout",
     "output_type": "stream",
     "text": [
      "importIitYarp trying path: /home/schiavazza/data/hpe/fault_button/osai/fault_button/s2_v2\n",
      "Examining info.log: /home/schiavazza/data/hpe/fault_button/osai/fault_button/s2_v2/info.log\n",
      "[552, 277]\n"
     ]
    },
    {
     "name": "stderr",
     "output_type": "stream",
     "text": [
      "  0%|          | 0/20 [00:00<?, ?it/s]"
     ]
    },
    {
     "name": "stdout",
     "output_type": "stream",
     "text": [
      "Radius in px: 50\n"
     ]
    },
    {
     "name": "stderr",
     "output_type": "stream",
     "text": [
      "  5%|▌         | 1/20 [00:00<00:14,  1.30it/s]"
     ]
    },
    {
     "name": "stdout",
     "output_type": "stream",
     "text": [
      "Radius in px: 73\n"
     ]
    },
    {
     "name": "stderr",
     "output_type": "stream",
     "text": [
      " 10%|█         | 2/20 [00:01<00:14,  1.22it/s]"
     ]
    },
    {
     "name": "stdout",
     "output_type": "stream",
     "text": [
      "Radius in px: 97\n"
     ]
    },
    {
     "name": "stderr",
     "output_type": "stream",
     "text": [
      " 15%|█▌        | 3/20 [00:02<00:14,  1.15it/s]"
     ]
    },
    {
     "name": "stdout",
     "output_type": "stream",
     "text": [
      "Radius in px: 121\n"
     ]
    },
    {
     "name": "stderr",
     "output_type": "stream",
     "text": [
      " 20%|██        | 4/20 [00:03<00:15,  1.05it/s]"
     ]
    },
    {
     "name": "stdout",
     "output_type": "stream",
     "text": [
      "Radius in px: 144\n"
     ]
    },
    {
     "name": "stderr",
     "output_type": "stream",
     "text": [
      " 25%|██▌       | 5/20 [00:04<00:16,  1.10s/it]"
     ]
    },
    {
     "name": "stdout",
     "output_type": "stream",
     "text": [
      "Radius in px: 168\n"
     ]
    },
    {
     "name": "stderr",
     "output_type": "stream",
     "text": [
      " 30%|███       | 6/20 [00:06<00:17,  1.25s/it]"
     ]
    },
    {
     "name": "stdout",
     "output_type": "stream",
     "text": [
      "Radius in px: 192\n"
     ]
    },
    {
     "name": "stderr",
     "output_type": "stream",
     "text": [
      " 35%|███▌      | 7/20 [00:08<00:17,  1.36s/it]"
     ]
    },
    {
     "name": "stdout",
     "output_type": "stream",
     "text": [
      "Radius in px: 215\n"
     ]
    },
    {
     "name": "stderr",
     "output_type": "stream",
     "text": [
      " 40%|████      | 8/20 [00:09<00:17,  1.49s/it]"
     ]
    },
    {
     "name": "stdout",
     "output_type": "stream",
     "text": [
      "Radius in px: 239\n"
     ]
    },
    {
     "name": "stderr",
     "output_type": "stream",
     "text": [
      " 45%|████▌     | 9/20 [00:12<00:18,  1.69s/it]"
     ]
    },
    {
     "name": "stdout",
     "output_type": "stream",
     "text": [
      "Radius in px: 263\n"
     ]
    },
    {
     "name": "stderr",
     "output_type": "stream",
     "text": [
      " 50%|█████     | 10/20 [00:14<00:18,  1.86s/it]"
     ]
    },
    {
     "name": "stdout",
     "output_type": "stream",
     "text": [
      "Radius in px: 286\n"
     ]
    },
    {
     "name": "stderr",
     "output_type": "stream",
     "text": [
      " 55%|█████▌    | 11/20 [00:16<00:18,  2.03s/it]"
     ]
    },
    {
     "name": "stdout",
     "output_type": "stream",
     "text": [
      "Radius in px: 310\n"
     ]
    },
    {
     "name": "stderr",
     "output_type": "stream",
     "text": [
      " 60%|██████    | 12/20 [00:19<00:17,  2.17s/it]"
     ]
    },
    {
     "name": "stdout",
     "output_type": "stream",
     "text": [
      "Radius in px: 334\n"
     ]
    },
    {
     "name": "stderr",
     "output_type": "stream",
     "text": [
      " 65%|██████▌   | 13/20 [00:21<00:16,  2.34s/it]"
     ]
    },
    {
     "name": "stdout",
     "output_type": "stream",
     "text": [
      "Radius in px: 357\n"
     ]
    },
    {
     "name": "stderr",
     "output_type": "stream",
     "text": [
      " 70%|███████   | 14/20 [00:24<00:14,  2.46s/it]"
     ]
    },
    {
     "name": "stdout",
     "output_type": "stream",
     "text": [
      "Radius in px: 381\n"
     ]
    },
    {
     "name": "stderr",
     "output_type": "stream",
     "text": [
      " 75%|███████▌  | 15/20 [00:27<00:12,  2.53s/it]"
     ]
    },
    {
     "name": "stdout",
     "output_type": "stream",
     "text": [
      "Radius in px: 405\n"
     ]
    },
    {
     "name": "stderr",
     "output_type": "stream",
     "text": [
      " 80%|████████  | 16/20 [00:30<00:10,  2.63s/it]"
     ]
    },
    {
     "name": "stdout",
     "output_type": "stream",
     "text": [
      "Radius in px: 428\n"
     ]
    },
    {
     "name": "stderr",
     "output_type": "stream",
     "text": [
      " 85%|████████▌ | 17/20 [00:32<00:08,  2.68s/it]"
     ]
    },
    {
     "name": "stdout",
     "output_type": "stream",
     "text": [
      "Radius in px: 452\n"
     ]
    },
    {
     "name": "stderr",
     "output_type": "stream",
     "text": [
      " 90%|█████████ | 18/20 [00:35<00:05,  2.69s/it]"
     ]
    },
    {
     "name": "stdout",
     "output_type": "stream",
     "text": [
      "Radius in px: 476\n"
     ]
    },
    {
     "name": "stderr",
     "output_type": "stream",
     "text": [
      " 95%|█████████▌| 19/20 [00:38<00:02,  2.67s/it]"
     ]
    },
    {
     "name": "stdout",
     "output_type": "stream",
     "text": [
      "Radius in px: 500\n"
     ]
    },
    {
     "name": "stderr",
     "output_type": "stream",
     "text": [
      "100%|██████████| 20/20 [00:40<00:00,  2.05s/it]\n"
     ]
    },
    {
     "name": "stdout",
     "output_type": "stream",
     "text": [
      "importIitYarp trying path: /home/schiavazza/data/hpe/fault_button/april_exp/binary/long/button1\n",
      "Examining info.log: /home/schiavazza/data/hpe/fault_button/april_exp/binary/long/button1/info.log\n",
      "[301, 217]\n"
     ]
    },
    {
     "name": "stderr",
     "output_type": "stream",
     "text": [
      "  0%|          | 0/20 [00:00<?, ?it/s]"
     ]
    },
    {
     "name": "stdout",
     "output_type": "stream",
     "text": [
      "Radius in px: 50\n"
     ]
    },
    {
     "name": "stderr",
     "output_type": "stream",
     "text": [
      "  5%|▌         | 1/20 [00:00<00:08,  2.17it/s]"
     ]
    },
    {
     "name": "stdout",
     "output_type": "stream",
     "text": [
      "Radius in px: 73\n"
     ]
    },
    {
     "name": "stderr",
     "output_type": "stream",
     "text": [
      " 10%|█         | 2/20 [00:01<00:09,  1.86it/s]"
     ]
    },
    {
     "name": "stdout",
     "output_type": "stream",
     "text": [
      "Radius in px: 97\n"
     ]
    },
    {
     "name": "stderr",
     "output_type": "stream",
     "text": [
      " 15%|█▌        | 3/20 [00:01<00:10,  1.57it/s]"
     ]
    },
    {
     "name": "stdout",
     "output_type": "stream",
     "text": [
      "Radius in px: 121\n"
     ]
    },
    {
     "name": "stderr",
     "output_type": "stream",
     "text": [
      " 20%|██        | 4/20 [00:02<00:12,  1.29it/s]"
     ]
    },
    {
     "name": "stdout",
     "output_type": "stream",
     "text": [
      "Radius in px: 144\n"
     ]
    },
    {
     "name": "stderr",
     "output_type": "stream",
     "text": [
      " 25%|██▌       | 5/20 [00:03<00:12,  1.21it/s]"
     ]
    },
    {
     "name": "stdout",
     "output_type": "stream",
     "text": [
      "Radius in px: 168\n"
     ]
    },
    {
     "name": "stderr",
     "output_type": "stream",
     "text": [
      " 30%|███       | 6/20 [00:04<00:12,  1.10it/s]"
     ]
    },
    {
     "name": "stdout",
     "output_type": "stream",
     "text": [
      "Radius in px: 192\n"
     ]
    },
    {
     "name": "stderr",
     "output_type": "stream",
     "text": [
      " 35%|███▌      | 7/20 [00:05<00:12,  1.07it/s]"
     ]
    },
    {
     "name": "stdout",
     "output_type": "stream",
     "text": [
      "Radius in px: 215\n"
     ]
    },
    {
     "name": "stderr",
     "output_type": "stream",
     "text": [
      " 40%|████      | 8/20 [00:06<00:11,  1.06it/s]"
     ]
    },
    {
     "name": "stdout",
     "output_type": "stream",
     "text": [
      "Radius in px: 239\n"
     ]
    },
    {
     "name": "stderr",
     "output_type": "stream",
     "text": [
      " 45%|████▌     | 9/20 [00:07<00:10,  1.02it/s]"
     ]
    },
    {
     "name": "stdout",
     "output_type": "stream",
     "text": [
      "Radius in px: 263\n"
     ]
    },
    {
     "name": "stderr",
     "output_type": "stream",
     "text": [
      " 50%|█████     | 10/20 [00:08<00:09,  1.03it/s]"
     ]
    },
    {
     "name": "stdout",
     "output_type": "stream",
     "text": [
      "Radius in px: 286\n"
     ]
    },
    {
     "name": "stderr",
     "output_type": "stream",
     "text": [
      " 55%|█████▌    | 11/20 [00:09<00:08,  1.06it/s]"
     ]
    },
    {
     "name": "stdout",
     "output_type": "stream",
     "text": [
      "Radius in px: 310\n"
     ]
    },
    {
     "name": "stderr",
     "output_type": "stream",
     "text": [
      " 60%|██████    | 12/20 [00:10<00:07,  1.07it/s]"
     ]
    },
    {
     "name": "stdout",
     "output_type": "stream",
     "text": [
      "Radius in px: 334\n"
     ]
    },
    {
     "name": "stderr",
     "output_type": "stream",
     "text": [
      " 65%|██████▌   | 13/20 [00:11<00:06,  1.09it/s]"
     ]
    },
    {
     "name": "stdout",
     "output_type": "stream",
     "text": [
      "Radius in px: 357\n"
     ]
    },
    {
     "name": "stderr",
     "output_type": "stream",
     "text": [
      " 70%|███████   | 14/20 [00:12<00:05,  1.10it/s]"
     ]
    },
    {
     "name": "stdout",
     "output_type": "stream",
     "text": [
      "Radius in px: 381\n"
     ]
    },
    {
     "name": "stderr",
     "output_type": "stream",
     "text": [
      " 75%|███████▌  | 15/20 [00:13<00:04,  1.11it/s]"
     ]
    },
    {
     "name": "stdout",
     "output_type": "stream",
     "text": [
      "Radius in px: 405\n"
     ]
    },
    {
     "name": "stderr",
     "output_type": "stream",
     "text": [
      " 80%|████████  | 16/20 [00:14<00:03,  1.12it/s]"
     ]
    },
    {
     "name": "stdout",
     "output_type": "stream",
     "text": [
      "Radius in px: 428\n"
     ]
    },
    {
     "name": "stderr",
     "output_type": "stream",
     "text": [
      " 85%|████████▌ | 17/20 [00:14<00:02,  1.13it/s]"
     ]
    },
    {
     "name": "stdout",
     "output_type": "stream",
     "text": [
      "Radius in px: 452\n"
     ]
    },
    {
     "name": "stderr",
     "output_type": "stream",
     "text": [
      " 90%|█████████ | 18/20 [00:15<00:01,  1.15it/s]"
     ]
    },
    {
     "name": "stdout",
     "output_type": "stream",
     "text": [
      "Radius in px: 476\n"
     ]
    },
    {
     "name": "stderr",
     "output_type": "stream",
     "text": [
      " 95%|█████████▌| 19/20 [00:16<00:00,  1.16it/s]"
     ]
    },
    {
     "name": "stdout",
     "output_type": "stream",
     "text": [
      "Radius in px: 500\n"
     ]
    },
    {
     "name": "stderr",
     "output_type": "stream",
     "text": [
      "100%|██████████| 20/20 [00:17<00:00,  1.15it/s]\n"
     ]
    },
    {
     "name": "stdout",
     "output_type": "stream",
     "text": [
      "importIitYarp trying path: /home/schiavazza/data/hpe/fault_button/april_exp/binary/long/button2\n",
      "Examining info.log: /home/schiavazza/data/hpe/fault_button/april_exp/binary/long/button2/info.log\n",
      "[301, 217]\n"
     ]
    },
    {
     "name": "stderr",
     "output_type": "stream",
     "text": [
      "  0%|          | 0/20 [00:00<?, ?it/s]"
     ]
    },
    {
     "name": "stdout",
     "output_type": "stream",
     "text": [
      "Radius in px: 50\n"
     ]
    },
    {
     "name": "stderr",
     "output_type": "stream",
     "text": [
      "  5%|▌         | 1/20 [00:00<00:07,  2.38it/s]"
     ]
    },
    {
     "name": "stdout",
     "output_type": "stream",
     "text": [
      "Radius in px: 73\n"
     ]
    },
    {
     "name": "stderr",
     "output_type": "stream",
     "text": [
      " 10%|█         | 2/20 [00:00<00:09,  1.99it/s]"
     ]
    },
    {
     "name": "stdout",
     "output_type": "stream",
     "text": [
      "Radius in px: 97\n"
     ]
    },
    {
     "name": "stderr",
     "output_type": "stream",
     "text": [
      " 15%|█▌        | 3/20 [00:01<00:10,  1.61it/s]"
     ]
    },
    {
     "name": "stdout",
     "output_type": "stream",
     "text": [
      "Radius in px: 121\n"
     ]
    },
    {
     "name": "stderr",
     "output_type": "stream",
     "text": [
      " 20%|██        | 4/20 [00:02<00:11,  1.36it/s]"
     ]
    },
    {
     "name": "stdout",
     "output_type": "stream",
     "text": [
      "Radius in px: 144\n"
     ]
    },
    {
     "name": "stderr",
     "output_type": "stream",
     "text": [
      " 25%|██▌       | 5/20 [00:03<00:12,  1.22it/s]"
     ]
    },
    {
     "name": "stdout",
     "output_type": "stream",
     "text": [
      "Radius in px: 168\n"
     ]
    },
    {
     "name": "stderr",
     "output_type": "stream",
     "text": [
      " 30%|███       | 6/20 [00:04<00:12,  1.12it/s]"
     ]
    },
    {
     "name": "stdout",
     "output_type": "stream",
     "text": [
      "Radius in px: 192\n"
     ]
    },
    {
     "name": "stderr",
     "output_type": "stream",
     "text": [
      " 35%|███▌      | 7/20 [00:05<00:12,  1.05it/s]"
     ]
    },
    {
     "name": "stdout",
     "output_type": "stream",
     "text": [
      "Radius in px: 215\n"
     ]
    },
    {
     "name": "stderr",
     "output_type": "stream",
     "text": [
      " 40%|████      | 8/20 [00:06<00:11,  1.02it/s]"
     ]
    },
    {
     "name": "stdout",
     "output_type": "stream",
     "text": [
      "Radius in px: 239\n"
     ]
    },
    {
     "name": "stderr",
     "output_type": "stream",
     "text": [
      " 45%|████▌     | 9/20 [00:07<00:10,  1.01it/s]"
     ]
    },
    {
     "name": "stdout",
     "output_type": "stream",
     "text": [
      "Radius in px: 263\n"
     ]
    },
    {
     "name": "stderr",
     "output_type": "stream",
     "text": [
      " 50%|█████     | 10/20 [00:08<00:09,  1.01it/s]"
     ]
    },
    {
     "name": "stdout",
     "output_type": "stream",
     "text": [
      "Radius in px: 286\n"
     ]
    },
    {
     "name": "stderr",
     "output_type": "stream",
     "text": [
      " 55%|█████▌    | 11/20 [00:09<00:08,  1.02it/s]"
     ]
    },
    {
     "name": "stdout",
     "output_type": "stream",
     "text": [
      "Radius in px: 310\n"
     ]
    },
    {
     "name": "stderr",
     "output_type": "stream",
     "text": [
      " 60%|██████    | 12/20 [00:10<00:07,  1.03it/s]"
     ]
    },
    {
     "name": "stdout",
     "output_type": "stream",
     "text": [
      "Radius in px: 334\n"
     ]
    },
    {
     "name": "stderr",
     "output_type": "stream",
     "text": [
      " 65%|██████▌   | 13/20 [00:11<00:06,  1.03it/s]"
     ]
    },
    {
     "name": "stdout",
     "output_type": "stream",
     "text": [
      "Radius in px: 357\n"
     ]
    },
    {
     "name": "stderr",
     "output_type": "stream",
     "text": [
      " 70%|███████   | 14/20 [00:12<00:05,  1.04it/s]"
     ]
    },
    {
     "name": "stdout",
     "output_type": "stream",
     "text": [
      "Radius in px: 381\n"
     ]
    },
    {
     "name": "stderr",
     "output_type": "stream",
     "text": [
      " 75%|███████▌  | 15/20 [00:13<00:04,  1.02it/s]"
     ]
    },
    {
     "name": "stdout",
     "output_type": "stream",
     "text": [
      "Radius in px: 405\n"
     ]
    },
    {
     "name": "stderr",
     "output_type": "stream",
     "text": [
      " 80%|████████  | 16/20 [00:14<00:04,  1.05s/it]"
     ]
    },
    {
     "name": "stdout",
     "output_type": "stream",
     "text": [
      "Radius in px: 428\n"
     ]
    },
    {
     "name": "stderr",
     "output_type": "stream",
     "text": [
      " 85%|████████▌ | 17/20 [00:16<00:03,  1.13s/it]"
     ]
    },
    {
     "name": "stdout",
     "output_type": "stream",
     "text": [
      "Radius in px: 452\n"
     ]
    },
    {
     "name": "stderr",
     "output_type": "stream",
     "text": [
      " 90%|█████████ | 18/20 [00:17<00:02,  1.09s/it]"
     ]
    },
    {
     "name": "stdout",
     "output_type": "stream",
     "text": [
      "Radius in px: 476\n"
     ]
    },
    {
     "name": "stderr",
     "output_type": "stream",
     "text": [
      " 95%|█████████▌| 19/20 [00:18<00:01,  1.04s/it]"
     ]
    },
    {
     "name": "stdout",
     "output_type": "stream",
     "text": [
      "Radius in px: 500\n"
     ]
    },
    {
     "name": "stderr",
     "output_type": "stream",
     "text": [
      "100%|██████████| 20/20 [00:19<00:00,  1.05it/s]\n"
     ]
    },
    {
     "name": "stdout",
     "output_type": "stream",
     "text": [
      "importIitYarp trying path: /home/schiavazza/data/hpe/fault_button/april_exp/binary/long/button3\n",
      "Examining info.log: /home/schiavazza/data/hpe/fault_button/april_exp/binary/long/button3/info.log\n",
      "[301, 217]\n"
     ]
    },
    {
     "name": "stderr",
     "output_type": "stream",
     "text": [
      "  0%|          | 0/20 [00:00<?, ?it/s]"
     ]
    },
    {
     "name": "stdout",
     "output_type": "stream",
     "text": [
      "Radius in px: 50\n"
     ]
    },
    {
     "name": "stderr",
     "output_type": "stream",
     "text": [
      "  5%|▌         | 1/20 [00:00<00:13,  1.37it/s]"
     ]
    },
    {
     "name": "stdout",
     "output_type": "stream",
     "text": [
      "Radius in px: 73\n"
     ]
    },
    {
     "name": "stderr",
     "output_type": "stream",
     "text": [
      " 10%|█         | 2/20 [00:01<00:15,  1.15it/s]"
     ]
    },
    {
     "name": "stdout",
     "output_type": "stream",
     "text": [
      "Radius in px: 97\n"
     ]
    },
    {
     "name": "stderr",
     "output_type": "stream",
     "text": [
      " 15%|█▌        | 3/20 [00:02<00:16,  1.04it/s]"
     ]
    },
    {
     "name": "stdout",
     "output_type": "stream",
     "text": [
      "Radius in px: 121\n"
     ]
    },
    {
     "name": "stderr",
     "output_type": "stream",
     "text": [
      " 20%|██        | 4/20 [00:04<00:19,  1.20s/it]"
     ]
    },
    {
     "name": "stdout",
     "output_type": "stream",
     "text": [
      "Radius in px: 144\n"
     ]
    },
    {
     "name": "stderr",
     "output_type": "stream",
     "text": [
      " 25%|██▌       | 5/20 [00:05<00:19,  1.30s/it]"
     ]
    },
    {
     "name": "stdout",
     "output_type": "stream",
     "text": [
      "Radius in px: 168\n"
     ]
    },
    {
     "name": "stderr",
     "output_type": "stream",
     "text": [
      " 30%|███       | 6/20 [00:07<00:19,  1.36s/it]"
     ]
    },
    {
     "name": "stdout",
     "output_type": "stream",
     "text": [
      "Radius in px: 192\n"
     ]
    },
    {
     "name": "stderr",
     "output_type": "stream",
     "text": [
      " 35%|███▌      | 7/20 [00:08<00:18,  1.41s/it]"
     ]
    },
    {
     "name": "stdout",
     "output_type": "stream",
     "text": [
      "Radius in px: 215\n"
     ]
    },
    {
     "name": "stderr",
     "output_type": "stream",
     "text": [
      " 40%|████      | 8/20 [00:10<00:16,  1.41s/it]"
     ]
    },
    {
     "name": "stdout",
     "output_type": "stream",
     "text": [
      "Radius in px: 239\n"
     ]
    },
    {
     "name": "stderr",
     "output_type": "stream",
     "text": [
      " 45%|████▌     | 9/20 [00:11<00:15,  1.42s/it]"
     ]
    },
    {
     "name": "stdout",
     "output_type": "stream",
     "text": [
      "Radius in px: 263\n"
     ]
    },
    {
     "name": "stderr",
     "output_type": "stream",
     "text": [
      " 50%|█████     | 10/20 [00:13<00:14,  1.40s/it]"
     ]
    },
    {
     "name": "stdout",
     "output_type": "stream",
     "text": [
      "Radius in px: 286\n"
     ]
    },
    {
     "name": "stderr",
     "output_type": "stream",
     "text": [
      " 55%|█████▌    | 11/20 [00:14<00:12,  1.39s/it]"
     ]
    },
    {
     "name": "stdout",
     "output_type": "stream",
     "text": [
      "Radius in px: 310\n"
     ]
    },
    {
     "name": "stderr",
     "output_type": "stream",
     "text": [
      " 60%|██████    | 12/20 [00:15<00:10,  1.33s/it]"
     ]
    },
    {
     "name": "stdout",
     "output_type": "stream",
     "text": [
      "Radius in px: 334\n"
     ]
    },
    {
     "name": "stderr",
     "output_type": "stream",
     "text": [
      " 65%|██████▌   | 13/20 [00:16<00:09,  1.29s/it]"
     ]
    },
    {
     "name": "stdout",
     "output_type": "stream",
     "text": [
      "Radius in px: 357\n"
     ]
    },
    {
     "name": "stderr",
     "output_type": "stream",
     "text": [
      " 70%|███████   | 14/20 [00:17<00:07,  1.25s/it]"
     ]
    },
    {
     "name": "stdout",
     "output_type": "stream",
     "text": [
      "Radius in px: 381\n"
     ]
    },
    {
     "name": "stderr",
     "output_type": "stream",
     "text": [
      " 75%|███████▌  | 15/20 [00:19<00:06,  1.24s/it]"
     ]
    },
    {
     "name": "stdout",
     "output_type": "stream",
     "text": [
      "Radius in px: 405\n"
     ]
    },
    {
     "name": "stderr",
     "output_type": "stream",
     "text": [
      " 80%|████████  | 16/20 [00:20<00:05,  1.25s/it]"
     ]
    },
    {
     "name": "stdout",
     "output_type": "stream",
     "text": [
      "Radius in px: 428\n"
     ]
    },
    {
     "name": "stderr",
     "output_type": "stream",
     "text": [
      " 85%|████████▌ | 17/20 [00:21<00:03,  1.24s/it]"
     ]
    },
    {
     "name": "stdout",
     "output_type": "stream",
     "text": [
      "Radius in px: 452\n"
     ]
    },
    {
     "name": "stderr",
     "output_type": "stream",
     "text": [
      " 90%|█████████ | 18/20 [00:22<00:02,  1.25s/it]"
     ]
    },
    {
     "name": "stdout",
     "output_type": "stream",
     "text": [
      "Radius in px: 476\n"
     ]
    },
    {
     "name": "stderr",
     "output_type": "stream",
     "text": [
      " 95%|█████████▌| 19/20 [00:24<00:01,  1.23s/it]"
     ]
    },
    {
     "name": "stdout",
     "output_type": "stream",
     "text": [
      "Radius in px: 500\n"
     ]
    },
    {
     "name": "stderr",
     "output_type": "stream",
     "text": [
      "100%|██████████| 20/20 [00:25<00:00,  1.27s/it]\n"
     ]
    },
    {
     "name": "stdout",
     "output_type": "stream",
     "text": [
      "importIitYarp trying path: /home/schiavazza/data/hpe/fault_button/april_exp/binary/long/button4\n",
      "Examining info.log: /home/schiavazza/data/hpe/fault_button/april_exp/binary/long/button4/info.log\n",
      "[301, 217]\n"
     ]
    },
    {
     "name": "stderr",
     "output_type": "stream",
     "text": [
      "  0%|          | 0/20 [00:00<?, ?it/s]"
     ]
    },
    {
     "name": "stdout",
     "output_type": "stream",
     "text": [
      "Radius in px: 50\n"
     ]
    },
    {
     "name": "stderr",
     "output_type": "stream",
     "text": [
      "  5%|▌         | 1/20 [00:00<00:12,  1.55it/s]"
     ]
    },
    {
     "name": "stdout",
     "output_type": "stream",
     "text": [
      "Radius in px: 73\n"
     ]
    },
    {
     "name": "stderr",
     "output_type": "stream",
     "text": [
      " 10%|█         | 2/20 [00:01<00:12,  1.41it/s]"
     ]
    },
    {
     "name": "stdout",
     "output_type": "stream",
     "text": [
      "Radius in px: 97\n"
     ]
    },
    {
     "name": "stderr",
     "output_type": "stream",
     "text": [
      " 15%|█▌        | 3/20 [00:02<00:15,  1.13it/s]"
     ]
    },
    {
     "name": "stdout",
     "output_type": "stream",
     "text": [
      "Radius in px: 121\n"
     ]
    },
    {
     "name": "stderr",
     "output_type": "stream",
     "text": [
      " 20%|██        | 4/20 [00:03<00:16,  1.05s/it]"
     ]
    },
    {
     "name": "stdout",
     "output_type": "stream",
     "text": [
      "Radius in px: 144\n"
     ]
    },
    {
     "name": "stderr",
     "output_type": "stream",
     "text": [
      " 25%|██▌       | 5/20 [00:05<00:18,  1.21s/it]"
     ]
    },
    {
     "name": "stdout",
     "output_type": "stream",
     "text": [
      "Radius in px: 168\n"
     ]
    },
    {
     "name": "stderr",
     "output_type": "stream",
     "text": [
      " 30%|███       | 6/20 [00:06<00:18,  1.32s/it]"
     ]
    },
    {
     "name": "stdout",
     "output_type": "stream",
     "text": [
      "Radius in px: 192\n"
     ]
    },
    {
     "name": "stderr",
     "output_type": "stream",
     "text": [
      " 35%|███▌      | 7/20 [00:08<00:18,  1.39s/it]"
     ]
    },
    {
     "name": "stdout",
     "output_type": "stream",
     "text": [
      "Radius in px: 215\n"
     ]
    },
    {
     "name": "stderr",
     "output_type": "stream",
     "text": [
      " 40%|████      | 8/20 [00:09<00:16,  1.40s/it]"
     ]
    },
    {
     "name": "stdout",
     "output_type": "stream",
     "text": [
      "Radius in px: 239\n"
     ]
    },
    {
     "name": "stderr",
     "output_type": "stream",
     "text": [
      " 45%|████▌     | 9/20 [00:11<00:14,  1.35s/it]"
     ]
    },
    {
     "name": "stdout",
     "output_type": "stream",
     "text": [
      "Radius in px: 263\n"
     ]
    },
    {
     "name": "stderr",
     "output_type": "stream",
     "text": [
      " 50%|█████     | 10/20 [00:12<00:13,  1.31s/it]"
     ]
    },
    {
     "name": "stdout",
     "output_type": "stream",
     "text": [
      "Radius in px: 286\n"
     ]
    },
    {
     "name": "stderr",
     "output_type": "stream",
     "text": [
      " 55%|█████▌    | 11/20 [00:13<00:11,  1.29s/it]"
     ]
    },
    {
     "name": "stdout",
     "output_type": "stream",
     "text": [
      "Radius in px: 310\n"
     ]
    },
    {
     "name": "stderr",
     "output_type": "stream",
     "text": [
      " 60%|██████    | 12/20 [00:14<00:10,  1.33s/it]"
     ]
    },
    {
     "name": "stdout",
     "output_type": "stream",
     "text": [
      "Radius in px: 334\n"
     ]
    },
    {
     "name": "stderr",
     "output_type": "stream",
     "text": [
      " 65%|██████▌   | 13/20 [00:16<00:09,  1.35s/it]"
     ]
    },
    {
     "name": "stdout",
     "output_type": "stream",
     "text": [
      "Radius in px: 357\n"
     ]
    },
    {
     "name": "stderr",
     "output_type": "stream",
     "text": [
      " 70%|███████   | 14/20 [00:17<00:08,  1.37s/it]"
     ]
    },
    {
     "name": "stdout",
     "output_type": "stream",
     "text": [
      "Radius in px: 381\n"
     ]
    },
    {
     "name": "stderr",
     "output_type": "stream",
     "text": [
      " 75%|███████▌  | 15/20 [00:19<00:06,  1.37s/it]"
     ]
    },
    {
     "name": "stdout",
     "output_type": "stream",
     "text": [
      "Radius in px: 405\n"
     ]
    },
    {
     "name": "stderr",
     "output_type": "stream",
     "text": [
      " 80%|████████  | 16/20 [00:20<00:05,  1.37s/it]"
     ]
    },
    {
     "name": "stdout",
     "output_type": "stream",
     "text": [
      "Radius in px: 428\n"
     ]
    },
    {
     "name": "stderr",
     "output_type": "stream",
     "text": [
      " 85%|████████▌ | 17/20 [00:21<00:04,  1.37s/it]"
     ]
    },
    {
     "name": "stdout",
     "output_type": "stream",
     "text": [
      "Radius in px: 452\n"
     ]
    },
    {
     "name": "stderr",
     "output_type": "stream",
     "text": [
      " 90%|█████████ | 18/20 [00:23<00:02,  1.36s/it]"
     ]
    },
    {
     "name": "stdout",
     "output_type": "stream",
     "text": [
      "Radius in px: 476\n"
     ]
    },
    {
     "name": "stderr",
     "output_type": "stream",
     "text": [
      " 95%|█████████▌| 19/20 [00:24<00:01,  1.37s/it]"
     ]
    },
    {
     "name": "stdout",
     "output_type": "stream",
     "text": [
      "Radius in px: 500\n"
     ]
    },
    {
     "name": "stderr",
     "output_type": "stream",
     "text": [
      "100%|██████████| 20/20 [00:25<00:00,  1.30s/it]\n"
     ]
    },
    {
     "name": "stdout",
     "output_type": "stream",
     "text": [
      "importIitYarp trying path: /home/schiavazza/data/hpe/fault_button/APRIL/exp01/data\n"
     ]
    },
    {
     "name": "stderr",
     "output_type": "stream",
     "text": [
      "100%|██████████| 20781/20781 [00:07<00:00, 2602.29it/s]\n"
     ]
    },
    {
     "name": "stdout",
     "output_type": "stream",
     "text": [
      "Examining info.log: /home/schiavazza/data/hpe/fault_button/APRIL/exp01/data/info.log\n",
      "[589, 366]\n"
     ]
    },
    {
     "name": "stderr",
     "output_type": "stream",
     "text": [
      " 10%|█         | 2/20 [00:00<00:00, 18.85it/s]"
     ]
    },
    {
     "name": "stdout",
     "output_type": "stream",
     "text": [
      "Radius in px: 20\n",
      "Radius in px: 45\n",
      "Radius in px: 70\n",
      "Radius in px: 95\n"
     ]
    },
    {
     "name": "stderr",
     "output_type": "stream",
     "text": [
      " 30%|███       | 6/20 [00:00<00:00, 14.00it/s]"
     ]
    },
    {
     "name": "stdout",
     "output_type": "stream",
     "text": [
      "Radius in px: 121\n",
      "Radius in px: 146\n",
      "Radius in px: 171\n"
     ]
    },
    {
     "name": "stderr",
     "output_type": "stream",
     "text": [
      " 40%|████      | 8/20 [00:00<00:00, 12.20it/s]"
     ]
    },
    {
     "name": "stdout",
     "output_type": "stream",
     "text": [
      "Radius in px: 196\n",
      "Radius in px: 222\n"
     ]
    },
    {
     "name": "stderr",
     "output_type": "stream",
     "text": [
      " 50%|█████     | 10/20 [00:00<00:01,  8.76it/s]"
     ]
    },
    {
     "name": "stdout",
     "output_type": "stream",
     "text": [
      "Radius in px: 247\n",
      "Radius in px: 272\n",
      "Radius in px: 297\n"
     ]
    },
    {
     "name": "stderr",
     "output_type": "stream",
     "text": [
      " 60%|██████    | 12/20 [00:01<00:01,  6.52it/s]"
     ]
    },
    {
     "name": "stdout",
     "output_type": "stream",
     "text": [
      "Radius in px: 323\n"
     ]
    },
    {
     "name": "stderr",
     "output_type": "stream",
     "text": [
      " 65%|██████▌   | 13/20 [00:01<00:01,  5.79it/s]"
     ]
    },
    {
     "name": "stdout",
     "output_type": "stream",
     "text": [
      "Radius in px: 348\n"
     ]
    },
    {
     "name": "stderr",
     "output_type": "stream",
     "text": [
      " 70%|███████   | 14/20 [00:01<00:01,  5.42it/s]"
     ]
    },
    {
     "name": "stdout",
     "output_type": "stream",
     "text": [
      "Radius in px: 373\n"
     ]
    },
    {
     "name": "stderr",
     "output_type": "stream",
     "text": [
      " 75%|███████▌  | 15/20 [00:02<00:00,  5.05it/s]"
     ]
    },
    {
     "name": "stdout",
     "output_type": "stream",
     "text": [
      "Radius in px: 398\n"
     ]
    },
    {
     "name": "stderr",
     "output_type": "stream",
     "text": [
      " 80%|████████  | 16/20 [00:02<00:00,  4.82it/s]"
     ]
    },
    {
     "name": "stdout",
     "output_type": "stream",
     "text": [
      "Radius in px: 424\n"
     ]
    },
    {
     "name": "stderr",
     "output_type": "stream",
     "text": [
      " 85%|████████▌ | 17/20 [00:02<00:00,  4.73it/s]"
     ]
    },
    {
     "name": "stdout",
     "output_type": "stream",
     "text": [
      "Radius in px: 449\n"
     ]
    },
    {
     "name": "stderr",
     "output_type": "stream",
     "text": [
      " 90%|█████████ | 18/20 [00:02<00:00,  4.55it/s]"
     ]
    },
    {
     "name": "stdout",
     "output_type": "stream",
     "text": [
      "Radius in px: 474\n"
     ]
    },
    {
     "name": "stderr",
     "output_type": "stream",
     "text": [
      " 95%|█████████▌| 19/20 [00:03<00:00,  4.56it/s]"
     ]
    },
    {
     "name": "stdout",
     "output_type": "stream",
     "text": [
      "Radius in px: 500\n"
     ]
    },
    {
     "name": "stderr",
     "output_type": "stream",
     "text": [
      "100%|██████████| 20/20 [00:03<00:00,  6.14it/s]\n"
     ]
    },
    {
     "name": "stdout",
     "output_type": "stream",
     "text": [
      "importIitYarp trying path: /home/schiavazza/data/hpe/fault_button/APRIL/exp02/data\n"
     ]
    },
    {
     "name": "stderr",
     "output_type": "stream",
     "text": [
      "100%|██████████| 50892/50892 [00:19<00:00, 2598.68it/s]\n"
     ]
    },
    {
     "name": "stdout",
     "output_type": "stream",
     "text": [
      "Examining info.log: /home/schiavazza/data/hpe/fault_button/APRIL/exp02/data/info.log\n",
      "[589, 366]\n"
     ]
    },
    {
     "name": "stderr",
     "output_type": "stream",
     "text": [
      "  5%|▌         | 1/20 [00:00<00:02,  8.00it/s]"
     ]
    },
    {
     "name": "stdout",
     "output_type": "stream",
     "text": [
      "Radius in px: 20\n",
      "Radius in px: 45\n"
     ]
    },
    {
     "name": "stderr",
     "output_type": "stream",
     "text": [
      " 15%|█▌        | 3/20 [00:00<00:01,  8.59it/s]"
     ]
    },
    {
     "name": "stdout",
     "output_type": "stream",
     "text": [
      "Radius in px: 70\n",
      "Radius in px: 95\n"
     ]
    },
    {
     "name": "stderr",
     "output_type": "stream",
     "text": [
      " 25%|██▌       | 5/20 [00:00<00:01,  7.77it/s]"
     ]
    },
    {
     "name": "stdout",
     "output_type": "stream",
     "text": [
      "Radius in px: 121\n",
      "Radius in px: 146\n"
     ]
    },
    {
     "name": "stderr",
     "output_type": "stream",
     "text": [
      " 35%|███▌      | 7/20 [00:00<00:01,  6.70it/s]"
     ]
    },
    {
     "name": "stdout",
     "output_type": "stream",
     "text": [
      "Radius in px: 171\n",
      "Radius in px: 196\n"
     ]
    },
    {
     "name": "stderr",
     "output_type": "stream",
     "text": [
      " 40%|████      | 8/20 [00:01<00:02,  5.95it/s]"
     ]
    },
    {
     "name": "stdout",
     "output_type": "stream",
     "text": [
      "Radius in px: 222\n"
     ]
    },
    {
     "name": "stderr",
     "output_type": "stream",
     "text": [
      " 45%|████▌     | 9/20 [00:01<00:02,  5.02it/s]"
     ]
    },
    {
     "name": "stdout",
     "output_type": "stream",
     "text": [
      "Radius in px: 247\n"
     ]
    },
    {
     "name": "stderr",
     "output_type": "stream",
     "text": [
      " 50%|█████     | 10/20 [00:01<00:02,  3.60it/s]"
     ]
    },
    {
     "name": "stdout",
     "output_type": "stream",
     "text": [
      "Radius in px: 272\n"
     ]
    },
    {
     "name": "stderr",
     "output_type": "stream",
     "text": [
      " 55%|█████▌    | 11/20 [00:02<00:02,  3.03it/s]"
     ]
    },
    {
     "name": "stdout",
     "output_type": "stream",
     "text": [
      "Radius in px: 297\n"
     ]
    },
    {
     "name": "stderr",
     "output_type": "stream",
     "text": [
      " 60%|██████    | 12/20 [00:02<00:03,  2.58it/s]"
     ]
    },
    {
     "name": "stdout",
     "output_type": "stream",
     "text": [
      "Radius in px: 323\n"
     ]
    },
    {
     "name": "stderr",
     "output_type": "stream",
     "text": [
      " 65%|██████▌   | 13/20 [00:03<00:03,  2.30it/s]"
     ]
    },
    {
     "name": "stdout",
     "output_type": "stream",
     "text": [
      "Radius in px: 348\n"
     ]
    },
    {
     "name": "stderr",
     "output_type": "stream",
     "text": [
      " 70%|███████   | 14/20 [00:03<00:02,  2.06it/s]"
     ]
    },
    {
     "name": "stdout",
     "output_type": "stream",
     "text": [
      "Radius in px: 373\n"
     ]
    },
    {
     "name": "stderr",
     "output_type": "stream",
     "text": [
      " 75%|███████▌  | 15/20 [00:04<00:02,  1.93it/s]"
     ]
    },
    {
     "name": "stdout",
     "output_type": "stream",
     "text": [
      "Radius in px: 398\n"
     ]
    },
    {
     "name": "stderr",
     "output_type": "stream",
     "text": [
      " 80%|████████  | 16/20 [00:05<00:02,  1.88it/s]"
     ]
    },
    {
     "name": "stdout",
     "output_type": "stream",
     "text": [
      "Radius in px: 424\n"
     ]
    },
    {
     "name": "stderr",
     "output_type": "stream",
     "text": [
      " 85%|████████▌ | 17/20 [00:05<00:01,  1.85it/s]"
     ]
    },
    {
     "name": "stdout",
     "output_type": "stream",
     "text": [
      "Radius in px: 449\n"
     ]
    },
    {
     "name": "stderr",
     "output_type": "stream",
     "text": [
      " 90%|█████████ | 18/20 [00:06<00:01,  1.83it/s]"
     ]
    },
    {
     "name": "stdout",
     "output_type": "stream",
     "text": [
      "Radius in px: 474\n"
     ]
    },
    {
     "name": "stderr",
     "output_type": "stream",
     "text": [
      " 95%|█████████▌| 19/20 [00:06<00:00,  1.79it/s]"
     ]
    },
    {
     "name": "stdout",
     "output_type": "stream",
     "text": [
      "Radius in px: 500\n"
     ]
    },
    {
     "name": "stderr",
     "output_type": "stream",
     "text": [
      "100%|██████████| 20/20 [00:07<00:00,  2.70it/s]\n"
     ]
    },
    {
     "name": "stdout",
     "output_type": "stream",
     "text": [
      "importIitYarp trying path: /home/schiavazza/data/hpe/fault_button/APRIL/exp03/data\n"
     ]
    },
    {
     "name": "stderr",
     "output_type": "stream",
     "text": [
      "100%|██████████| 38970/38970 [00:14<00:00, 2763.96it/s]\n"
     ]
    },
    {
     "name": "stdout",
     "output_type": "stream",
     "text": [
      "Examining info.log: /home/schiavazza/data/hpe/fault_button/APRIL/exp03/data/info.log\n",
      "[589, 366]\n"
     ]
    },
    {
     "name": "stderr",
     "output_type": "stream",
     "text": [
      "  5%|▌         | 1/20 [00:00<00:01,  9.95it/s]"
     ]
    },
    {
     "name": "stdout",
     "output_type": "stream",
     "text": [
      "Radius in px: 20\n",
      "Radius in px: 45\n"
     ]
    },
    {
     "name": "stderr",
     "output_type": "stream",
     "text": [
      " 20%|██        | 4/20 [00:00<00:01, 10.26it/s]"
     ]
    },
    {
     "name": "stdout",
     "output_type": "stream",
     "text": [
      "Radius in px: 70\n",
      "Radius in px: 95\n",
      "Radius in px: 121\n"
     ]
    },
    {
     "name": "stderr",
     "output_type": "stream",
     "text": [
      " 30%|███       | 6/20 [00:00<00:01,  9.64it/s]"
     ]
    },
    {
     "name": "stdout",
     "output_type": "stream",
     "text": [
      "Radius in px: 146\n",
      "Radius in px: 171\n"
     ]
    },
    {
     "name": "stderr",
     "output_type": "stream",
     "text": [
      " 40%|████      | 8/20 [00:00<00:01,  8.53it/s]"
     ]
    },
    {
     "name": "stdout",
     "output_type": "stream",
     "text": [
      "Radius in px: 196\n",
      "Radius in px: 222\n"
     ]
    },
    {
     "name": "stderr",
     "output_type": "stream",
     "text": [
      " 45%|████▌     | 9/20 [00:01<00:01,  7.24it/s]"
     ]
    },
    {
     "name": "stdout",
     "output_type": "stream",
     "text": [
      "Radius in px: 247\n"
     ]
    },
    {
     "name": "stderr",
     "output_type": "stream",
     "text": [
      " 50%|█████     | 10/20 [00:01<00:01,  5.52it/s]"
     ]
    },
    {
     "name": "stdout",
     "output_type": "stream",
     "text": [
      "Radius in px: 272\n"
     ]
    },
    {
     "name": "stderr",
     "output_type": "stream",
     "text": [
      " 55%|█████▌    | 11/20 [00:01<00:02,  4.41it/s]"
     ]
    },
    {
     "name": "stdout",
     "output_type": "stream",
     "text": [
      "Radius in px: 297\n"
     ]
    },
    {
     "name": "stderr",
     "output_type": "stream",
     "text": [
      " 60%|██████    | 12/20 [00:02<00:02,  3.93it/s]"
     ]
    },
    {
     "name": "stdout",
     "output_type": "stream",
     "text": [
      "Radius in px: 323\n"
     ]
    },
    {
     "name": "stderr",
     "output_type": "stream",
     "text": [
      " 65%|██████▌   | 13/20 [00:02<00:02,  3.37it/s]"
     ]
    },
    {
     "name": "stdout",
     "output_type": "stream",
     "text": [
      "Radius in px: 348\n"
     ]
    },
    {
     "name": "stderr",
     "output_type": "stream",
     "text": [
      " 70%|███████   | 14/20 [00:02<00:01,  3.13it/s]"
     ]
    },
    {
     "name": "stdout",
     "output_type": "stream",
     "text": [
      "Radius in px: 373\n"
     ]
    },
    {
     "name": "stderr",
     "output_type": "stream",
     "text": [
      " 75%|███████▌  | 15/20 [00:03<00:01,  3.01it/s]"
     ]
    },
    {
     "name": "stdout",
     "output_type": "stream",
     "text": [
      "Radius in px: 398\n"
     ]
    },
    {
     "name": "stderr",
     "output_type": "stream",
     "text": [
      " 80%|████████  | 16/20 [00:03<00:01,  2.96it/s]"
     ]
    },
    {
     "name": "stdout",
     "output_type": "stream",
     "text": [
      "Radius in px: 424\n"
     ]
    },
    {
     "name": "stderr",
     "output_type": "stream",
     "text": [
      " 85%|████████▌ | 17/20 [00:03<00:01,  2.89it/s]"
     ]
    },
    {
     "name": "stdout",
     "output_type": "stream",
     "text": [
      "Radius in px: 449\n"
     ]
    },
    {
     "name": "stderr",
     "output_type": "stream",
     "text": [
      " 90%|█████████ | 18/20 [00:04<00:00,  2.92it/s]"
     ]
    },
    {
     "name": "stdout",
     "output_type": "stream",
     "text": [
      "Radius in px: 474\n"
     ]
    },
    {
     "name": "stderr",
     "output_type": "stream",
     "text": [
      " 95%|█████████▌| 19/20 [00:04<00:00,  2.98it/s]"
     ]
    },
    {
     "name": "stdout",
     "output_type": "stream",
     "text": [
      "Radius in px: 500\n"
     ]
    },
    {
     "name": "stderr",
     "output_type": "stream",
     "text": [
      "100%|██████████| 20/20 [00:04<00:00,  4.10it/s]\n"
     ]
    }
   ],
   "source": [
    "scales = np.linspace(50.0, 500, 20)\n",
    "dataset_tres = 0.01\n",
    "base_thresh = 12\n",
    "\n",
    "total_diff = np.empty((n, ), dtype='object')\n",
    "total_missed = np.empty((n, ), dtype='object')\n",
    "total_false = np.empty((n, ), dtype='object')\n",
    "\n",
    "for path in data_list1:\n",
    "    plotter = utils.Plotter(path)\n",
    "    diffs, false_detections, missed_detections = plotter.compute_stats_scale(base_thresh, scales, dataset_tres)\n",
    "\n",
    "    for i, t in enumerate(diffs):\n",
    "        total_diff[i] = np.append(total_diff[i], t)\n",
    "    for i, t in enumerate(false_detections):\n",
    "        total_false[i] = np.append(total_false[i], t)\n",
    "    for i, t in enumerate(missed_detections):\n",
    "        total_missed[i] = np.append(total_missed[i], t)\n",
    "\n",
    "u_diff1 = np.zeros((n,), dtype=float)\n",
    "std_diff1 = np.zeros((n,), dtype=float)\n",
    "\n",
    "u_false1 = np.zeros((n,), dtype=float)\n",
    "std_false1 = np.zeros((n,), dtype=float)\n",
    "\n",
    "u_missed1 = np.zeros((n,), dtype=float)\n",
    "std_missed1 = np.zeros((n,), dtype=float)\n",
    "\n",
    "\n",
    "for i, _ in enumerate(total_diff):\n",
    "    tmp = np.array(total_diff[i], dtype=float)\n",
    "    u_diff1[i] = np.nanmean(tmp)\n",
    "    std_diff1[i] = np.nanstd(tmp)\n",
    "\n",
    "    tmp = np.array(total_false[i], dtype=float)\n",
    "    u_false1[i] = np.nanmean(tmp)\n",
    "    std_false1[i] = np.nanstd(tmp)\n",
    "\n",
    "    tmp = np.array(total_missed[i], dtype=float)\n",
    "    u_missed1[i] = np.nanmean(tmp)\n",
    "    std_missed1[i] = np.nanstd(tmp)\n",
    "\n",
    "\n",
    "scales = np.linspace(50.0, 500, 20)\n",
    "dataset_tres = 0.01\n",
    "base_thresh = 9\n",
    "\n",
    "total_diff = np.empty((n, ), dtype='object')\n",
    "total_missed = np.empty((n, ), dtype='object')\n",
    "total_false = np.empty((n, ), dtype='object')\n",
    "\n",
    "for path in data_list2:\n",
    "    plotter = utils.Plotter(path)\n",
    "    diffs, false_detections, missed_detections = plotter.compute_stats_scale(base_thresh, scales, dataset_tres)\n",
    "\n",
    "    for i, t in enumerate(diffs):\n",
    "        total_diff[i] = np.append(total_diff[i], t)\n",
    "    for i, t in enumerate(false_detections):\n",
    "        total_false[i] = np.append(total_false[i], t)\n",
    "    for i, t in enumerate(missed_detections):\n",
    "        total_missed[i] = np.append(total_missed[i], t)\n",
    "\n",
    "u_diff2 = np.zeros((n,), dtype=float)\n",
    "std_diff2 = np.zeros((n,), dtype=float)\n",
    "\n",
    "u_false2 = np.zeros((n,), dtype=float)\n",
    "std_false2 = np.zeros((n,), dtype=float)\n",
    "\n",
    "u_missed2 = np.zeros((n,), dtype=float)\n",
    "std_missed2 = np.zeros((n,), dtype=float)\n",
    "\n",
    "\n",
    "for i, _ in enumerate(total_diff):\n",
    "    tmp = np.array(total_diff[i], dtype=float)\n",
    "    u_diff2[i] = np.nanmean(tmp)\n",
    "    std_diff2[i] = np.nanstd(tmp)\n",
    "\n",
    "    tmp = np.array(total_false[i], dtype=float)\n",
    "    u_false2[i] = np.nanmean(tmp)\n",
    "    std_false2[i] = np.nanstd(tmp)\n",
    "\n",
    "    tmp = np.array(total_missed[i], dtype=float)\n",
    "    u_missed2[i] = np.nanmean(tmp)\n",
    "    std_missed2[i] = np.nanstd(tmp)\n",
    "\n",
    "\n",
    "scales = np.linspace(20.0, 500, 20)\n",
    "dataset_tres = 0.01\n",
    "base_thresh = 1.4\n",
    "\n",
    "total_diff = np.empty((n, ), dtype='object')\n",
    "total_missed = np.empty((n, ), dtype='object')\n",
    "total_false = np.empty((n, ), dtype='object')\n",
    "\n",
    "for path in data_list3:\n",
    "    plotter = utils.Plotter(path)\n",
    "    diffs, false_detections, missed_detections = plotter.compute_stats_scale(base_thresh, scales, dataset_tres)\n",
    "\n",
    "    for i, t in enumerate(diffs):\n",
    "        total_diff[i] = np.append(total_diff[i], t)\n",
    "    for i, t in enumerate(false_detections):\n",
    "        total_false[i] = np.append(total_false[i], t)\n",
    "    for i, t in enumerate(missed_detections):\n",
    "        total_missed[i] = np.append(total_missed[i], t)\n",
    "\n",
    "u_diff3 = np.zeros((n,), dtype=float)\n",
    "std_diff3 = np.zeros((n,), dtype=float)\n",
    "\n",
    "u_false3 = np.zeros((n,), dtype=float)\n",
    "std_false3 = np.zeros((n,), dtype=float)\n",
    "\n",
    "u_missed3 = np.zeros((n,), dtype=float)\n",
    "std_missed3 = np.zeros((n,), dtype=float)\n",
    "\n",
    "\n",
    "for i, _ in enumerate(total_diff):\n",
    "    tmp = np.array(total_diff[i], dtype=float)\n",
    "    u_diff3[i] = np.nanmean(tmp)\n",
    "    std_diff3[i] = np.nanstd(tmp)\n",
    "\n",
    "    tmp = np.array(total_false[i], dtype=float)\n",
    "    u_false3[i] = np.nanmean(tmp)\n",
    "    std_false3[i] = np.nanstd(tmp)\n",
    "\n",
    "    tmp = np.array(total_missed[i], dtype=float)\n",
    "    u_missed3[i] = np.nanmean(tmp)\n",
    "    std_missed3[i] = np.nanstd(tmp)\n",
    "\n",
    "\n"
   ]
  },
  {
   "cell_type": "code",
   "execution_count": 9,
   "metadata": {},
   "outputs": [
    {
     "data": {
      "image/png": "[encoded data removed]",
      "text/plain": [
       "<Figure size 864x648 with 3 Axes>"
      ]
     },
     "metadata": {
      "needs_background": "light"
     },
     "output_type": "display_data"
    }
   ],
   "source": [
    "\n",
    "fig, axs = plt.subplots(2, 1, figsize=(12, 9))\n",
    "\n",
    "axs2 = axs[1].twinx()\n",
    "\n",
    "u_diffs = [u_diff1, u_diff2, u_diff3]\n",
    "std_diffs = [std_diff1, std_diff2, std_diff3]\n",
    "u_falses = [u_false1, u_false2, u_false3]\n",
    "std_falses = [std_false1, std_false2, std_false3]\n",
    "u_misseds = [u_missed1, u_missed2, u_missed3]\n",
    "std_misseds = [std_missed1, std_missed2, std_missed3]\n",
    "style = [\"solid\", \"dotted\", \"dashed\"]\n",
    "\n",
    "for i in range(3):\n",
    "    u_diff = u_diffs[i]\n",
    "    std_diff = std_diffs[i]\n",
    "    u_false = u_falses[i]\n",
    "    std_false = std_falses[i]\n",
    "    u_missed = u_misseds[i]\n",
    "    std_missed = std_misseds[i]\n",
    "\n",
    "    axs[0].plot(scales, u_diff, label=f\"dataset {i+1}\", color=\"C0\", linestyle=style[i])\n",
    "    axs[0].fill_between(scales, u_diff-std_diff, u_diff+std_diff, alpha=0.1, color='C0', linestyle=style[i], label=\"standard deviation\")\n",
    "    # axs[0].set_xticks(scales)\n",
    "\n",
    "    axs[1].set_xlabel(\"Radius [px]\", fontsize=20)\n",
    "    axs[0].set_ylabel(\"Temporal Safety Margin [s]\", fontsize=20)\n",
    "    \n",
    "    handles, labels = axs[0].get_legend_handles_labels()\n",
    "    by_label = dict(zip(labels, handles))\n",
    "    axs[0].legend(by_label.values(), by_label.keys(), fontsize=15)\n",
    "\n",
    "    axs[1].plot(scales, u_false, label=f\"false dset{i+1}\", color=\"C0\", linestyle=style[i])\n",
    "    axs[1].fill_between(scales, u_false-std_false, u_false+std_false, alpha=0.1, label=f\"standard deviation\", color=\"C0\")\n",
    "    axs[1].set_ylabel(\"False detections\", fontsize=20)\n",
    "\n",
    "    \n",
    "    axs2.plot(scales, u_missed, marker='x', label=f\"missed dset{i+1}\", linestyle=style[i], color=\"orange\")\n",
    "    axs2.fill_between(scales, u_missed-std_missed, u_missed+std_missed, alpha=0.1, label=f\"standard deviation\", color=\"C1\")\n",
    "    axs2.set_ylabel(\"Missed detections\", fontsize=20)\n",
    "    axs2.set_ylim([-0.1*(3), 5])\n",
    "    # ax.set_xticks(scales)\n",
    "    # ax.set_yticks(n_detections)\n",
    "    # ymax = max(max(u_false + std_false), max(u_missed + std_missed))\n",
    "    # ax.set_ylim([-0.5, ymax + 0.5])\n",
    "    # ax.set_xscale('log')\n",
    "    # ax.set_xlabel(\"Base Threshold [ev/s]\", fontsize=20)\n",
    "    # # ax.set_ylabel(\"number of detections\", fontsize=20)\n",
    "    # ax.set_title(\"Detections\", fontsize=22);\n",
    "    handles, labels = axs[1].get_legend_handles_labels()\n",
    "    by_label = dict(zip(labels, handles))\n",
    "    axs[1].legend(by_label.values(), by_label.keys(), fontsize=15, loc=\"upper left\")\n",
    "    # axs[1].legend(loc=\"upper left\", fontsize=15)\n",
    "    handles, labels = axs2.get_legend_handles_labels()\n",
    "    by_label = dict(zip(labels, handles))\n",
    "    axs2.legend(by_label.values(), by_label.keys(), fontsize=15, loc=\"upper right\")\n",
    "    # axs2.legend(loc=\"upper right\", fontsize=15)\n",
    "plt.tight_layout()\n",
    "plt.savefig(\"/home/schiavazza/Pictures/fault_button/svg_final/pngs/stats_scale.png\")"
   ]
  },
  {
   "attachments": {},
   "cell_type": "markdown",
   "metadata": {},
   "source": [
    "The region size influences how early we can detect the intention to press the button. A larger region allows the detection of fast movements earlier, but it may introduce a larger number of false detections.\n",
    "\n",
    "The false and missed detection graph for the second dataset looks very different when compared to the other datasets. \n",
    "More specifically, in the other datasets the number of false detection decreases with the dimension of the roi considered. Smaller rois give better results in the other two datasets. \n",
    "\n",
    "In the second dataset, larger rois seem to perform better compared to smaller ones. The threshold has been adjusted for each dataset. The different results are likely caused by the different scenes. \n",
    "\n",
    "In the other two datasets, the image area where the button is located does not overlap with the working area of the person. In this dataset, the operator might move and do significant work in the space behind the button. When the detection area is kept small this causes more frequent false detections. Having a bigger detection area increases the robustness in these cases. On the other hand, fast movements in an area relatively more distant from the button might also trigger false detections."
   ]
  },
  {
   "cell_type": "code",
   "execution_count": 16,
   "metadata": {},
   "outputs": [
    {
     "name": "stdout",
     "output_type": "stream",
     "text": [
      "importIitYarp trying path: /home/schiavazza/data/hpe/fault_button/osai/fault_button/s1_v1\n",
      "Examining info.log: /home/schiavazza/data/hpe/fault_button/osai/fault_button/s1_v1/info.log\n",
      "[552, 277]\n",
      "Radius in px: 186\n"
     ]
    },
    {
     "name": "stderr",
     "output_type": "stream",
     "text": [
      "100%|██████████| 20/20 [00:08<00:00,  2.26it/s]\n",
      "/home/schiavazza/code/EDPR-APRIL/fault_button/eventrate_test/src/utils.py:476: VisibleDeprecationWarning: Creating an ndarray from ragged nested sequences (which is a list-or-tuple of lists-or-tuples-or ndarrays with different lengths or shapes) is deprecated. If you meant to do this, you must specify 'dtype=object' when creating the ndarray.\n",
      "  \n"
     ]
    },
    {
     "name": "stdout",
     "output_type": "stream",
     "text": [
      "importIitYarp trying path: /home/schiavazza/data/hpe/fault_button/osai/fault_button/s1_v2\n",
      "Examining info.log: /home/schiavazza/data/hpe/fault_button/osai/fault_button/s1_v2/info.log\n",
      "[552, 277]\n",
      "Radius in px: 186\n"
     ]
    },
    {
     "name": "stderr",
     "output_type": "stream",
     "text": [
      "100%|██████████| 20/20 [00:07<00:00,  2.85it/s]\n"
     ]
    },
    {
     "name": "stdout",
     "output_type": "stream",
     "text": [
      "importIitYarp trying path: /home/schiavazza/data/hpe/fault_button/osai/fault_button/s2_v1\n",
      "Examining info.log: /home/schiavazza/data/hpe/fault_button/osai/fault_button/s2_v1/info.log\n",
      "[552, 277]\n",
      "Radius in px: 186\n"
     ]
    },
    {
     "name": "stderr",
     "output_type": "stream",
     "text": [
      "100%|██████████| 20/20 [00:05<00:00,  4.00it/s]\n"
     ]
    },
    {
     "name": "stdout",
     "output_type": "stream",
     "text": [
      "importIitYarp trying path: /home/schiavazza/data/hpe/fault_button/osai/fault_button/s2_v2\n",
      "Examining info.log: /home/schiavazza/data/hpe/fault_button/osai/fault_button/s2_v2/info.log\n",
      "[552, 277]\n",
      "Radius in px: 186\n"
     ]
    },
    {
     "name": "stderr",
     "output_type": "stream",
     "text": [
      "100%|██████████| 20/20 [00:03<00:00,  5.46it/s]\n"
     ]
    },
    {
     "name": "stdout",
     "output_type": "stream",
     "text": [
      "importIitYarp trying path: /home/schiavazza/data/hpe/fault_button/april_exp/binary/long/button1\n",
      "Examining info.log: /home/schiavazza/data/hpe/fault_button/april_exp/binary/long/button1/info.log\n",
      "[301, 217]\n",
      "Radius in px: 418\n"
     ]
    },
    {
     "name": "stderr",
     "output_type": "stream",
     "text": [
      "100%|██████████| 20/20 [00:09<00:00,  2.20it/s]\n"
     ]
    },
    {
     "name": "stdout",
     "output_type": "stream",
     "text": [
      "importIitYarp trying path: /home/schiavazza/data/hpe/fault_button/april_exp/binary/long/button2\n",
      "Examining info.log: /home/schiavazza/data/hpe/fault_button/april_exp/binary/long/button2/info.log\n",
      "[301, 217]\n",
      "Radius in px: 418\n"
     ]
    },
    {
     "name": "stderr",
     "output_type": "stream",
     "text": [
      "100%|██████████| 20/20 [00:09<00:00,  2.08it/s]\n"
     ]
    },
    {
     "name": "stdout",
     "output_type": "stream",
     "text": [
      "importIitYarp trying path: /home/schiavazza/data/hpe/fault_button/april_exp/binary/long/button3\n",
      "Examining info.log: /home/schiavazza/data/hpe/fault_button/april_exp/binary/long/button3/info.log\n",
      "[301, 217]\n",
      "Radius in px: 418\n"
     ]
    },
    {
     "name": "stderr",
     "output_type": "stream",
     "text": [
      "100%|██████████| 20/20 [00:12<00:00,  1.62it/s]\n"
     ]
    },
    {
     "name": "stdout",
     "output_type": "stream",
     "text": [
      "importIitYarp trying path: /home/schiavazza/data/hpe/fault_button/april_exp/binary/long/button4\n",
      "Examining info.log: /home/schiavazza/data/hpe/fault_button/april_exp/binary/long/button4/info.log\n",
      "[301, 217]\n",
      "Radius in px: 418\n"
     ]
    },
    {
     "name": "stderr",
     "output_type": "stream",
     "text": [
      "100%|██████████| 20/20 [00:11<00:00,  1.71it/s]\n"
     ]
    }
   ],
   "source": [
    "scale = 1.0\n",
    "dataset_tres_ls = [10**(-x) for x in np.linspace(1, 4, 20)]\n",
    "base_thresh = 12\n",
    "n = 20\n",
    "\n",
    "# tmpPlotter = utils.Plotter(data_list1[0])\n",
    "# base_thresh = tmpPlotter.find_threshold(scale)\n",
    "# base_thresh_ls = base_thresh * thresh_multipliers\n",
    "\n",
    "total_diff = np.empty((n, ), dtype='object')\n",
    "total_missed = np.empty((n, ), dtype='object')\n",
    "total_false = np.empty((n, ), dtype='object')\n",
    "\n",
    "for path in data_list1:\n",
    "    plotter = utils.Plotter(path)\n",
    "    diffs, false_detections, missed_detections = plotter.compute_stats_tres(base_thresh, scale, dataset_tres_ls)\n",
    "\n",
    "    for i, t in enumerate(diffs):\n",
    "        total_diff[i] = np.append(total_diff[i], t)\n",
    "    for i, t in enumerate(false_detections):\n",
    "        total_false[i] = np.append(total_false[i], t)\n",
    "    for i, t in enumerate(missed_detections):\n",
    "        total_missed[i] = np.append(total_missed[i], t)\n",
    "\n",
    "u_diff1 = np.zeros((n,), dtype=float)\n",
    "std_diff1 = np.zeros((n,), dtype=float)\n",
    "\n",
    "u_false1 = np.zeros((n,), dtype=float)\n",
    "std_false1 = np.zeros((n,), dtype=float)\n",
    "\n",
    "u_missed1 = np.zeros((n,), dtype=float)\n",
    "std_missed1 = np.zeros((n,), dtype=float)\n",
    "\n",
    "\n",
    "for i, _ in enumerate(total_diff):\n",
    "    tmp = np.array(total_diff[i], dtype=float)\n",
    "    u_diff1[i] = np.nanmean(tmp)\n",
    "    std_diff1[i] = np.nanstd(tmp)\n",
    "\n",
    "    tmp = np.array(total_false[i], dtype=float)\n",
    "    u_false1[i] = np.nanmean(tmp)\n",
    "    std_false1[i] = np.nanstd(tmp)\n",
    "\n",
    "    tmp = np.array(total_missed[i], dtype=float)\n",
    "    u_missed1[i] = np.nanmean(tmp)\n",
    "    std_missed1[i] = np.nanstd(tmp)\n",
    "\n",
    "scale = 2.0\n",
    "dataset_tres_ls = [10**(-x) for x in np.linspace(1, 4, 20)]\n",
    "base_thresh = 9\n",
    "# tmpPlotter = utils.Plotter(data_list2[0])\n",
    "# base_thresh = tmpPlotter.find_threshold(scale)\n",
    "# base_thresh_ls = base_thresh * thresh_multipliers\n",
    "\n",
    "total_diff = np.empty((n, ), dtype='object')\n",
    "total_missed = np.empty((n, ), dtype='object')\n",
    "total_false = np.empty((n, ), dtype='object')\n",
    "\n",
    "for path in data_list2:\n",
    "    plotter = utils.Plotter(path)\n",
    "    diffs, false_detections, missed_detections = plotter.compute_stats_tres(base_thresh, scale, dataset_tres_ls)\n",
    "\n",
    "    for i, t in enumerate(diffs):\n",
    "        total_diff[i] = np.append(total_diff[i], t)\n",
    "    for i, t in enumerate(false_detections):\n",
    "        total_false[i] = np.append(total_false[i], t)\n",
    "    for i, t in enumerate(missed_detections):\n",
    "        total_missed[i] = np.append(total_missed[i], t)\n",
    "\n",
    "u_diff2 = np.zeros((n,), dtype=float)\n",
    "std_diff2 = np.zeros((n,), dtype=float)\n",
    "\n",
    "u_false2 = np.zeros((n,), dtype=float)\n",
    "std_false2 = np.zeros((n,), dtype=float)\n",
    "\n",
    "u_missed2 = np.zeros((n,), dtype=float)\n",
    "std_missed2 = np.zeros((n,), dtype=float)\n",
    "\n",
    "\n",
    "for i, _ in enumerate(total_diff):\n",
    "    tmp = np.array(total_diff[i], dtype=float)\n",
    "    u_diff2[i] = np.nanmean(tmp)\n",
    "    std_diff2[i] = np.nanstd(tmp)\n",
    "\n",
    "    tmp = np.array(total_false[i], dtype=float)\n",
    "    u_false2[i] = np.nanmean(tmp)\n",
    "    std_false2[i] = np.nanstd(tmp)\n",
    "\n",
    "    tmp = np.array(total_missed[i], dtype=float)\n",
    "    u_missed2[i] = np.nanmean(tmp)\n",
    "    std_missed2[i] = np.nanstd(tmp)\n"
   ]
  },
  {
   "cell_type": "code",
   "execution_count": 17,
   "metadata": {},
   "outputs": [
    {
     "name": "stdout",
     "output_type": "stream",
     "text": [
      "importIitYarp trying path: /home/schiavazza/data/hpe/fault_button/APRIL/exp01/data\n"
     ]
    },
    {
     "name": "stderr",
     "output_type": "stream",
     "text": [
      "  0%|          | 0/20781 [00:00<?, ?it/s]"
     ]
    },
    {
     "name": "stderr",
     "output_type": "stream",
     "text": [
      "100%|██████████| 20781/20781 [00:05<00:00, 3480.96it/s]\n"
     ]
    },
    {
     "name": "stdout",
     "output_type": "stream",
     "text": [
      "Examining info.log: /home/schiavazza/data/hpe/fault_button/APRIL/exp01/data/info.log\n",
      "[589, 366]\n",
      "Radius in px: 99\n"
     ]
    },
    {
     "name": "stderr",
     "output_type": "stream",
     "text": [
      "100%|██████████| 20/20 [00:00<00:00, 35.13it/s] \n"
     ]
    },
    {
     "name": "stdout",
     "output_type": "stream",
     "text": [
      "importIitYarp trying path: /home/schiavazza/data/hpe/fault_button/APRIL/exp02/data\n"
     ]
    },
    {
     "name": "stderr",
     "output_type": "stream",
     "text": [
      "100%|██████████| 50892/50892 [00:14<00:00, 3449.14it/s]\n"
     ]
    },
    {
     "name": "stdout",
     "output_type": "stream",
     "text": [
      "Examining info.log: /home/schiavazza/data/hpe/fault_button/APRIL/exp02/data/info.log\n",
      "[589, 366]\n",
      "Radius in px: 99\n"
     ]
    },
    {
     "name": "stderr",
     "output_type": "stream",
     "text": [
      "100%|██████████| 20/20 [00:00<00:00, 28.88it/s] \n"
     ]
    },
    {
     "name": "stdout",
     "output_type": "stream",
     "text": [
      "importIitYarp trying path: /home/schiavazza/data/hpe/fault_button/APRIL/exp03/data\n"
     ]
    },
    {
     "name": "stderr",
     "output_type": "stream",
     "text": [
      "100%|██████████| 38970/38970 [00:10<00:00, 3661.65it/s]\n"
     ]
    },
    {
     "name": "stdout",
     "output_type": "stream",
     "text": [
      "Examining info.log: /home/schiavazza/data/hpe/fault_button/APRIL/exp03/data/info.log\n",
      "[589, 366]\n",
      "Radius in px: 99\n"
     ]
    },
    {
     "name": "stderr",
     "output_type": "stream",
     "text": [
      "100%|██████████| 20/20 [00:00<00:00, 24.52it/s] \n"
     ]
    }
   ],
   "source": [
    "\n",
    "scale = 0.5\n",
    "dataset_tres_ls = [10**(-x) for x in np.linspace(1, 4, 20)]\n",
    "base_thresh = 1.4\n",
    "\n",
    "# tmpPlotter = utils.Plotter(data_list2[0])\n",
    "# base_thresh = tmpPlotter.find_threshold(scale)\n",
    "\n",
    "total_diff = np.empty((n, ), dtype='object')\n",
    "total_missed = np.empty((n, ), dtype='object')\n",
    "total_false = np.empty((n, ), dtype='object')\n",
    "\n",
    "for path in data_list3:\n",
    "    plotter = utils.Plotter(path)\n",
    "    diffs, false_detections, missed_detections = plotter.compute_stats_tres(base_thresh, scale, dataset_tres_ls)\n",
    "\n",
    "    for i, t in enumerate(diffs):\n",
    "        total_diff[i] = np.append(total_diff[i], t)\n",
    "    for i, t in enumerate(false_detections):\n",
    "        total_false[i] = np.append(total_false[i], t)\n",
    "    for i, t in enumerate(missed_detections):\n",
    "        total_missed[i] = np.append(total_missed[i], t)\n",
    "\n",
    "u_diff3 = np.zeros((n,), dtype=float)\n",
    "std_diff3 = np.zeros((n,), dtype=float)\n",
    "\n",
    "u_false3 = np.zeros((n,), dtype=float)\n",
    "std_false3 = np.zeros((n,), dtype=float)\n",
    "\n",
    "u_missed3 = np.zeros((n,), dtype=float)\n",
    "std_missed3 = np.zeros((n,), dtype=float)\n",
    "\n",
    "\n",
    "for i, _ in enumerate(total_diff):\n",
    "    tmp = np.array(total_diff[i], dtype=float)\n",
    "    u_diff3[i] = np.nanmean(tmp)\n",
    "    std_diff3[i] = np.nanstd(tmp)\n",
    "\n",
    "    tmp = np.array(total_false[i], dtype=float)\n",
    "    u_false3[i] = np.nanmean(tmp)\n",
    "    std_false3[i] = np.nanstd(tmp)\n",
    "\n",
    "    tmp = np.array(total_missed[i], dtype=float)\n",
    "    u_missed3[i] = np.nanmean(tmp)\n",
    "    std_missed3[i] = np.nanstd(tmp)"
   ]
  },
  {
   "cell_type": "code",
   "execution_count": 45,
   "metadata": {},
   "outputs": [
    {
     "data": {
      "image/png": "[encoded data removed]",
      "text/plain": [
       "<Figure size 864x648 with 3 Axes>"
      ]
     },
     "metadata": {
      "needs_background": "light"
     },
     "output_type": "display_data"
    }
   ],
   "source": [
    "import matplotlib.ticker as mticker\n",
    "\n",
    "fig, axs = plt.subplots(2, 1, figsize=(12, 9))\n",
    "\n",
    "dataset_tres_ls = [10**(-x) * 1e3 for x in np.linspace(1, 4, 20)]\n",
    "\n",
    "axs2 = axs[1].twinx()\n",
    "\n",
    "u_diffs = [u_diff1, u_diff2, u_diff3]\n",
    "std_diffs = [std_diff1, std_diff2, std_diff3]\n",
    "u_falses = [u_false1, u_false2, u_false3]\n",
    "std_falses = [std_false1, std_false2, std_false3]\n",
    "u_misseds = [u_missed1, u_missed2, u_missed3]\n",
    "std_misseds = [std_missed1, std_missed2, std_missed3]\n",
    "style = [\"solid\", \"dotted\", \"dashed\"]\n",
    "\n",
    "for i in range(3):\n",
    "    u_diff = u_diffs[i]\n",
    "    std_diff = std_diffs[i]\n",
    "    u_false = u_falses[i]\n",
    "    std_false = std_falses[i]\n",
    "    u_missed = u_misseds[i]\n",
    "    std_missed = std_misseds[i]\n",
    "    # dataset_tres_ls = np.array(dataset_tres_ls) * 1e3\n",
    "    axs[0].plot(dataset_tres_ls, u_diff, color='C0', linestyle=style[i], label=f\"dataset {i+1}\")\n",
    "    axs[0].fill_between(dataset_tres_ls, u_diff-std_diff, u_diff+std_diff, alpha=0.1, color='C0', label=\"standard deviation\")\n",
    "\n",
    "    axs[1].set_xlabel(\"Bin Size [ms]\", fontsize=20)\n",
    "    axs[0].set_ylabel(\"Temporal Safety Margin [s]\", fontsize=20)\n",
    "    axs[0].set_xscale('log')\n",
    "    # axs[0].set_xticks(dataset_tres_ls)\n",
    "    axs[0].get_xaxis().set_major_formatter(mticker.ScalarFormatter())\n",
    "    # axs[0].ticklabel_format(useOffset=False, style='plain')\n",
    "\n",
    "\n",
    "    handles, labels = axs[0].get_legend_handles_labels()\n",
    "    by_label = dict(zip(labels, handles))\n",
    "    axs[0].legend(by_label.values(), by_label.keys(), fontsize=15)\n",
    "\n",
    "    axs[1].plot(dataset_tres_ls, u_false, label=f\"false dset{i+1}\", linestyle=style[i], color=\"C0\")\n",
    "    axs[1].fill_between(dataset_tres_ls, u_false-std_false, u_false+std_false, alpha=0.1, label=f\"standard deviation\", color='C0')\n",
    "    axs[1].set_ylabel(\"# False detections\", fontsize=20)\n",
    "    axs[1].set_xscale('log')\n",
    "    axs[1].get_xaxis().set_major_formatter(mticker.ScalarFormatter())\n",
    "\n",
    "    \n",
    "    axs2.plot(dataset_tres_ls, u_missed,marker=\"x\", label=f\"missed dset{i+1}\", linestyle=style[i], color=\"C1\")\n",
    "    axs2.fill_between(dataset_tres_ls, u_missed-std_missed, u_missed+std_missed, alpha=0.1, label=f\"standard deviation\", color=\"C1\")\n",
    "    axs2.set_ylabel(\"# Missed detections\", fontsize=20)\n",
    "    axs2.set_ylim([-0.1*(3), 5])\n",
    "    \n",
    "    handles, labels = axs[1].get_legend_handles_labels()\n",
    "    by_label = dict(zip(labels, handles))\n",
    "    axs[1].legend(by_label.values(), by_label.keys(), fontsize=15, loc=\"upper left\")\n",
    "    # axs[1].legend(loc=\"upper left\", fontsize=15)\n",
    "    handles, labels = axs2.get_legend_handles_labels()\n",
    "    by_label = dict(zip(labels, handles))\n",
    "    axs2.legend(by_label.values(), by_label.keys(), fontsize=15, loc=\"upper right\")\n",
    "    # axs2.legend(loc=\"upper right\", fontsize=15)\n",
    "\n",
    "plt.tight_layout()\n",
    "plt.savefig(\"/home/schiavazza/Pictures/fault_button/svg_final/pngs/stats_tres.png\")"
   ]
  },
  {
   "attachments": {},
   "cell_type": "markdown",
   "metadata": {},
   "source": [
    "For each dataset, we manually selected the region size $r$ and the detection threshold $T$. We vary the temporal period $k$ to observe the effects on the detection. \n",
    "\n",
    "For all the datasets the time difference measured decreases for longer temporal periods. The difference in absolute values across the datasets is caused by different region sizes to fit each dataset.\n",
    "\n",
    "On the other hand, smaller time periods cause the measurement to be more noisy. For all datasets, the number of false detections increases for smaller temporal periods due to noisy spikes in the event rate."
   ]
  },
  {
   "cell_type": "code",
   "execution_count": 3,
   "metadata": {},
   "outputs": [
    {
     "name": "stdout",
     "output_type": "stream",
     "text": [
      "importIitYarp trying path: /home/schiavazza/data/hpe/fault_button/osai/fault_button/s1_v1\n",
      "Examining info.log: /home/schiavazza/data/hpe/fault_button/osai/fault_button/s1_v1/info.log\n",
      "[552, 277]\n"
     ]
    }
   ],
   "source": [
    "# %prun plotter = utils.Plotter('/home/schiavazza/data/hpe/fault_button/s1_v1')\n",
    "plotter = utils.Plotter(data_list1[0])"
   ]
  },
  {
   "cell_type": "code",
   "execution_count": 4,
   "metadata": {},
   "outputs": [
    {
     "name": "stdout",
     "output_type": "stream",
     "text": [
      "[ 88.853898 123.339596 139.084225]\n"
     ]
    }
   ],
   "source": [
    "print(plotter.press_timing[:, 0] + 77.43874800000003)"
   ]
  },
  {
   "cell_type": "code",
   "execution_count": 5,
   "metadata": {},
   "outputs": [
    {
     "name": "stdout",
     "output_type": "stream",
     "text": [
      "Radius in px: 186\n",
      "Threshold: 10033.8, base threshold: 11.719538404036628\n",
      "Radius in px: 186\n",
      "Roi area: 85616px / 307200, ratio: 0.27869791666666666\n"
     ]
    },
    {
     "data": {
      "image/png": "[encoded data removed]",
      "text/plain": [
       "<Figure size 864x432 with 1 Axes>"
      ]
     },
     "metadata": {
      "needs_background": "light"
     },
     "output_type": "display_data"
    }
   ],
   "source": [
    "# fig, axs = plt.subplots(1, 2, figsize=(18, 9))\n",
    "\n",
    "base_thresh = plotter.find_threshold(scale=1.0, p=0.7)\n",
    "plotter.plot_hist(base_thresh, scale=1.0, dataset_tres=0.01, sequence_name=\"s1_v1\")\n",
    "\n",
    "ax = plt.gca()"
   ]
  },
  {
   "cell_type": "code",
   "execution_count": 6,
   "metadata": {},
   "outputs": [
    {
     "name": "stdout",
     "output_type": "stream",
     "text": [
      "Radius in px: 186\n",
      "Threshold: 10033.8, base threshold: 11.719538404036628\n",
      "Radius in px: 186\n",
      "Roi area: 85616px / 307200, ratio: 0.27869791666666666\n"
     ]
    },
    {
     "data": {
      "image/png": "[encoded data removed]",
      "text/plain": [
       "<Figure size 864x432 with 1 Axes>"
      ]
     },
     "metadata": {
      "needs_background": "light"
     },
     "output_type": "display_data"
    }
   ],
   "source": [
    "# fig, axs = plt.subplots(1, 2, figsize=(18, 9))\n",
    "\n",
    "base_thresh = plotter.find_threshold(scale=1.0, p=0.7)\n",
    "plotter.plot_hist(base_thresh, scale=1.0, dataset_tres=0.01, sequence_name=\"s1_v1\", t_start=10.5, t_end=12)\n",
    "\n",
    "ax2 = plt.gca()"
   ]
  },
  {
   "cell_type": "code",
   "execution_count": 11,
   "metadata": {},
   "outputs": [
    {
     "name": "stdout",
     "output_type": "stream",
     "text": [
      "Radius in px: 186\n",
      "Roi area: 85616px / 307200, ratio: 0.27869791666666666\n",
      "Radius in px: 186\n",
      "Roi area: 85616px / 307200, ratio: 0.27869791666666666\n"
     ]
    },
    {
     "data": {
      "image/png": "[encoded data removed]",
      "text/plain": [
       "<Figure size 1296x864 with 2 Axes>"
      ]
     },
     "metadata": {
      "needs_background": "light"
     },
     "output_type": "display_data"
    }
   ],
   "source": [
    "fig, axs = plt.subplots(2, 1, figsize=(18, 12))\n",
    "\n",
    "# base_thresh = plotter.find_threshold(scale=1.0, p=0.7)\n",
    "base_thresh = 8.184321848907821\n",
    "base_thresh = 12\n",
    "plotter.plot_hist_ax(axs[0], base_thresh, scale=1.0, dataset_tres=0.01, sequence_name=\"s1_v1\", show_presses=True, show_detections=False)\n",
    "\n",
    "plotter.plot_hist_ax(axs[1], base_thresh, scale=1.0, dataset_tres=0.01, sequence_name=\"s1_v1\", t_start=10, t_end=15, vline=True)\n",
    "\n",
    "axs[1].set_xlabel(\"Time [s]\", fontsize=20)\n",
    "\n",
    "lines, labels = fig.axes[1].get_legend_handles_labels()\n",
    "plt.legend(lines,labels, ncol=3, fontsize=15)\n",
    "\n",
    "axs[0].set_ylabel(\"# Events\", fontsize=20)\n",
    "axs[1].set_ylabel(\"# Events\", fontsize=20)\n",
    "\n",
    "plt.tight_layout()\n",
    "plt.savefig(\"/home/schiavazza/Pictures/fault_button/svg_final/pngs/histogram.png\")\n"
   ]
  },
  {
   "cell_type": "code",
   "execution_count": null,
   "metadata": {},
   "outputs": [],
   "source": []
  }
 ],
 "metadata": {
  "kernelspec": {
   "display_name": "Python 3",
   "language": "python",
   "name": "python3"
  },
  "language_info": {
   "codemirror_mode": {
    "name": "ipython",
    "version": 3
   },
   "file_extension": ".py",
   "mimetype": "text/x-python",
   "name": "python",
   "nbconvert_exporter": "python",
   "pygments_lexer": "ipython3",
   "version": "3.10.12"
  },
  "orig_nbformat": 4
 },
 "nbformat": 4,
 "nbformat_minor": 2
}
