{
 "cells": [
  {
   "cell_type": "code",
   "execution_count": 3,
   "metadata": {},
   "outputs": [
    {
     "name": "stdout",
     "output_type": "stream",
     "text": [
      "Using default path: /home/aglover/HPE/data/fault_button/s1_v1\n",
      "importIitYarp trying path: /home/aglover/HPE/data/fault_button/s1_v1\n",
      "importIitYarp trying path: /home/aglover/HPE/data/fault_button/s1_v1/ATIS\n",
      "could not import data\n"
     ]
    }
   ],
   "source": [
    "import argparse\n",
    "parser = argparse.ArgumentParser()\n",
    "parser.add_argument('--data',  dest='data', type=str, required=False, help='Path to input data')\n",
    "args = parser.parse_args(\"\")\n",
    "\n",
    "## import data\n",
    "if args.data is None:\n",
    "    print(\"Using default path: /home/aglover/HPE/data/fault_button/s1_v1\")\n",
    "    args.data = \"/home/aglover/HPE/data/fault_button/s1_v1\"\n",
    "\n",
    "from bimvee.importIitYarp import importIitYarp\n",
    "\n",
    "try:\n",
    "    events = importIitYarp(filePathOrName=args.data)\n",
    "except:\n",
    "    print(\"could not import data\")\n",
    "    exit"
   ]
  },
  {
   "cell_type": "code",
   "execution_count": 9,
   "metadata": {},
   "outputs": [],
   "source": [
    "import csv\n",
    "\n",
    "with open(args.data + \"/ground_truth.csv\", newline='') as csvfile:\n",
    "    #spamreader = csv.reader(csvfile, delimiter=' ', quotechar='|')\n",
    "    gt = [float(row.split()[0]) for row in csvfile]\n",
    "\n"
   ]
  },
  {
   "cell_type": "code",
   "execution_count": 11,
   "metadata": {},
   "outputs": [
    {
     "data": {
      "text/plain": [
       "[<matplotlib.lines.Line2D at 0x7f684da60e50>]"
      ]
     },
     "execution_count": 11,
     "metadata": {},
     "output_type": "execute_result"
    },
    {
     "data": {
      "image/png": "[encoded data removed]",
      "text/plain": [
       "<Figure size 432x288 with 1 Axes>"
      ]
     },
     "metadata": {
      "needs_background": "light"
     },
     "output_type": "display_data"
    }
   ],
   "source": [
    "import matplotlib.pyplot as plt\n",
    "import math\n",
    "\n",
    "ts = events['data']['left']['dvs']['ts']\n",
    "\n",
    "dataset_tlen = ts[-1] - ts[0]\n",
    "dataset_tres = 0.3\n",
    "hist_bins = math.ceil(dataset_tlen / dataset_tres)\n",
    "\n",
    "#plt.plot(ts, bins=10)\n",
    "\n",
    "plt.hist(ts, bins=hist_bins)\n",
    "plt.plot(gt, [1e6 for x in gt], 'x')\n",
    "\n",
    "\n",
    "\n"
   ]
  }
 ],
 "metadata": {
  "kernelspec": {
   "display_name": "Python 3",
   "language": "python",
   "name": "python3"
  },
  "language_info": {
   "codemirror_mode": {
    "name": "ipython",
    "version": 3
   },
   "file_extension": ".py",
   "mimetype": "text/x-python",
   "name": "python",
   "nbconvert_exporter": "python",
   "pygments_lexer": "ipython3",
   "version": "3.8.10"
  },
  "orig_nbformat": 4
 },
 "nbformat": 4,
 "nbformat_minor": 2
}
